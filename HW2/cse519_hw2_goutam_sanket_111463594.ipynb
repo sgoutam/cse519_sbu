{
 "cells": [
  {
   "cell_type": "markdown",
   "metadata": {},
   "source": [
    "# CSE519: HW2_Sanket_Goutam"
   ]
  },
  {
   "cell_type": "markdown",
   "metadata": {
    "id": "Alr9A33BXHvP"
   },
   "source": [
    "## <u>**Use the \"Text\" blocks to provide explanations wherever you find them necessary. Highlight your answers inside these text fields to ensure that we don't miss it while grading your HW.**</u> "
   ]
  },
  {
   "cell_type": "markdown",
   "metadata": {
    "id": "vIOjh3AvYWxH"
   },
   "source": [
    "## **Setup**\n",
    "\n",
    "- Dataset downloaded directly and saved locally"
   ]
  },
  {
   "cell_type": "code",
   "execution_count": 1,
   "metadata": {
    "colab": {
     "base_uri": "https://localhost:8080/"
    },
    "id": "BRcVxAIPWpWb",
    "outputId": "aeffdbb5-b827-4d5c-d9e3-b2bd2a696bce"
   },
   "outputs": [],
   "source": [
    "import pandas as pd\n",
    "import numpy as np\n",
    "import random\n",
    "\n",
    "# Display format for float values\n",
    "pd.set_option('float_format', '{:f}'.format)\n",
    "\n",
    "import seaborn as sns\n",
    "import matplotlib.pyplot as plt\n",
    "from scipy.stats import pearsonr\n",
    "from matplotlib.ticker import PercentFormatter"
   ]
  },
  {
   "cell_type": "markdown",
   "metadata": {
    "id": "8GtADEq4Zw1g"
   },
   "source": [
    "## **Section 1: Library and Data Imports (Q1)**\n",
    "\n",
    "- Import your libraries and read the data into a dataframe. Print the head of the dataframe. "
   ]
  },
  {
   "cell_type": "code",
   "execution_count": 2,
   "metadata": {
    "id": "uXHCH_wAXyEf"
   },
   "outputs": [],
   "source": [
    "use_cols = [\"MachineIdentifier\", \"SmartScreen\", \"AVProductsInstalled\", \"AppVersion\", \"CountryIdentifier\", \"Census_OSInstallTypeName\", \"Wdft_IsGamer\",\n",
    "           \"EngineVersion\", \"AVProductStatesIdentifier\", \"Census_OSVersion\", \"Census_TotalPhysicalRAM\", \"Census_ActivationChannel\",\n",
    "           \"RtpStateBitfield\", \"Census_ProcessorModelIdentifier\", \"Census_PrimaryDiskTotalCapacity\", \n",
    "            \"Census_InternalPrimaryDiagonalDisplaySizeInInches\", \"Wdft_RegionIdentifier\", \"LocaleEnglishNameIdentifier\",\n",
    "           \"AvSigVersion\", \"IeVerIdentifier\", \"IsProtected\", \"Census_InternalPrimaryDisplayResolutionVertical\", \"Census_PrimaryDiskTypeName\",\n",
    "            \"Census_OSWUAutoUpdateOptionsName\", \"Census_OSEdition\", \"Census_GenuineStateName\", \"Census_ProcessorCoreCount\", \n",
    "           \"Census_OEMNameIdentifier\", \"Census_MDC2FormFactor\", \"Census_FirmwareManufacturerIdentifier\", \"OsBuildLab\", \"Census_OSBuildRevision\", \n",
    "            \"Census_OSBuildNumber\", \"Census_IsPenCapable\", \"Census_IsTouchEnabled\", \"Census_IsAlwaysOnAlwaysConnectedCapable\", \"Census_IsSecureBootEnabled\", \n",
    "            \"Census_SystemVolumeTotalCapacity\", \"Census_PrimaryDiskTotalCapacity\", \"HasDetections\"\n",
    "           ]\n",
    "dtypes = {\n",
    "        'MachineIdentifier':                                    'category',\n",
    "        'ProductName':                                          'category',\n",
    "        'EngineVersion':                                        'category',\n",
    "        'AppVersion':                                           'category',\n",
    "        'AvSigVersion':                                         'category',\n",
    "        'IsBeta':                                               'int8',\n",
    "        'RtpStateBitfield':                                     'float16',\n",
    "        'IsSxsPassiveMode':                                     'int8',\n",
    "        'DefaultBrowsersIdentifier':                            'float16',\n",
    "        'AVProductStatesIdentifier':                            'float32',\n",
    "        'AVProductsInstalled':                                  'float16',\n",
    "        'AVProductsEnabled':                                    'float16',\n",
    "        'HasTpm':                                               'int8',\n",
    "        'CountryIdentifier':                                    'int16',\n",
    "        'CityIdentifier':                                       'float32',\n",
    "        'OrganizationIdentifier':                               'float16',\n",
    "        'GeoNameIdentifier':                                    'float16',\n",
    "        'LocaleEnglishNameIdentifier':                          'int8',\n",
    "        'Platform':                                             'category',\n",
    "        'Processor':                                            'category',\n",
    "        'OsVer':                                                'category',\n",
    "        'OsBuild':                                              'int16',\n",
    "        'OsSuite':                                              'int16',\n",
    "        'OsPlatformSubRelease':                                 'category',\n",
    "        'OsBuildLab':                                           'category',\n",
    "        'SkuEdition':                                           'category',\n",
    "        'IsProtected':                                          'float16',\n",
    "        'AutoSampleOptIn':                                      'int8',\n",
    "        'PuaMode':                                              'category',\n",
    "        'SMode':                                                'float16',\n",
    "        'IeVerIdentifier':                                      'float16',\n",
    "        'SmartScreen':                                          'category',\n",
    "        'Firewall':                                             'float16',\n",
    "        'UacLuaenable':                                         'float32',\n",
    "        'Census_MDC2FormFactor':                                'category',\n",
    "        'Census_DeviceFamily':                                  'category',\n",
    "        'Census_OEMNameIdentifier':                             'float16',\n",
    "        'Census_OEMModelIdentifier':                            'float32',\n",
    "        'Census_ProcessorCoreCount':                            'float16',\n",
    "        'Census_ProcessorManufacturerIdentifier':               'float16',\n",
    "        'Census_ProcessorModelIdentifier':                      'float16',\n",
    "        'Census_ProcessorClass':                                'category',\n",
    "        'Census_PrimaryDiskTotalCapacity':                      'float32',\n",
    "        'Census_PrimaryDiskTypeName':                           'category',\n",
    "        'Census_SystemVolumeTotalCapacity':                     'float32',\n",
    "        'Census_HasOpticalDiskDrive':                           'int8',\n",
    "        'Census_TotalPhysicalRAM':                              'float32',\n",
    "        'Census_ChassisTypeName':                               'category',\n",
    "        'Census_InternalPrimaryDiagonalDisplaySizeInInches':    'float16',\n",
    "        'Census_InternalPrimaryDisplayResolutionHorizontal':    'float16',\n",
    "        'Census_InternalPrimaryDisplayResolutionVertical':      'float16',\n",
    "        'Census_PowerPlatformRoleName':                         'category',\n",
    "        'Census_InternalBatteryType':                           'category',\n",
    "        'Census_InternalBatteryNumberOfCharges':                'float32',\n",
    "        'Census_OSVersion':                                     'category',\n",
    "        'Census_OSArchitecture':                                'category',\n",
    "        'Census_OSBranch':                                      'category',\n",
    "        'Census_OSBuildNumber':                                 'int16',\n",
    "        'Census_OSBuildRevision':                               'int32',\n",
    "        'Census_OSEdition':                                     'category',\n",
    "        'Census_OSSkuName':                                     'category',\n",
    "        'Census_OSInstallTypeName':                             'category',\n",
    "        'Census_OSInstallLanguageIdentifier':                   'float16',\n",
    "        'Census_OSUILocaleIdentifier':                          'int16',\n",
    "        'Census_OSWUAutoUpdateOptionsName':                     'category',\n",
    "        'Census_IsPortableOperatingSystem':                     'int8',\n",
    "        'Census_GenuineStateName':                              'category',\n",
    "        'Census_ActivationChannel':                             'category',\n",
    "        'Census_IsFlightingInternal':                           'float16',\n",
    "        'Census_IsFlightsDisabled':                             'float16',\n",
    "        'Census_FlightRing':                                    'category',\n",
    "        'Census_ThresholdOptIn':                                'float16',\n",
    "        'Census_FirmwareManufacturerIdentifier':                'float16',\n",
    "        'Census_FirmwareVersionIdentifier':                     'float32',\n",
    "        'Census_IsSecureBootEnabled':                           'int8',\n",
    "        'Census_IsWIMBootEnabled':                              'float16',\n",
    "        'Census_IsVirtualDevice':                               'float16',\n",
    "        'Census_IsTouchEnabled':                                'int8',\n",
    "        'Census_IsPenCapable':                                  'int8',\n",
    "        'Census_IsAlwaysOnAlwaysConnectedCapable':              'float16',\n",
    "        'Wdft_IsGamer':                                         'float16',\n",
    "        'Wdft_RegionIdentifier':                                'float16'        \n",
    "        }"
   ]
  },
  {
   "cell_type": "markdown",
   "metadata": {},
   "source": [
    "Create a sample size from the data set, chosen randomly, for initial analysis.\n",
    "This is done so as to reduce the load on the system for processing the data."
   ]
  },
  {
   "cell_type": "code",
   "execution_count": 3,
   "metadata": {},
   "outputs": [],
   "source": [
    "# Sampling random records from the dataset\n",
    "\n",
    "n = 8921483 #number of records in file\n",
    "s = int(n/8) #desired sample size\n",
    "\n",
    "skip = sorted(random.sample(range(1,n+1),n-s)) \n",
    "\n",
    "# Uncomment below line to load entire dataset\n",
    "skip = 0"
   ]
  },
  {
   "cell_type": "code",
   "execution_count": 4,
   "metadata": {},
   "outputs": [],
   "source": [
    "# Read csv file into a dataframe with the selected columns\n",
    "filename = 'train.csv'\n",
    "# load for select questions\n",
    "data = pd.read_csv(filename, usecols = lambda x:x in use_cols, dtype = dtypes, skiprows=skip)"
   ]
  },
  {
   "cell_type": "markdown",
   "metadata": {},
   "source": [
    "Let's learn more about this dataframe. Let's look at what then dataframe looks like and how many rows have been loaded. But before, we need to set the index for the dataframe."
   ]
  },
  {
   "cell_type": "code",
   "execution_count": 5,
   "metadata": {},
   "outputs": [],
   "source": [
    "# Set 'MachineIdentifier' as the Index for the dataframe\n",
    "data.set_index('MachineIdentifier', inplace=True)"
   ]
  },
  {
   "cell_type": "code",
   "execution_count": 8,
   "metadata": {},
   "outputs": [
    {
     "data": {
      "text/plain": [
       "(1000000, 38)"
      ]
     },
     "execution_count": 8,
     "metadata": {},
     "output_type": "execute_result"
    }
   ],
   "source": [
    "data.shape"
   ]
  },
  {
   "cell_type": "code",
   "execution_count": 9,
   "metadata": {},
   "outputs": [
    {
     "data": {
      "text/html": [
       "<div>\n",
       "<style scoped>\n",
       "    .dataframe tbody tr th:only-of-type {\n",
       "        vertical-align: middle;\n",
       "    }\n",
       "\n",
       "    .dataframe tbody tr th {\n",
       "        vertical-align: top;\n",
       "    }\n",
       "\n",
       "    .dataframe thead th {\n",
       "        text-align: right;\n",
       "    }\n",
       "</style>\n",
       "<table border=\"1\" class=\"dataframe\">\n",
       "  <thead>\n",
       "    <tr style=\"text-align: right;\">\n",
       "      <th></th>\n",
       "      <th>RtpStateBitfield</th>\n",
       "      <th>AVProductStatesIdentifier</th>\n",
       "      <th>AVProductsInstalled</th>\n",
       "      <th>CountryIdentifier</th>\n",
       "      <th>LocaleEnglishNameIdentifier</th>\n",
       "      <th>IsProtected</th>\n",
       "      <th>IeVerIdentifier</th>\n",
       "      <th>Census_OEMNameIdentifier</th>\n",
       "      <th>Census_ProcessorCoreCount</th>\n",
       "      <th>Census_ProcessorModelIdentifier</th>\n",
       "      <th>...</th>\n",
       "      <th>Census_OSBuildNumber</th>\n",
       "      <th>Census_OSBuildRevision</th>\n",
       "      <th>Census_FirmwareManufacturerIdentifier</th>\n",
       "      <th>Census_IsSecureBootEnabled</th>\n",
       "      <th>Census_IsTouchEnabled</th>\n",
       "      <th>Census_IsPenCapable</th>\n",
       "      <th>Census_IsAlwaysOnAlwaysConnectedCapable</th>\n",
       "      <th>Wdft_IsGamer</th>\n",
       "      <th>Wdft_RegionIdentifier</th>\n",
       "      <th>HasDetections</th>\n",
       "    </tr>\n",
       "  </thead>\n",
       "  <tbody>\n",
       "    <tr>\n",
       "      <th>count</th>\n",
       "      <td>996293.000000</td>\n",
       "      <td>995965.000000</td>\n",
       "      <td>995965.000000</td>\n",
       "      <td>1000000.000000</td>\n",
       "      <td>1000000.000000</td>\n",
       "      <td>995987.000000</td>\n",
       "      <td>993302.000000</td>\n",
       "      <td>989177.000000</td>\n",
       "      <td>995353.000000</td>\n",
       "      <td>995350.000000</td>\n",
       "      <td>...</td>\n",
       "      <td>1000000.000000</td>\n",
       "      <td>1000000.000000</td>\n",
       "      <td>979465.000000</td>\n",
       "      <td>1000000.000000</td>\n",
       "      <td>1000000.000000</td>\n",
       "      <td>1000000.000000</td>\n",
       "      <td>991954.000000</td>\n",
       "      <td>965828.000000</td>\n",
       "      <td>965828.000000</td>\n",
       "      <td>1000000.000000</td>\n",
       "    </tr>\n",
       "    <tr>\n",
       "      <th>mean</th>\n",
       "      <td>NaN</td>\n",
       "      <td>47777.648438</td>\n",
       "      <td>NaN</td>\n",
       "      <td>108.058341</td>\n",
       "      <td>27.854385</td>\n",
       "      <td>NaN</td>\n",
       "      <td>NaN</td>\n",
       "      <td>NaN</td>\n",
       "      <td>NaN</td>\n",
       "      <td>NaN</td>\n",
       "      <td>...</td>\n",
       "      <td>15831.305397</td>\n",
       "      <td>980.024081</td>\n",
       "      <td>NaN</td>\n",
       "      <td>0.486126</td>\n",
       "      <td>0.126244</td>\n",
       "      <td>0.038246</td>\n",
       "      <td>0.057587</td>\n",
       "      <td>NaN</td>\n",
       "      <td>NaN</td>\n",
       "      <td>0.499665</td>\n",
       "    </tr>\n",
       "    <tr>\n",
       "      <th>std</th>\n",
       "      <td>0.000000</td>\n",
       "      <td>14035.049805</td>\n",
       "      <td>0.000000</td>\n",
       "      <td>63.017084</td>\n",
       "      <td>65.606418</td>\n",
       "      <td>0.000000</td>\n",
       "      <td>NaN</td>\n",
       "      <td>NaN</td>\n",
       "      <td>0.000000</td>\n",
       "      <td>NaN</td>\n",
       "      <td>...</td>\n",
       "      <td>1966.159608</td>\n",
       "      <td>2951.676927</td>\n",
       "      <td>NaN</td>\n",
       "      <td>0.499808</td>\n",
       "      <td>0.332124</td>\n",
       "      <td>0.191790</td>\n",
       "      <td>0.233154</td>\n",
       "      <td>0.000000</td>\n",
       "      <td>0.000000</td>\n",
       "      <td>0.500000</td>\n",
       "    </tr>\n",
       "    <tr>\n",
       "      <th>min</th>\n",
       "      <td>0.000000</td>\n",
       "      <td>16.000000</td>\n",
       "      <td>0.000000</td>\n",
       "      <td>1.000000</td>\n",
       "      <td>-127.000000</td>\n",
       "      <td>0.000000</td>\n",
       "      <td>1.000000</td>\n",
       "      <td>15.000000</td>\n",
       "      <td>1.000000</td>\n",
       "      <td>3.000000</td>\n",
       "      <td>...</td>\n",
       "      <td>7601.000000</td>\n",
       "      <td>0.000000</td>\n",
       "      <td>9.000000</td>\n",
       "      <td>0.000000</td>\n",
       "      <td>0.000000</td>\n",
       "      <td>0.000000</td>\n",
       "      <td>0.000000</td>\n",
       "      <td>0.000000</td>\n",
       "      <td>1.000000</td>\n",
       "      <td>0.000000</td>\n",
       "    </tr>\n",
       "    <tr>\n",
       "      <th>25%</th>\n",
       "      <td>7.000000</td>\n",
       "      <td>49480.000000</td>\n",
       "      <td>1.000000</td>\n",
       "      <td>51.000000</td>\n",
       "      <td>-29.000000</td>\n",
       "      <td>1.000000</td>\n",
       "      <td>111.000000</td>\n",
       "      <td>1443.000000</td>\n",
       "      <td>2.000000</td>\n",
       "      <td>1998.000000</td>\n",
       "      <td>...</td>\n",
       "      <td>15063.000000</td>\n",
       "      <td>165.000000</td>\n",
       "      <td>142.000000</td>\n",
       "      <td>0.000000</td>\n",
       "      <td>0.000000</td>\n",
       "      <td>0.000000</td>\n",
       "      <td>0.000000</td>\n",
       "      <td>0.000000</td>\n",
       "      <td>3.000000</td>\n",
       "      <td>0.000000</td>\n",
       "    </tr>\n",
       "    <tr>\n",
       "      <th>50%</th>\n",
       "      <td>7.000000</td>\n",
       "      <td>53447.000000</td>\n",
       "      <td>1.000000</td>\n",
       "      <td>97.000000</td>\n",
       "      <td>58.000000</td>\n",
       "      <td>1.000000</td>\n",
       "      <td>117.000000</td>\n",
       "      <td>2102.000000</td>\n",
       "      <td>4.000000</td>\n",
       "      <td>2500.000000</td>\n",
       "      <td>...</td>\n",
       "      <td>16299.000000</td>\n",
       "      <td>285.000000</td>\n",
       "      <td>500.000000</td>\n",
       "      <td>0.000000</td>\n",
       "      <td>0.000000</td>\n",
       "      <td>0.000000</td>\n",
       "      <td>0.000000</td>\n",
       "      <td>0.000000</td>\n",
       "      <td>10.000000</td>\n",
       "      <td>0.000000</td>\n",
       "    </tr>\n",
       "    <tr>\n",
       "      <th>75%</th>\n",
       "      <td>7.000000</td>\n",
       "      <td>53447.000000</td>\n",
       "      <td>2.000000</td>\n",
       "      <td>162.000000</td>\n",
       "      <td>75.000000</td>\n",
       "      <td>1.000000</td>\n",
       "      <td>137.000000</td>\n",
       "      <td>2668.000000</td>\n",
       "      <td>4.000000</td>\n",
       "      <td>2874.000000</td>\n",
       "      <td>...</td>\n",
       "      <td>17134.000000</td>\n",
       "      <td>547.000000</td>\n",
       "      <td>556.000000</td>\n",
       "      <td>1.000000</td>\n",
       "      <td>0.000000</td>\n",
       "      <td>0.000000</td>\n",
       "      <td>0.000000</td>\n",
       "      <td>1.000000</td>\n",
       "      <td>11.000000</td>\n",
       "      <td>1.000000</td>\n",
       "    </tr>\n",
       "    <tr>\n",
       "      <th>max</th>\n",
       "      <td>35.000000</td>\n",
       "      <td>70507.000000</td>\n",
       "      <td>6.000000</td>\n",
       "      <td>222.000000</td>\n",
       "      <td>126.000000</td>\n",
       "      <td>1.000000</td>\n",
       "      <td>429.000000</td>\n",
       "      <td>6144.000000</td>\n",
       "      <td>112.000000</td>\n",
       "      <td>4480.000000</td>\n",
       "      <td>...</td>\n",
       "      <td>18242.000000</td>\n",
       "      <td>24214.000000</td>\n",
       "      <td>1084.000000</td>\n",
       "      <td>1.000000</td>\n",
       "      <td>1.000000</td>\n",
       "      <td>1.000000</td>\n",
       "      <td>1.000000</td>\n",
       "      <td>1.000000</td>\n",
       "      <td>15.000000</td>\n",
       "      <td>1.000000</td>\n",
       "    </tr>\n",
       "  </tbody>\n",
       "</table>\n",
       "<p>8 rows × 25 columns</p>\n",
       "</div>"
      ],
      "text/plain": [
       "       RtpStateBitfield  AVProductStatesIdentifier  AVProductsInstalled  \\\n",
       "count     996293.000000              995965.000000        995965.000000   \n",
       "mean                NaN               47777.648438                  NaN   \n",
       "std            0.000000               14035.049805             0.000000   \n",
       "min            0.000000                  16.000000             0.000000   \n",
       "25%            7.000000               49480.000000             1.000000   \n",
       "50%            7.000000               53447.000000             1.000000   \n",
       "75%            7.000000               53447.000000             2.000000   \n",
       "max           35.000000               70507.000000             6.000000   \n",
       "\n",
       "       CountryIdentifier  LocaleEnglishNameIdentifier   IsProtected  \\\n",
       "count     1000000.000000               1000000.000000 995987.000000   \n",
       "mean          108.058341                    27.854385           NaN   \n",
       "std            63.017084                    65.606418      0.000000   \n",
       "min             1.000000                  -127.000000      0.000000   \n",
       "25%            51.000000                   -29.000000      1.000000   \n",
       "50%            97.000000                    58.000000      1.000000   \n",
       "75%           162.000000                    75.000000      1.000000   \n",
       "max           222.000000                   126.000000      1.000000   \n",
       "\n",
       "       IeVerIdentifier  Census_OEMNameIdentifier  Census_ProcessorCoreCount  \\\n",
       "count    993302.000000             989177.000000              995353.000000   \n",
       "mean               NaN                       NaN                        NaN   \n",
       "std                NaN                       NaN                   0.000000   \n",
       "min           1.000000                 15.000000                   1.000000   \n",
       "25%         111.000000               1443.000000                   2.000000   \n",
       "50%         117.000000               2102.000000                   4.000000   \n",
       "75%         137.000000               2668.000000                   4.000000   \n",
       "max         429.000000               6144.000000                 112.000000   \n",
       "\n",
       "       Census_ProcessorModelIdentifier  ...  Census_OSBuildNumber  \\\n",
       "count                    995350.000000  ...        1000000.000000   \n",
       "mean                               NaN  ...          15831.305397   \n",
       "std                                NaN  ...           1966.159608   \n",
       "min                           3.000000  ...           7601.000000   \n",
       "25%                        1998.000000  ...          15063.000000   \n",
       "50%                        2500.000000  ...          16299.000000   \n",
       "75%                        2874.000000  ...          17134.000000   \n",
       "max                        4480.000000  ...          18242.000000   \n",
       "\n",
       "       Census_OSBuildRevision  Census_FirmwareManufacturerIdentifier  \\\n",
       "count          1000000.000000                          979465.000000   \n",
       "mean               980.024081                                    NaN   \n",
       "std               2951.676927                                    NaN   \n",
       "min                  0.000000                               9.000000   \n",
       "25%                165.000000                             142.000000   \n",
       "50%                285.000000                             500.000000   \n",
       "75%                547.000000                             556.000000   \n",
       "max              24214.000000                            1084.000000   \n",
       "\n",
       "       Census_IsSecureBootEnabled  Census_IsTouchEnabled  Census_IsPenCapable  \\\n",
       "count              1000000.000000         1000000.000000       1000000.000000   \n",
       "mean                     0.486126               0.126244             0.038246   \n",
       "std                      0.499808               0.332124             0.191790   \n",
       "min                      0.000000               0.000000             0.000000   \n",
       "25%                      0.000000               0.000000             0.000000   \n",
       "50%                      0.000000               0.000000             0.000000   \n",
       "75%                      1.000000               0.000000             0.000000   \n",
       "max                      1.000000               1.000000             1.000000   \n",
       "\n",
       "       Census_IsAlwaysOnAlwaysConnectedCapable  Wdft_IsGamer  \\\n",
       "count                            991954.000000 965828.000000   \n",
       "mean                                  0.057587           NaN   \n",
       "std                                   0.233154      0.000000   \n",
       "min                                   0.000000      0.000000   \n",
       "25%                                   0.000000      0.000000   \n",
       "50%                                   0.000000      0.000000   \n",
       "75%                                   0.000000      1.000000   \n",
       "max                                   1.000000      1.000000   \n",
       "\n",
       "       Wdft_RegionIdentifier  HasDetections  \n",
       "count          965828.000000 1000000.000000  \n",
       "mean                     NaN       0.499665  \n",
       "std                 0.000000       0.500000  \n",
       "min                 1.000000       0.000000  \n",
       "25%                 3.000000       0.000000  \n",
       "50%                10.000000       0.000000  \n",
       "75%                11.000000       1.000000  \n",
       "max                15.000000       1.000000  \n",
       "\n",
       "[8 rows x 25 columns]"
      ]
     },
     "execution_count": 9,
     "metadata": {},
     "output_type": "execute_result"
    }
   ],
   "source": [
    "data.describe()"
   ]
  },
  {
   "cell_type": "code",
   "execution_count": 10,
   "metadata": {
    "scrolled": true
   },
   "outputs": [
    {
     "data": {
      "text/html": [
       "<div>\n",
       "<style scoped>\n",
       "    .dataframe tbody tr th:only-of-type {\n",
       "        vertical-align: middle;\n",
       "    }\n",
       "\n",
       "    .dataframe tbody tr th {\n",
       "        vertical-align: top;\n",
       "    }\n",
       "\n",
       "    .dataframe thead th {\n",
       "        text-align: right;\n",
       "    }\n",
       "</style>\n",
       "<table border=\"1\" class=\"dataframe\">\n",
       "  <thead>\n",
       "    <tr style=\"text-align: right;\">\n",
       "      <th></th>\n",
       "      <th>EngineVersion</th>\n",
       "      <th>AppVersion</th>\n",
       "      <th>AvSigVersion</th>\n",
       "      <th>RtpStateBitfield</th>\n",
       "      <th>AVProductStatesIdentifier</th>\n",
       "      <th>AVProductsInstalled</th>\n",
       "      <th>CountryIdentifier</th>\n",
       "      <th>LocaleEnglishNameIdentifier</th>\n",
       "      <th>OsBuildLab</th>\n",
       "      <th>IsProtected</th>\n",
       "      <th>...</th>\n",
       "      <th>Census_GenuineStateName</th>\n",
       "      <th>Census_ActivationChannel</th>\n",
       "      <th>Census_FirmwareManufacturerIdentifier</th>\n",
       "      <th>Census_IsSecureBootEnabled</th>\n",
       "      <th>Census_IsTouchEnabled</th>\n",
       "      <th>Census_IsPenCapable</th>\n",
       "      <th>Census_IsAlwaysOnAlwaysConnectedCapable</th>\n",
       "      <th>Wdft_IsGamer</th>\n",
       "      <th>Wdft_RegionIdentifier</th>\n",
       "      <th>HasDetections</th>\n",
       "    </tr>\n",
       "    <tr>\n",
       "      <th>MachineIdentifier</th>\n",
       "      <th></th>\n",
       "      <th></th>\n",
       "      <th></th>\n",
       "      <th></th>\n",
       "      <th></th>\n",
       "      <th></th>\n",
       "      <th></th>\n",
       "      <th></th>\n",
       "      <th></th>\n",
       "      <th></th>\n",
       "      <th></th>\n",
       "      <th></th>\n",
       "      <th></th>\n",
       "      <th></th>\n",
       "      <th></th>\n",
       "      <th></th>\n",
       "      <th></th>\n",
       "      <th></th>\n",
       "      <th></th>\n",
       "      <th></th>\n",
       "      <th></th>\n",
       "    </tr>\n",
       "  </thead>\n",
       "  <tbody>\n",
       "    <tr>\n",
       "      <th>000007535c3f730efa9ea0b7ef1bd645</th>\n",
       "      <td>1.1.14600.4</td>\n",
       "      <td>4.13.17134.1</td>\n",
       "      <td>1.263.48.0</td>\n",
       "      <td>7.000000</td>\n",
       "      <td>53447.000000</td>\n",
       "      <td>1.000000</td>\n",
       "      <td>93</td>\n",
       "      <td>64</td>\n",
       "      <td>17134.1.amd64fre.rs4_release.180410-1804</td>\n",
       "      <td>1.000000</td>\n",
       "      <td>...</td>\n",
       "      <td>OFFLINE</td>\n",
       "      <td>Retail</td>\n",
       "      <td>628.000000</td>\n",
       "      <td>0</td>\n",
       "      <td>0</td>\n",
       "      <td>0</td>\n",
       "      <td>0.000000</td>\n",
       "      <td>0.000000</td>\n",
       "      <td>8.000000</td>\n",
       "      <td>0</td>\n",
       "    </tr>\n",
       "    <tr>\n",
       "      <th>00000b11598a75ea8ba1beea8459149f</th>\n",
       "      <td>1.1.15100.1</td>\n",
       "      <td>4.18.1807.18075</td>\n",
       "      <td>1.273.1527.0</td>\n",
       "      <td>7.000000</td>\n",
       "      <td>53447.000000</td>\n",
       "      <td>1.000000</td>\n",
       "      <td>88</td>\n",
       "      <td>115</td>\n",
       "      <td>17134.1.amd64fre.rs4_release.180410-1804</td>\n",
       "      <td>1.000000</td>\n",
       "      <td>...</td>\n",
       "      <td>IS_GENUINE</td>\n",
       "      <td>OEM:NONSLP</td>\n",
       "      <td>355.000000</td>\n",
       "      <td>0</td>\n",
       "      <td>0</td>\n",
       "      <td>0</td>\n",
       "      <td>0.000000</td>\n",
       "      <td>0.000000</td>\n",
       "      <td>3.000000</td>\n",
       "      <td>1</td>\n",
       "    </tr>\n",
       "    <tr>\n",
       "      <th>000024872c81cf03fa862aa8f99e0984</th>\n",
       "      <td>1.1.15200.1</td>\n",
       "      <td>4.18.1807.18075</td>\n",
       "      <td>1.275.895.0</td>\n",
       "      <td>7.000000</td>\n",
       "      <td>53447.000000</td>\n",
       "      <td>1.000000</td>\n",
       "      <td>171</td>\n",
       "      <td>-74</td>\n",
       "      <td>17134.1.amd64fre.rs4_release.180410-1804</td>\n",
       "      <td>1.000000</td>\n",
       "      <td>...</td>\n",
       "      <td>IS_GENUINE</td>\n",
       "      <td>OEM:NONSLP</td>\n",
       "      <td>142.000000</td>\n",
       "      <td>0</td>\n",
       "      <td>0</td>\n",
       "      <td>0</td>\n",
       "      <td>0.000000</td>\n",
       "      <td>0.000000</td>\n",
       "      <td>3.000000</td>\n",
       "      <td>0</td>\n",
       "    </tr>\n",
       "    <tr>\n",
       "      <th>00003e5e679ccfe7a13e953c47dd584f</th>\n",
       "      <td>1.1.15200.1</td>\n",
       "      <td>4.18.1807.18075</td>\n",
       "      <td>1.275.26.0</td>\n",
       "      <td>7.000000</td>\n",
       "      <td>53447.000000</td>\n",
       "      <td>1.000000</td>\n",
       "      <td>199</td>\n",
       "      <td>75</td>\n",
       "      <td>17134.1.amd64fre.rs4_release.180410-1804</td>\n",
       "      <td>1.000000</td>\n",
       "      <td>...</td>\n",
       "      <td>IS_GENUINE</td>\n",
       "      <td>Volume:GVLK</td>\n",
       "      <td>93.000000</td>\n",
       "      <td>0</td>\n",
       "      <td>0</td>\n",
       "      <td>0</td>\n",
       "      <td>0.000000</td>\n",
       "      <td>0.000000</td>\n",
       "      <td>11.000000</td>\n",
       "      <td>1</td>\n",
       "    </tr>\n",
       "    <tr>\n",
       "      <th>000048a73fb4b6a94cc169389208032d</th>\n",
       "      <td>1.1.15200.1</td>\n",
       "      <td>4.18.1807.18075</td>\n",
       "      <td>1.275.482.0</td>\n",
       "      <td>7.000000</td>\n",
       "      <td>53447.000000</td>\n",
       "      <td>1.000000</td>\n",
       "      <td>68</td>\n",
       "      <td>74</td>\n",
       "      <td>17134.1.amd64fre.rs4_release.180410-1804</td>\n",
       "      <td>1.000000</td>\n",
       "      <td>...</td>\n",
       "      <td>IS_GENUINE</td>\n",
       "      <td>Retail</td>\n",
       "      <td>168.000000</td>\n",
       "      <td>0</td>\n",
       "      <td>1</td>\n",
       "      <td>0</td>\n",
       "      <td>0.000000</td>\n",
       "      <td>0.000000</td>\n",
       "      <td>12.000000</td>\n",
       "      <td>1</td>\n",
       "    </tr>\n",
       "    <tr>\n",
       "      <th>0000714f389b8a3638597ee69b655e38</th>\n",
       "      <td>1.1.14600.4</td>\n",
       "      <td>4.9.10586.494</td>\n",
       "      <td>1.263.469.0</td>\n",
       "      <td>7.000000</td>\n",
       "      <td>53447.000000</td>\n",
       "      <td>1.000000</td>\n",
       "      <td>89</td>\n",
       "      <td>118</td>\n",
       "      <td>10586.545.amd64fre.th2_release.160802-1857</td>\n",
       "      <td>1.000000</td>\n",
       "      <td>...</td>\n",
       "      <td>IS_GENUINE</td>\n",
       "      <td>Retail</td>\n",
       "      <td>554.000000</td>\n",
       "      <td>1</td>\n",
       "      <td>1</td>\n",
       "      <td>0</td>\n",
       "      <td>0.000000</td>\n",
       "      <td>0.000000</td>\n",
       "      <td>1.000000</td>\n",
       "      <td>1</td>\n",
       "    </tr>\n",
       "    <tr>\n",
       "      <th>00007a70254b648e445a6e1937ab3efb</th>\n",
       "      <td>1.1.15200.1</td>\n",
       "      <td>4.18.1807.18075</td>\n",
       "      <td>1.275.795.0</td>\n",
       "      <td>7.000000</td>\n",
       "      <td>53447.000000</td>\n",
       "      <td>1.000000</td>\n",
       "      <td>100</td>\n",
       "      <td>75</td>\n",
       "      <td>17134.1.amd64fre.rs4_release.180410-1804</td>\n",
       "      <td>1.000000</td>\n",
       "      <td>...</td>\n",
       "      <td>IS_GENUINE</td>\n",
       "      <td>Volume:GVLK</td>\n",
       "      <td>554.000000</td>\n",
       "      <td>0</td>\n",
       "      <td>0</td>\n",
       "      <td>0</td>\n",
       "      <td>0.000000</td>\n",
       "      <td>0.000000</td>\n",
       "      <td>11.000000</td>\n",
       "      <td>1</td>\n",
       "    </tr>\n",
       "    <tr>\n",
       "      <th>0000870bccbcf600c7252517b1d39234</th>\n",
       "      <td>1.1.14306.0</td>\n",
       "      <td>4.13.17134.1</td>\n",
       "      <td>1.257.902.0</td>\n",
       "      <td>7.000000</td>\n",
       "      <td>7945.000000</td>\n",
       "      <td>2.000000</td>\n",
       "      <td>155</td>\n",
       "      <td>-23</td>\n",
       "      <td>17134.1.amd64fre.rs4_release.180410-1804</td>\n",
       "      <td>1.000000</td>\n",
       "      <td>...</td>\n",
       "      <td>INVALID_LICENSE</td>\n",
       "      <td>Retail</td>\n",
       "      <td>168.000000</td>\n",
       "      <td>0</td>\n",
       "      <td>0</td>\n",
       "      <td>0</td>\n",
       "      <td>0.000000</td>\n",
       "      <td>0.000000</td>\n",
       "      <td>10.000000</td>\n",
       "      <td>0</td>\n",
       "    </tr>\n",
       "    <tr>\n",
       "      <th>00008f5ffaf2a82e2ba75dd31d011c2c</th>\n",
       "      <td>1.1.15200.1</td>\n",
       "      <td>4.9.10586.0</td>\n",
       "      <td>1.275.30.0</td>\n",
       "      <td>7.000000</td>\n",
       "      <td>53447.000000</td>\n",
       "      <td>1.000000</td>\n",
       "      <td>190</td>\n",
       "      <td>17</td>\n",
       "      <td>10586.420.amd64fre.th2_release_sec.160527-1834</td>\n",
       "      <td>1.000000</td>\n",
       "      <td>...</td>\n",
       "      <td>IS_GENUINE</td>\n",
       "      <td>Volume:GVLK</td>\n",
       "      <td>355.000000</td>\n",
       "      <td>0</td>\n",
       "      <td>0</td>\n",
       "      <td>0</td>\n",
       "      <td>0.000000</td>\n",
       "      <td>1.000000</td>\n",
       "      <td>11.000000</td>\n",
       "      <td>1</td>\n",
       "    </tr>\n",
       "    <tr>\n",
       "      <th>000090720df1dd004c5cf6cd1c615643</th>\n",
       "      <td>1.1.15200.1</td>\n",
       "      <td>4.18.1807.18075</td>\n",
       "      <td>1.275.98.0</td>\n",
       "      <td>7.000000</td>\n",
       "      <td>53447.000000</td>\n",
       "      <td>1.000000</td>\n",
       "      <td>9</td>\n",
       "      <td>-42</td>\n",
       "      <td>17134.1.amd64fre.rs4_release.180410-1804</td>\n",
       "      <td>1.000000</td>\n",
       "      <td>...</td>\n",
       "      <td>IS_GENUINE</td>\n",
       "      <td>Retail</td>\n",
       "      <td>142.000000</td>\n",
       "      <td>0</td>\n",
       "      <td>0</td>\n",
       "      <td>0</td>\n",
       "      <td>0.000000</td>\n",
       "      <td>0.000000</td>\n",
       "      <td>10.000000</td>\n",
       "      <td>1</td>\n",
       "    </tr>\n",
       "  </tbody>\n",
       "</table>\n",
       "<p>10 rows × 38 columns</p>\n",
       "</div>"
      ],
      "text/plain": [
       "                                 EngineVersion       AppVersion  AvSigVersion  \\\n",
       "MachineIdentifier                                                               \n",
       "000007535c3f730efa9ea0b7ef1bd645   1.1.14600.4     4.13.17134.1    1.263.48.0   \n",
       "00000b11598a75ea8ba1beea8459149f   1.1.15100.1  4.18.1807.18075  1.273.1527.0   \n",
       "000024872c81cf03fa862aa8f99e0984   1.1.15200.1  4.18.1807.18075   1.275.895.0   \n",
       "00003e5e679ccfe7a13e953c47dd584f   1.1.15200.1  4.18.1807.18075    1.275.26.0   \n",
       "000048a73fb4b6a94cc169389208032d   1.1.15200.1  4.18.1807.18075   1.275.482.0   \n",
       "0000714f389b8a3638597ee69b655e38   1.1.14600.4    4.9.10586.494   1.263.469.0   \n",
       "00007a70254b648e445a6e1937ab3efb   1.1.15200.1  4.18.1807.18075   1.275.795.0   \n",
       "0000870bccbcf600c7252517b1d39234   1.1.14306.0     4.13.17134.1   1.257.902.0   \n",
       "00008f5ffaf2a82e2ba75dd31d011c2c   1.1.15200.1      4.9.10586.0    1.275.30.0   \n",
       "000090720df1dd004c5cf6cd1c615643   1.1.15200.1  4.18.1807.18075    1.275.98.0   \n",
       "\n",
       "                                  RtpStateBitfield  AVProductStatesIdentifier  \\\n",
       "MachineIdentifier                                                               \n",
       "000007535c3f730efa9ea0b7ef1bd645          7.000000               53447.000000   \n",
       "00000b11598a75ea8ba1beea8459149f          7.000000               53447.000000   \n",
       "000024872c81cf03fa862aa8f99e0984          7.000000               53447.000000   \n",
       "00003e5e679ccfe7a13e953c47dd584f          7.000000               53447.000000   \n",
       "000048a73fb4b6a94cc169389208032d          7.000000               53447.000000   \n",
       "0000714f389b8a3638597ee69b655e38          7.000000               53447.000000   \n",
       "00007a70254b648e445a6e1937ab3efb          7.000000               53447.000000   \n",
       "0000870bccbcf600c7252517b1d39234          7.000000                7945.000000   \n",
       "00008f5ffaf2a82e2ba75dd31d011c2c          7.000000               53447.000000   \n",
       "000090720df1dd004c5cf6cd1c615643          7.000000               53447.000000   \n",
       "\n",
       "                                  AVProductsInstalled  CountryIdentifier  \\\n",
       "MachineIdentifier                                                          \n",
       "000007535c3f730efa9ea0b7ef1bd645             1.000000                 93   \n",
       "00000b11598a75ea8ba1beea8459149f             1.000000                 88   \n",
       "000024872c81cf03fa862aa8f99e0984             1.000000                171   \n",
       "00003e5e679ccfe7a13e953c47dd584f             1.000000                199   \n",
       "000048a73fb4b6a94cc169389208032d             1.000000                 68   \n",
       "0000714f389b8a3638597ee69b655e38             1.000000                 89   \n",
       "00007a70254b648e445a6e1937ab3efb             1.000000                100   \n",
       "0000870bccbcf600c7252517b1d39234             2.000000                155   \n",
       "00008f5ffaf2a82e2ba75dd31d011c2c             1.000000                190   \n",
       "000090720df1dd004c5cf6cd1c615643             1.000000                  9   \n",
       "\n",
       "                                  LocaleEnglishNameIdentifier  \\\n",
       "MachineIdentifier                                               \n",
       "000007535c3f730efa9ea0b7ef1bd645                           64   \n",
       "00000b11598a75ea8ba1beea8459149f                          115   \n",
       "000024872c81cf03fa862aa8f99e0984                          -74   \n",
       "00003e5e679ccfe7a13e953c47dd584f                           75   \n",
       "000048a73fb4b6a94cc169389208032d                           74   \n",
       "0000714f389b8a3638597ee69b655e38                          118   \n",
       "00007a70254b648e445a6e1937ab3efb                           75   \n",
       "0000870bccbcf600c7252517b1d39234                          -23   \n",
       "00008f5ffaf2a82e2ba75dd31d011c2c                           17   \n",
       "000090720df1dd004c5cf6cd1c615643                          -42   \n",
       "\n",
       "                                                                      OsBuildLab  \\\n",
       "MachineIdentifier                                                                  \n",
       "000007535c3f730efa9ea0b7ef1bd645        17134.1.amd64fre.rs4_release.180410-1804   \n",
       "00000b11598a75ea8ba1beea8459149f        17134.1.amd64fre.rs4_release.180410-1804   \n",
       "000024872c81cf03fa862aa8f99e0984        17134.1.amd64fre.rs4_release.180410-1804   \n",
       "00003e5e679ccfe7a13e953c47dd584f        17134.1.amd64fre.rs4_release.180410-1804   \n",
       "000048a73fb4b6a94cc169389208032d        17134.1.amd64fre.rs4_release.180410-1804   \n",
       "0000714f389b8a3638597ee69b655e38      10586.545.amd64fre.th2_release.160802-1857   \n",
       "00007a70254b648e445a6e1937ab3efb        17134.1.amd64fre.rs4_release.180410-1804   \n",
       "0000870bccbcf600c7252517b1d39234        17134.1.amd64fre.rs4_release.180410-1804   \n",
       "00008f5ffaf2a82e2ba75dd31d011c2c  10586.420.amd64fre.th2_release_sec.160527-1834   \n",
       "000090720df1dd004c5cf6cd1c615643        17134.1.amd64fre.rs4_release.180410-1804   \n",
       "\n",
       "                                  IsProtected  ...  Census_GenuineStateName  \\\n",
       "MachineIdentifier                              ...                            \n",
       "000007535c3f730efa9ea0b7ef1bd645     1.000000  ...                  OFFLINE   \n",
       "00000b11598a75ea8ba1beea8459149f     1.000000  ...               IS_GENUINE   \n",
       "000024872c81cf03fa862aa8f99e0984     1.000000  ...               IS_GENUINE   \n",
       "00003e5e679ccfe7a13e953c47dd584f     1.000000  ...               IS_GENUINE   \n",
       "000048a73fb4b6a94cc169389208032d     1.000000  ...               IS_GENUINE   \n",
       "0000714f389b8a3638597ee69b655e38     1.000000  ...               IS_GENUINE   \n",
       "00007a70254b648e445a6e1937ab3efb     1.000000  ...               IS_GENUINE   \n",
       "0000870bccbcf600c7252517b1d39234     1.000000  ...          INVALID_LICENSE   \n",
       "00008f5ffaf2a82e2ba75dd31d011c2c     1.000000  ...               IS_GENUINE   \n",
       "000090720df1dd004c5cf6cd1c615643     1.000000  ...               IS_GENUINE   \n",
       "\n",
       "                                 Census_ActivationChannel  \\\n",
       "MachineIdentifier                                           \n",
       "000007535c3f730efa9ea0b7ef1bd645                   Retail   \n",
       "00000b11598a75ea8ba1beea8459149f               OEM:NONSLP   \n",
       "000024872c81cf03fa862aa8f99e0984               OEM:NONSLP   \n",
       "00003e5e679ccfe7a13e953c47dd584f              Volume:GVLK   \n",
       "000048a73fb4b6a94cc169389208032d                   Retail   \n",
       "0000714f389b8a3638597ee69b655e38                   Retail   \n",
       "00007a70254b648e445a6e1937ab3efb              Volume:GVLK   \n",
       "0000870bccbcf600c7252517b1d39234                   Retail   \n",
       "00008f5ffaf2a82e2ba75dd31d011c2c              Volume:GVLK   \n",
       "000090720df1dd004c5cf6cd1c615643                   Retail   \n",
       "\n",
       "                                 Census_FirmwareManufacturerIdentifier  \\\n",
       "MachineIdentifier                                                        \n",
       "000007535c3f730efa9ea0b7ef1bd645                            628.000000   \n",
       "00000b11598a75ea8ba1beea8459149f                            355.000000   \n",
       "000024872c81cf03fa862aa8f99e0984                            142.000000   \n",
       "00003e5e679ccfe7a13e953c47dd584f                             93.000000   \n",
       "000048a73fb4b6a94cc169389208032d                            168.000000   \n",
       "0000714f389b8a3638597ee69b655e38                            554.000000   \n",
       "00007a70254b648e445a6e1937ab3efb                            554.000000   \n",
       "0000870bccbcf600c7252517b1d39234                            168.000000   \n",
       "00008f5ffaf2a82e2ba75dd31d011c2c                            355.000000   \n",
       "000090720df1dd004c5cf6cd1c615643                            142.000000   \n",
       "\n",
       "                                  Census_IsSecureBootEnabled  \\\n",
       "MachineIdentifier                                              \n",
       "000007535c3f730efa9ea0b7ef1bd645                           0   \n",
       "00000b11598a75ea8ba1beea8459149f                           0   \n",
       "000024872c81cf03fa862aa8f99e0984                           0   \n",
       "00003e5e679ccfe7a13e953c47dd584f                           0   \n",
       "000048a73fb4b6a94cc169389208032d                           0   \n",
       "0000714f389b8a3638597ee69b655e38                           1   \n",
       "00007a70254b648e445a6e1937ab3efb                           0   \n",
       "0000870bccbcf600c7252517b1d39234                           0   \n",
       "00008f5ffaf2a82e2ba75dd31d011c2c                           0   \n",
       "000090720df1dd004c5cf6cd1c615643                           0   \n",
       "\n",
       "                                  Census_IsTouchEnabled  Census_IsPenCapable  \\\n",
       "MachineIdentifier                                                              \n",
       "000007535c3f730efa9ea0b7ef1bd645                      0                    0   \n",
       "00000b11598a75ea8ba1beea8459149f                      0                    0   \n",
       "000024872c81cf03fa862aa8f99e0984                      0                    0   \n",
       "00003e5e679ccfe7a13e953c47dd584f                      0                    0   \n",
       "000048a73fb4b6a94cc169389208032d                      1                    0   \n",
       "0000714f389b8a3638597ee69b655e38                      1                    0   \n",
       "00007a70254b648e445a6e1937ab3efb                      0                    0   \n",
       "0000870bccbcf600c7252517b1d39234                      0                    0   \n",
       "00008f5ffaf2a82e2ba75dd31d011c2c                      0                    0   \n",
       "000090720df1dd004c5cf6cd1c615643                      0                    0   \n",
       "\n",
       "                                  Census_IsAlwaysOnAlwaysConnectedCapable  \\\n",
       "MachineIdentifier                                                           \n",
       "000007535c3f730efa9ea0b7ef1bd645                                 0.000000   \n",
       "00000b11598a75ea8ba1beea8459149f                                 0.000000   \n",
       "000024872c81cf03fa862aa8f99e0984                                 0.000000   \n",
       "00003e5e679ccfe7a13e953c47dd584f                                 0.000000   \n",
       "000048a73fb4b6a94cc169389208032d                                 0.000000   \n",
       "0000714f389b8a3638597ee69b655e38                                 0.000000   \n",
       "00007a70254b648e445a6e1937ab3efb                                 0.000000   \n",
       "0000870bccbcf600c7252517b1d39234                                 0.000000   \n",
       "00008f5ffaf2a82e2ba75dd31d011c2c                                 0.000000   \n",
       "000090720df1dd004c5cf6cd1c615643                                 0.000000   \n",
       "\n",
       "                                 Wdft_IsGamer  Wdft_RegionIdentifier  \\\n",
       "MachineIdentifier                                                      \n",
       "000007535c3f730efa9ea0b7ef1bd645     0.000000               8.000000   \n",
       "00000b11598a75ea8ba1beea8459149f     0.000000               3.000000   \n",
       "000024872c81cf03fa862aa8f99e0984     0.000000               3.000000   \n",
       "00003e5e679ccfe7a13e953c47dd584f     0.000000              11.000000   \n",
       "000048a73fb4b6a94cc169389208032d     0.000000              12.000000   \n",
       "0000714f389b8a3638597ee69b655e38     0.000000               1.000000   \n",
       "00007a70254b648e445a6e1937ab3efb     0.000000              11.000000   \n",
       "0000870bccbcf600c7252517b1d39234     0.000000              10.000000   \n",
       "00008f5ffaf2a82e2ba75dd31d011c2c     1.000000              11.000000   \n",
       "000090720df1dd004c5cf6cd1c615643     0.000000              10.000000   \n",
       "\n",
       "                                  HasDetections  \n",
       "MachineIdentifier                                \n",
       "000007535c3f730efa9ea0b7ef1bd645              0  \n",
       "00000b11598a75ea8ba1beea8459149f              1  \n",
       "000024872c81cf03fa862aa8f99e0984              0  \n",
       "00003e5e679ccfe7a13e953c47dd584f              1  \n",
       "000048a73fb4b6a94cc169389208032d              1  \n",
       "0000714f389b8a3638597ee69b655e38              1  \n",
       "00007a70254b648e445a6e1937ab3efb              1  \n",
       "0000870bccbcf600c7252517b1d39234              0  \n",
       "00008f5ffaf2a82e2ba75dd31d011c2c              1  \n",
       "000090720df1dd004c5cf6cd1c615643              1  \n",
       "\n",
       "[10 rows x 38 columns]"
      ]
     },
     "execution_count": 10,
     "metadata": {},
     "output_type": "execute_result"
    }
   ],
   "source": [
    "data.head(10)"
   ]
  },
  {
   "cell_type": "markdown",
   "metadata": {
    "id": "lwCqDB9DUw7t"
   },
   "source": [
    "## **Section 2: Measure of Power (Q2a & 2b)**"
   ]
  },
  {
   "cell_type": "markdown",
   "metadata": {},
   "source": [
    "***Q2a.* Define a measure of computer power as a function of RAM, processor core count and any other relevant features you find. What is the distribution of power among the machines in the dataset?**\n",
    "\n"
   ]
  },
  {
   "cell_type": "markdown",
   "metadata": {},
   "source": [
    "Let's assume a simple function f(x,y) which defines the compute power of a system using \n",
    "> a: TotalPhysicalRAM \n",
    "\n",
    "> b: ProcessorCoreCount. \n",
    "\n",
    "> c: Wdft_IsGamer // Gaming systems are typically more powerful than an average system\n",
    "\n",
    "> d: Census_PrimaryDiskTotalCapacity   // Powerful systems typically tend to have higher Disk Capacity but not vice-versa\n",
    "\n",
    "\n",
    "For simplicity, we assume that compute power f() is defined as \n",
    "> **f() = 0.3a + 0.4b + 0.2*c + 0.1*d**\n",
    "\n",
    "\n",
    "\n",
    "Weights are arbitrarily decided based on an understanding that CPUCoreCount and RAM contribute towards ComputePower more than other factors.\n",
    "\n",
    "\n",
    "Note: \n",
    "We need to clean these columns first as some of them have NaN values, so we will just drop those rows with NaN values.\n",
    "For columns, *a*,*b*, and *d* we will need to normalize their values to a range of 0 to 1. This is because their individual values are not on the same scale, and thus we cannot directly use them."
   ]
  },
  {
   "cell_type": "code",
   "execution_count": 209,
   "metadata": {},
   "outputs": [],
   "source": [
    "# Read csv file into a dataframe with the selected columns\n",
    "filename = 'train.csv'\n",
    "\n",
    "# Sampling random records from the dataset\n",
    "n = 8921483 #number of records in file\n",
    "s = int(n/8) #desired sample size\n",
    "\n",
    "skip = sorted(random.sample(range(1,n+1),n-s)) \n",
    "# Uncomment the following line to load the entire dataset\n",
    "skip = 0\n",
    "\n",
    "data = pd.read_csv(filename, usecols = lambda x:x in use_cols, dtype = dtypes, skiprows=skip)\n",
    "\n",
    "# Set 'MachineIdentifier' as the Index for the dataframe\n",
    "data.set_index('MachineIdentifier', inplace=True)\n",
    "\n"
   ]
  },
  {
   "cell_type": "code",
   "execution_count": 210,
   "metadata": {},
   "outputs": [
    {
     "data": {
      "text/plain": [
       "(8921483, 5)"
      ]
     },
     "execution_count": 210,
     "metadata": {},
     "output_type": "execute_result"
    }
   ],
   "source": [
    "#Load the respective columns to the dataframe \n",
    "\n",
    "_cols = ['Census_TotalPhysicalRAM', 'Census_ProcessorCoreCount', 'Wdft_IsGamer', \n",
    "         'Census_PrimaryDiskTotalCapacity','HasDetections']\n",
    "\n",
    "df = data[_cols]\n",
    "df.shape"
   ]
  },
  {
   "cell_type": "code",
   "execution_count": 211,
   "metadata": {},
   "outputs": [
    {
     "data": {
      "text/html": [
       "<div>\n",
       "<style scoped>\n",
       "    .dataframe tbody tr th:only-of-type {\n",
       "        vertical-align: middle;\n",
       "    }\n",
       "\n",
       "    .dataframe tbody tr th {\n",
       "        vertical-align: top;\n",
       "    }\n",
       "\n",
       "    .dataframe thead th {\n",
       "        text-align: right;\n",
       "    }\n",
       "</style>\n",
       "<table border=\"1\" class=\"dataframe\">\n",
       "  <thead>\n",
       "    <tr style=\"text-align: right;\">\n",
       "      <th></th>\n",
       "      <th>Census_TotalPhysicalRAM</th>\n",
       "      <th>Census_ProcessorCoreCount</th>\n",
       "      <th>Wdft_IsGamer</th>\n",
       "      <th>Census_PrimaryDiskTotalCapacity</th>\n",
       "      <th>HasDetections</th>\n",
       "    </tr>\n",
       "    <tr>\n",
       "      <th>MachineIdentifier</th>\n",
       "      <th></th>\n",
       "      <th></th>\n",
       "      <th></th>\n",
       "      <th></th>\n",
       "      <th></th>\n",
       "    </tr>\n",
       "  </thead>\n",
       "  <tbody>\n",
       "    <tr>\n",
       "      <th>0000028988387b115f69f31a3bf04f09</th>\n",
       "      <td>4096.000000</td>\n",
       "      <td>4.000000</td>\n",
       "      <td>0.000000</td>\n",
       "      <td>476940.000000</td>\n",
       "      <td>0</td>\n",
       "    </tr>\n",
       "    <tr>\n",
       "      <th>000007535c3f730efa9ea0b7ef1bd645</th>\n",
       "      <td>4096.000000</td>\n",
       "      <td>4.000000</td>\n",
       "      <td>0.000000</td>\n",
       "      <td>476940.000000</td>\n",
       "      <td>0</td>\n",
       "    </tr>\n",
       "    <tr>\n",
       "      <th>000007905a28d863f6d0d597892cd692</th>\n",
       "      <td>4096.000000</td>\n",
       "      <td>4.000000</td>\n",
       "      <td>0.000000</td>\n",
       "      <td>114473.000000</td>\n",
       "      <td>0</td>\n",
       "    </tr>\n",
       "    <tr>\n",
       "      <th>00000b11598a75ea8ba1beea8459149f</th>\n",
       "      <td>4096.000000</td>\n",
       "      <td>4.000000</td>\n",
       "      <td>0.000000</td>\n",
       "      <td>238475.000000</td>\n",
       "      <td>1</td>\n",
       "    </tr>\n",
       "    <tr>\n",
       "      <th>000014a5f00daa18e76b81417eeb99fc</th>\n",
       "      <td>6144.000000</td>\n",
       "      <td>4.000000</td>\n",
       "      <td>0.000000</td>\n",
       "      <td>476940.000000</td>\n",
       "      <td>1</td>\n",
       "    </tr>\n",
       "    <tr>\n",
       "      <th>000016191b897145d069102325cab760</th>\n",
       "      <td>8192.000000</td>\n",
       "      <td>2.000000</td>\n",
       "      <td>0.000000</td>\n",
       "      <td>114473.000000</td>\n",
       "      <td>1</td>\n",
       "    </tr>\n",
       "    <tr>\n",
       "      <th>0000161e8abf8d8b89c5ab8787fd712b</th>\n",
       "      <td>4096.000000</td>\n",
       "      <td>2.000000</td>\n",
       "      <td>0.000000</td>\n",
       "      <td>476940.000000</td>\n",
       "      <td>1</td>\n",
       "    </tr>\n",
       "    <tr>\n",
       "      <th>000019515bc8f95851aff6de873405e8</th>\n",
       "      <td>4096.000000</td>\n",
       "      <td>2.000000</td>\n",
       "      <td>0.000000</td>\n",
       "      <td>305245.000000</td>\n",
       "      <td>0</td>\n",
       "    </tr>\n",
       "    <tr>\n",
       "      <th>00001a027a0ab970c408182df8484fce</th>\n",
       "      <td>4096.000000</td>\n",
       "      <td>4.000000</td>\n",
       "      <td>0.000000</td>\n",
       "      <td>305245.000000</td>\n",
       "      <td>0</td>\n",
       "    </tr>\n",
       "    <tr>\n",
       "      <th>00001a18d69bb60bda9779408dcf02ac</th>\n",
       "      <td>8192.000000</td>\n",
       "      <td>4.000000</td>\n",
       "      <td>1.000000</td>\n",
       "      <td>953869.000000</td>\n",
       "      <td>1</td>\n",
       "    </tr>\n",
       "  </tbody>\n",
       "</table>\n",
       "</div>"
      ],
      "text/plain": [
       "                                  Census_TotalPhysicalRAM  \\\n",
       "MachineIdentifier                                           \n",
       "0000028988387b115f69f31a3bf04f09              4096.000000   \n",
       "000007535c3f730efa9ea0b7ef1bd645              4096.000000   \n",
       "000007905a28d863f6d0d597892cd692              4096.000000   \n",
       "00000b11598a75ea8ba1beea8459149f              4096.000000   \n",
       "000014a5f00daa18e76b81417eeb99fc              6144.000000   \n",
       "000016191b897145d069102325cab760              8192.000000   \n",
       "0000161e8abf8d8b89c5ab8787fd712b              4096.000000   \n",
       "000019515bc8f95851aff6de873405e8              4096.000000   \n",
       "00001a027a0ab970c408182df8484fce              4096.000000   \n",
       "00001a18d69bb60bda9779408dcf02ac              8192.000000   \n",
       "\n",
       "                                  Census_ProcessorCoreCount  Wdft_IsGamer  \\\n",
       "MachineIdentifier                                                           \n",
       "0000028988387b115f69f31a3bf04f09                   4.000000      0.000000   \n",
       "000007535c3f730efa9ea0b7ef1bd645                   4.000000      0.000000   \n",
       "000007905a28d863f6d0d597892cd692                   4.000000      0.000000   \n",
       "00000b11598a75ea8ba1beea8459149f                   4.000000      0.000000   \n",
       "000014a5f00daa18e76b81417eeb99fc                   4.000000      0.000000   \n",
       "000016191b897145d069102325cab760                   2.000000      0.000000   \n",
       "0000161e8abf8d8b89c5ab8787fd712b                   2.000000      0.000000   \n",
       "000019515bc8f95851aff6de873405e8                   2.000000      0.000000   \n",
       "00001a027a0ab970c408182df8484fce                   4.000000      0.000000   \n",
       "00001a18d69bb60bda9779408dcf02ac                   4.000000      1.000000   \n",
       "\n",
       "                                  Census_PrimaryDiskTotalCapacity  \\\n",
       "MachineIdentifier                                                   \n",
       "0000028988387b115f69f31a3bf04f09                    476940.000000   \n",
       "000007535c3f730efa9ea0b7ef1bd645                    476940.000000   \n",
       "000007905a28d863f6d0d597892cd692                    114473.000000   \n",
       "00000b11598a75ea8ba1beea8459149f                    238475.000000   \n",
       "000014a5f00daa18e76b81417eeb99fc                    476940.000000   \n",
       "000016191b897145d069102325cab760                    114473.000000   \n",
       "0000161e8abf8d8b89c5ab8787fd712b                    476940.000000   \n",
       "000019515bc8f95851aff6de873405e8                    305245.000000   \n",
       "00001a027a0ab970c408182df8484fce                    305245.000000   \n",
       "00001a18d69bb60bda9779408dcf02ac                    953869.000000   \n",
       "\n",
       "                                  HasDetections  \n",
       "MachineIdentifier                                \n",
       "0000028988387b115f69f31a3bf04f09              0  \n",
       "000007535c3f730efa9ea0b7ef1bd645              0  \n",
       "000007905a28d863f6d0d597892cd692              0  \n",
       "00000b11598a75ea8ba1beea8459149f              1  \n",
       "000014a5f00daa18e76b81417eeb99fc              1  \n",
       "000016191b897145d069102325cab760              1  \n",
       "0000161e8abf8d8b89c5ab8787fd712b              1  \n",
       "000019515bc8f95851aff6de873405e8              0  \n",
       "00001a027a0ab970c408182df8484fce              0  \n",
       "00001a18d69bb60bda9779408dcf02ac              1  "
      ]
     },
     "execution_count": 211,
     "metadata": {},
     "output_type": "execute_result"
    }
   ],
   "source": [
    "df.head(10)"
   ]
  },
  {
   "cell_type": "markdown",
   "metadata": {},
   "source": [
    "***Preprocessing of data***\n",
    "1. Drop rows with NaN values.\n",
    "2. Normalize the columns so that everything is on the same scale of 0 to 1."
   ]
  },
  {
   "cell_type": "code",
   "execution_count": 212,
   "metadata": {},
   "outputs": [
    {
     "data": {
      "text/plain": [
       "(8538014, 5)"
      ]
     },
     "execution_count": 212,
     "metadata": {},
     "output_type": "execute_result"
    }
   ],
   "source": [
    "df = df.dropna(how='any')\n",
    "df.shape"
   ]
  },
  {
   "cell_type": "code",
   "execution_count": 213,
   "metadata": {},
   "outputs": [],
   "source": [
    "from sklearn.preprocessing import MinMaxScaler\n",
    "\n",
    "scaler = MinMaxScaler()\n",
    "\n",
    "df[['Census_TotalPhysicalRAM', 'Census_ProcessorCoreCount', \n",
    "         'Census_PrimaryDiskTotalCapacity']] = scaler.fit_transform(df[['Census_TotalPhysicalRAM', 'Census_ProcessorCoreCount', \n",
    "         'Census_PrimaryDiskTotalCapacity']])"
   ]
  },
  {
   "cell_type": "code",
   "execution_count": 214,
   "metadata": {},
   "outputs": [
    {
     "data": {
      "text/html": [
       "<div>\n",
       "<style scoped>\n",
       "    .dataframe tbody tr th:only-of-type {\n",
       "        vertical-align: middle;\n",
       "    }\n",
       "\n",
       "    .dataframe tbody tr th {\n",
       "        vertical-align: top;\n",
       "    }\n",
       "\n",
       "    .dataframe thead th {\n",
       "        text-align: right;\n",
       "    }\n",
       "</style>\n",
       "<table border=\"1\" class=\"dataframe\">\n",
       "  <thead>\n",
       "    <tr style=\"text-align: right;\">\n",
       "      <th></th>\n",
       "      <th>Census_TotalPhysicalRAM</th>\n",
       "      <th>Census_ProcessorCoreCount</th>\n",
       "      <th>Wdft_IsGamer</th>\n",
       "      <th>Census_PrimaryDiskTotalCapacity</th>\n",
       "      <th>HasDetections</th>\n",
       "    </tr>\n",
       "    <tr>\n",
       "      <th>MachineIdentifier</th>\n",
       "      <th></th>\n",
       "      <th></th>\n",
       "      <th></th>\n",
       "      <th></th>\n",
       "      <th></th>\n",
       "    </tr>\n",
       "  </thead>\n",
       "  <tbody>\n",
       "    <tr>\n",
       "      <th>0000028988387b115f69f31a3bf04f09</th>\n",
       "      <td>0.002442</td>\n",
       "      <td>0.015707</td>\n",
       "      <td>0.000000</td>\n",
       "      <td>0.000000</td>\n",
       "      <td>0</td>\n",
       "    </tr>\n",
       "    <tr>\n",
       "      <th>000007535c3f730efa9ea0b7ef1bd645</th>\n",
       "      <td>0.002442</td>\n",
       "      <td>0.015707</td>\n",
       "      <td>0.000000</td>\n",
       "      <td>0.000000</td>\n",
       "      <td>0</td>\n",
       "    </tr>\n",
       "    <tr>\n",
       "      <th>000007905a28d863f6d0d597892cd692</th>\n",
       "      <td>0.002442</td>\n",
       "      <td>0.015707</td>\n",
       "      <td>0.000000</td>\n",
       "      <td>0.000000</td>\n",
       "      <td>0</td>\n",
       "    </tr>\n",
       "    <tr>\n",
       "      <th>00000b11598a75ea8ba1beea8459149f</th>\n",
       "      <td>0.002442</td>\n",
       "      <td>0.015707</td>\n",
       "      <td>0.000000</td>\n",
       "      <td>0.000000</td>\n",
       "      <td>1</td>\n",
       "    </tr>\n",
       "    <tr>\n",
       "      <th>000014a5f00daa18e76b81417eeb99fc</th>\n",
       "      <td>0.003745</td>\n",
       "      <td>0.015707</td>\n",
       "      <td>0.000000</td>\n",
       "      <td>0.000000</td>\n",
       "      <td>1</td>\n",
       "    </tr>\n",
       "    <tr>\n",
       "      <th>000016191b897145d069102325cab760</th>\n",
       "      <td>0.005047</td>\n",
       "      <td>0.005236</td>\n",
       "      <td>0.000000</td>\n",
       "      <td>0.000000</td>\n",
       "      <td>1</td>\n",
       "    </tr>\n",
       "    <tr>\n",
       "      <th>0000161e8abf8d8b89c5ab8787fd712b</th>\n",
       "      <td>0.002442</td>\n",
       "      <td>0.005236</td>\n",
       "      <td>0.000000</td>\n",
       "      <td>0.000000</td>\n",
       "      <td>1</td>\n",
       "    </tr>\n",
       "    <tr>\n",
       "      <th>000019515bc8f95851aff6de873405e8</th>\n",
       "      <td>0.002442</td>\n",
       "      <td>0.005236</td>\n",
       "      <td>0.000000</td>\n",
       "      <td>0.000000</td>\n",
       "      <td>0</td>\n",
       "    </tr>\n",
       "    <tr>\n",
       "      <th>00001a027a0ab970c408182df8484fce</th>\n",
       "      <td>0.002442</td>\n",
       "      <td>0.015707</td>\n",
       "      <td>0.000000</td>\n",
       "      <td>0.000000</td>\n",
       "      <td>0</td>\n",
       "    </tr>\n",
       "    <tr>\n",
       "      <th>00001a18d69bb60bda9779408dcf02ac</th>\n",
       "      <td>0.005047</td>\n",
       "      <td>0.015707</td>\n",
       "      <td>1.000000</td>\n",
       "      <td>0.000000</td>\n",
       "      <td>1</td>\n",
       "    </tr>\n",
       "  </tbody>\n",
       "</table>\n",
       "</div>"
      ],
      "text/plain": [
       "                                  Census_TotalPhysicalRAM  \\\n",
       "MachineIdentifier                                           \n",
       "0000028988387b115f69f31a3bf04f09                 0.002442   \n",
       "000007535c3f730efa9ea0b7ef1bd645                 0.002442   \n",
       "000007905a28d863f6d0d597892cd692                 0.002442   \n",
       "00000b11598a75ea8ba1beea8459149f                 0.002442   \n",
       "000014a5f00daa18e76b81417eeb99fc                 0.003745   \n",
       "000016191b897145d069102325cab760                 0.005047   \n",
       "0000161e8abf8d8b89c5ab8787fd712b                 0.002442   \n",
       "000019515bc8f95851aff6de873405e8                 0.002442   \n",
       "00001a027a0ab970c408182df8484fce                 0.002442   \n",
       "00001a18d69bb60bda9779408dcf02ac                 0.005047   \n",
       "\n",
       "                                  Census_ProcessorCoreCount  Wdft_IsGamer  \\\n",
       "MachineIdentifier                                                           \n",
       "0000028988387b115f69f31a3bf04f09                   0.015707      0.000000   \n",
       "000007535c3f730efa9ea0b7ef1bd645                   0.015707      0.000000   \n",
       "000007905a28d863f6d0d597892cd692                   0.015707      0.000000   \n",
       "00000b11598a75ea8ba1beea8459149f                   0.015707      0.000000   \n",
       "000014a5f00daa18e76b81417eeb99fc                   0.015707      0.000000   \n",
       "000016191b897145d069102325cab760                   0.005236      0.000000   \n",
       "0000161e8abf8d8b89c5ab8787fd712b                   0.005236      0.000000   \n",
       "000019515bc8f95851aff6de873405e8                   0.005236      0.000000   \n",
       "00001a027a0ab970c408182df8484fce                   0.015707      0.000000   \n",
       "00001a18d69bb60bda9779408dcf02ac                   0.015707      1.000000   \n",
       "\n",
       "                                  Census_PrimaryDiskTotalCapacity  \\\n",
       "MachineIdentifier                                                   \n",
       "0000028988387b115f69f31a3bf04f09                         0.000000   \n",
       "000007535c3f730efa9ea0b7ef1bd645                         0.000000   \n",
       "000007905a28d863f6d0d597892cd692                         0.000000   \n",
       "00000b11598a75ea8ba1beea8459149f                         0.000000   \n",
       "000014a5f00daa18e76b81417eeb99fc                         0.000000   \n",
       "000016191b897145d069102325cab760                         0.000000   \n",
       "0000161e8abf8d8b89c5ab8787fd712b                         0.000000   \n",
       "000019515bc8f95851aff6de873405e8                         0.000000   \n",
       "00001a027a0ab970c408182df8484fce                         0.000000   \n",
       "00001a18d69bb60bda9779408dcf02ac                         0.000000   \n",
       "\n",
       "                                  HasDetections  \n",
       "MachineIdentifier                                \n",
       "0000028988387b115f69f31a3bf04f09              0  \n",
       "000007535c3f730efa9ea0b7ef1bd645              0  \n",
       "000007905a28d863f6d0d597892cd692              0  \n",
       "00000b11598a75ea8ba1beea8459149f              1  \n",
       "000014a5f00daa18e76b81417eeb99fc              1  \n",
       "000016191b897145d069102325cab760              1  \n",
       "0000161e8abf8d8b89c5ab8787fd712b              1  \n",
       "000019515bc8f95851aff6de873405e8              0  \n",
       "00001a027a0ab970c408182df8484fce              0  \n",
       "00001a18d69bb60bda9779408dcf02ac              1  "
      ]
     },
     "execution_count": 214,
     "metadata": {},
     "output_type": "execute_result"
    }
   ],
   "source": [
    "df.head(10)"
   ]
  },
  {
   "cell_type": "code",
   "execution_count": 215,
   "metadata": {},
   "outputs": [],
   "source": [
    "df['ComputePower'] = 0.3 * df.Census_ProcessorCoreCount + 0.4 * df.Census_ProcessorCoreCount + \\\n",
    "                        0.2 * df.Wdft_IsGamer + 0.1 * df.Census_PrimaryDiskTotalCapacity"
   ]
  },
  {
   "cell_type": "code",
   "execution_count": 216,
   "metadata": {},
   "outputs": [
    {
     "data": {
      "text/plain": [
       "count   8538014.000000\n",
       "mean          0.067898\n",
       "std           0.091635\n",
       "min           0.000000\n",
       "25%           0.010995\n",
       "50%           0.010995\n",
       "75%           0.203616\n",
       "max           0.700000\n",
       "Name: ComputePower, dtype: float64"
      ]
     },
     "execution_count": 216,
     "metadata": {},
     "output_type": "execute_result"
    }
   ],
   "source": [
    "df['ComputePower'].describe()"
   ]
  },
  {
   "cell_type": "code",
   "execution_count": 217,
   "metadata": {},
   "outputs": [
    {
     "data": {
      "text/plain": [
       "<AxesSubplot:>"
      ]
     },
     "execution_count": 217,
     "metadata": {},
     "output_type": "execute_result"
    },
    {
     "data": {
      "image/png": "[encoded data removed]",
      "text/plain": [
       "<Figure size 432x288 with 1 Axes>"
      ]
     },
     "metadata": {
      "needs_background": "light"
     },
     "output_type": "display_data"
    }
   ],
   "source": [
    "df['ComputePower'].hist(bins=50)"
   ]
  },
  {
   "cell_type": "markdown",
   "metadata": {},
   "source": [
    "This distribution graph doesn't really provide a lot of useful information. This is happening because of the various outliers that are present in the dataset. There are some machines whose RAM and CPU values are much higher than the rest of the systems.\n",
    "\n",
    "We can verify this from the statistics provided by describe(). Mean of Compute Power is at 0.07 and standard deviation is at 0.09. This implies that a majority of the points are spread around 0.1. However, if we look at the max values we see that there are outlier points at 0.7. The number of data points at that high value may be just 1 or 2 but their presence affects the distribution graph heavily.\n",
    "\n",
    "So, for the purposes of the next question, we will remove these outliers. Now typically, removing any data point does affect the data set however in situations like this, presence of these outliers are not allowing us to understand the distribution properly."
   ]
  },
  {
   "cell_type": "markdown",
   "metadata": {},
   "source": [
    "\n",
    "***Q2b* Are powerful computers more or less likely to have malware than underpowered machines? Plot power vs malware detection to support your conclusion. (5 points)**\n"
   ]
  },
  {
   "cell_type": "code",
   "execution_count": 218,
   "metadata": {},
   "outputs": [
    {
     "data": {
      "text/plain": [
       "<AxesSubplot:xlabel='ComputePower'>"
      ]
     },
     "execution_count": 218,
     "metadata": {},
     "output_type": "execute_result"
    },
    {
     "data": {
      "image/png": "[encoded data removed]",
      "text/plain": [
       "<Figure size 432x288 with 1 Axes>"
      ]
     },
     "metadata": {
      "needs_background": "light"
     },
     "output_type": "display_data"
    }
   ],
   "source": [
    "# Identifying and removing the outliers from the dataset\n",
    "\n",
    "sns.boxplot(x=df['ComputePower'])"
   ]
  },
  {
   "cell_type": "markdown",
   "metadata": {},
   "source": [
    "Here we notice the outliers are present between 0.5 and 0.7. We notice most of the data points are present with ComputePower<0.5.\n",
    "\n",
    "For better understanding of the distribution of data, we will only consider the points that are present in \n",
    "> 0.0 < ComputePower < 0.5"
   ]
  },
  {
   "cell_type": "code",
   "execution_count": 219,
   "metadata": {},
   "outputs": [
    {
     "data": {
      "text/plain": [
       "(8538006, 6)"
      ]
     },
     "execution_count": 219,
     "metadata": {},
     "output_type": "execute_result"
    }
   ],
   "source": [
    "df = df.loc[df['ComputePower']<0.5]\n",
    "df.shape"
   ]
  },
  {
   "cell_type": "code",
   "execution_count": 220,
   "metadata": {},
   "outputs": [
    {
     "data": {
      "text/plain": [
       "<seaborn.axisgrid.FacetGrid at 0x7fb0128310a0>"
      ]
     },
     "execution_count": 220,
     "metadata": {},
     "output_type": "execute_result"
    },
    {
     "data": {
      "image/png": "[encoded data removed]",
      "text/plain": [
       "<Figure size 440.625x360 with 1 Axes>"
      ]
     },
     "metadata": {
      "needs_background": "light"
     },
     "output_type": "display_data"
    }
   ],
   "source": [
    "sns.displot(data=df, x='ComputePower', hue='HasDetections', stat='count', multiple='dodge',\n",
    "           palette='pastel', bins=10)"
   ]
  },
  {
   "cell_type": "code",
   "execution_count": 221,
   "metadata": {},
   "outputs": [
    {
     "data": {
      "text/plain": [
       "<seaborn.axisgrid.FacetGrid at 0x7fb0049bfb20>"
      ]
     },
     "execution_count": 221,
     "metadata": {},
     "output_type": "execute_result"
    },
    {
     "data": {
      "image/png": "[encoded data removed]",
      "text/plain": [
       "<Figure size 360x360 with 1 Axes>"
      ]
     },
     "metadata": {
      "needs_background": "light"
     },
     "output_type": "display_data"
    }
   ],
   "source": [
    "sns.displot(data=df.loc[df['HasDetections']==1], x='ComputePower', bins=10, stat='probability', palette='pastel')"
   ]
  },
  {
   "cell_type": "markdown",
   "metadata": {},
   "source": [
    "Figure above shows the distribution of ComputePower against the HasDetections.\n",
    "\n",
    "From the figures above, there seems to be a higher ratio of low powered systems being more prone to being affected by the malware than the high powered systems. Although one thing to notice here is also the number of low-powered devices in the dataset. The dataset seems to contain a larger number of low powered systems than high-powered systems, which makes sense considering a lot of old systems are still in circulation.\n",
    "\n",
    "So the conclusion that *low-powered systems are more vulnerable* while seems to hold true for the current dataset, it may not be very conclusive in real-world."
   ]
  },
  {
   "cell_type": "code",
   "execution_count": 222,
   "metadata": {},
   "outputs": [
    {
     "data": {
      "text/plain": [
       "(0.05764713964842027, 0.0)"
      ]
     },
     "execution_count": 222,
     "metadata": {},
     "output_type": "execute_result"
    }
   ],
   "source": [
    "# data['HasDetections'].corr(data['ComputePower'])\n",
    "\n",
    "pearsonr(df['HasDetections'], df['ComputePower'])"
   ]
  },
  {
   "cell_type": "markdown",
   "metadata": {},
   "source": [
    "The correlation between ComputePower and HasDetections is 0.06 and the pearson coefficient of the correlation (p-value) is 0. This implies that these two features have no significant relation between them."
   ]
  },
  {
   "cell_type": "markdown",
   "metadata": {
    "id": "1wEXze7jU6Lx"
   },
   "source": [
    "## **Section 3: OS version vs Malware detected (Q3)**"
   ]
  },
  {
   "cell_type": "markdown",
   "metadata": {},
   "source": [
    "***Q3.* Software is updated to fix vulnerabilities when found. But these updates can also open a can of worms. Produce plots showing the number (and %) of malware detections against Census_OSBuildNumber and also against Census_OSBuildRevision.  Discuss what you find.**"
   ]
  },
  {
   "cell_type": "code",
   "execution_count": 323,
   "metadata": {},
   "outputs": [],
   "source": [
    "# Read csv file into a dataframe with the selected columns\n",
    "filename = 'train.csv'\n",
    "\n",
    "# Sampling random records from the dataset\n",
    "n = 8921483 #number of records in file\n",
    "s = int(n/8) #desired sample size\n",
    "\n",
    "skip = sorted(random.sample(range(1,n+1),n-s)) \n",
    "\n",
    "# Uncomment below line to load entire dataset\n",
    "skip = 0\n",
    "\n",
    "data = pd.read_csv(filename, usecols = lambda x:x in use_cols, dtype = dtypes, skiprows=skip)\n",
    "\n",
    "# Set 'MachineIdentifier' as the Index for the dataframe\n",
    "data.set_index('MachineIdentifier', inplace=True)"
   ]
  },
  {
   "cell_type": "code",
   "execution_count": 324,
   "metadata": {},
   "outputs": [
    {
     "data": {
      "text/plain": [
       "(8921483, 3)"
      ]
     },
     "execution_count": 324,
     "metadata": {},
     "output_type": "execute_result"
    }
   ],
   "source": [
    "#Load the respective columns to the dataframe \n",
    "\n",
    "_cols = ['Census_OSBuildNumber', 'Census_OSBuildRevision', 'HasDetections']\n",
    "\n",
    "df = data[_cols]\n",
    "df.shape"
   ]
  },
  {
   "cell_type": "code",
   "execution_count": 325,
   "metadata": {},
   "outputs": [
    {
     "data": {
      "text/plain": [
       "(8921483, 3)"
      ]
     },
     "execution_count": 325,
     "metadata": {},
     "output_type": "execute_result"
    }
   ],
   "source": [
    "df = df.dropna(how='any')\n",
    "df.shape"
   ]
  },
  {
   "cell_type": "code",
   "execution_count": 326,
   "metadata": {},
   "outputs": [
    {
     "data": {
      "text/html": [
       "<div>\n",
       "<style scoped>\n",
       "    .dataframe tbody tr th:only-of-type {\n",
       "        vertical-align: middle;\n",
       "    }\n",
       "\n",
       "    .dataframe tbody tr th {\n",
       "        vertical-align: top;\n",
       "    }\n",
       "\n",
       "    .dataframe thead th {\n",
       "        text-align: right;\n",
       "    }\n",
       "</style>\n",
       "<table border=\"1\" class=\"dataframe\">\n",
       "  <thead>\n",
       "    <tr style=\"text-align: right;\">\n",
       "      <th></th>\n",
       "      <th>Census_OSBuildNumber</th>\n",
       "      <th>Census_OSBuildRevision</th>\n",
       "      <th>HasDetections</th>\n",
       "    </tr>\n",
       "    <tr>\n",
       "      <th>MachineIdentifier</th>\n",
       "      <th></th>\n",
       "      <th></th>\n",
       "      <th></th>\n",
       "    </tr>\n",
       "  </thead>\n",
       "  <tbody>\n",
       "    <tr>\n",
       "      <th>0000028988387b115f69f31a3bf04f09</th>\n",
       "      <td>17134</td>\n",
       "      <td>165</td>\n",
       "      <td>0</td>\n",
       "    </tr>\n",
       "    <tr>\n",
       "      <th>000007535c3f730efa9ea0b7ef1bd645</th>\n",
       "      <td>17134</td>\n",
       "      <td>1</td>\n",
       "      <td>0</td>\n",
       "    </tr>\n",
       "    <tr>\n",
       "      <th>000007905a28d863f6d0d597892cd692</th>\n",
       "      <td>17134</td>\n",
       "      <td>165</td>\n",
       "      <td>0</td>\n",
       "    </tr>\n",
       "    <tr>\n",
       "      <th>00000b11598a75ea8ba1beea8459149f</th>\n",
       "      <td>17134</td>\n",
       "      <td>228</td>\n",
       "      <td>1</td>\n",
       "    </tr>\n",
       "    <tr>\n",
       "      <th>000014a5f00daa18e76b81417eeb99fc</th>\n",
       "      <td>17134</td>\n",
       "      <td>191</td>\n",
       "      <td>1</td>\n",
       "    </tr>\n",
       "    <tr>\n",
       "      <th>000016191b897145d069102325cab760</th>\n",
       "      <td>17134</td>\n",
       "      <td>165</td>\n",
       "      <td>1</td>\n",
       "    </tr>\n",
       "    <tr>\n",
       "      <th>0000161e8abf8d8b89c5ab8787fd712b</th>\n",
       "      <td>17134</td>\n",
       "      <td>165</td>\n",
       "      <td>1</td>\n",
       "    </tr>\n",
       "    <tr>\n",
       "      <th>000019515bc8f95851aff6de873405e8</th>\n",
       "      <td>14393</td>\n",
       "      <td>0</td>\n",
       "      <td>0</td>\n",
       "    </tr>\n",
       "    <tr>\n",
       "      <th>00001a027a0ab970c408182df8484fce</th>\n",
       "      <td>17134</td>\n",
       "      <td>254</td>\n",
       "      <td>0</td>\n",
       "    </tr>\n",
       "    <tr>\n",
       "      <th>00001a18d69bb60bda9779408dcf02ac</th>\n",
       "      <td>16299</td>\n",
       "      <td>431</td>\n",
       "      <td>1</td>\n",
       "    </tr>\n",
       "  </tbody>\n",
       "</table>\n",
       "</div>"
      ],
      "text/plain": [
       "                                  Census_OSBuildNumber  \\\n",
       "MachineIdentifier                                        \n",
       "0000028988387b115f69f31a3bf04f09                 17134   \n",
       "000007535c3f730efa9ea0b7ef1bd645                 17134   \n",
       "000007905a28d863f6d0d597892cd692                 17134   \n",
       "00000b11598a75ea8ba1beea8459149f                 17134   \n",
       "000014a5f00daa18e76b81417eeb99fc                 17134   \n",
       "000016191b897145d069102325cab760                 17134   \n",
       "0000161e8abf8d8b89c5ab8787fd712b                 17134   \n",
       "000019515bc8f95851aff6de873405e8                 14393   \n",
       "00001a027a0ab970c408182df8484fce                 17134   \n",
       "00001a18d69bb60bda9779408dcf02ac                 16299   \n",
       "\n",
       "                                  Census_OSBuildRevision  HasDetections  \n",
       "MachineIdentifier                                                        \n",
       "0000028988387b115f69f31a3bf04f09                     165              0  \n",
       "000007535c3f730efa9ea0b7ef1bd645                       1              0  \n",
       "000007905a28d863f6d0d597892cd692                     165              0  \n",
       "00000b11598a75ea8ba1beea8459149f                     228              1  \n",
       "000014a5f00daa18e76b81417eeb99fc                     191              1  \n",
       "000016191b897145d069102325cab760                     165              1  \n",
       "0000161e8abf8d8b89c5ab8787fd712b                     165              1  \n",
       "000019515bc8f95851aff6de873405e8                       0              0  \n",
       "00001a027a0ab970c408182df8484fce                     254              0  \n",
       "00001a18d69bb60bda9779408dcf02ac                     431              1  "
      ]
     },
     "execution_count": 326,
     "metadata": {},
     "output_type": "execute_result"
    }
   ],
   "source": [
    "df.head(10)"
   ]
  },
  {
   "cell_type": "markdown",
   "metadata": {},
   "source": [
    "Let's look at how the distribution looks between different OS builds and also between OS Revisions."
   ]
  },
  {
   "cell_type": "code",
   "execution_count": 327,
   "metadata": {},
   "outputs": [
    {
     "data": {
      "text/plain": [
       "<seaborn.axisgrid.FacetGrid at 0x7faed662cb20>"
      ]
     },
     "execution_count": 327,
     "metadata": {},
     "output_type": "execute_result"
    },
    {
     "data": {
      "image/png": "[encoded data removed]",
      "text/plain": [
       "<Figure size 440.625x360 with 1 Axes>"
      ]
     },
     "metadata": {
      "needs_background": "light"
     },
     "output_type": "display_data"
    }
   ],
   "source": [
    "sns.displot(data=data, x='Census_OSBuildNumber', hue='HasDetections',\n",
    "            stat='probability', multiple='dodge', bins=15, palette='colorblind')"
   ]
  },
  {
   "cell_type": "code",
   "execution_count": 328,
   "metadata": {},
   "outputs": [
    {
     "data": {
      "text/plain": [
       "<seaborn.axisgrid.FacetGrid at 0x7faebaf49dc0>"
      ]
     },
     "execution_count": 328,
     "metadata": {},
     "output_type": "execute_result"
    },
    {
     "data": {
      "image/png": "[encoded data removed]",
      "text/plain": [
       "<Figure size 440.625x360 with 1 Axes>"
      ]
     },
     "metadata": {
      "needs_background": "light"
     },
     "output_type": "display_data"
    }
   ],
   "source": [
    "sns.displot(data=data, x='Census_OSBuildRevision', hue='HasDetections', \n",
    "            stat='probability', multiple='dodge', bins=15, palette='colorblind')"
   ]
  },
  {
   "cell_type": "markdown",
   "metadata": {},
   "source": [
    "These graphs do not provide a lot of information other than the fact that recent OS builds seem to be more impacted by the malware and early build revisions are also more impacted by the malware. But there seems to be more information missing here.\n",
    "\n",
    "Quite specfically, which OS versions have the most malware detected and which build revision inside each build version has the most malware detected.\n",
    "\n",
    "\n",
    "So, let's zoom in on the part where we see maximum malware density."
   ]
  },
  {
   "cell_type": "code",
   "execution_count": 329,
   "metadata": {},
   "outputs": [
    {
     "name": "stdout",
     "output_type": "stream",
     "text": [
      "165 285\n"
     ]
    }
   ],
   "source": [
    "print(df.Census_OSBuildNumber.nunique(), df.Census_OSBuildRevision.nunique())"
   ]
  },
  {
   "cell_type": "markdown",
   "metadata": {},
   "source": [
    "Let's narrow down on the revisions inside each OS release."
   ]
  },
  {
   "cell_type": "markdown",
   "metadata": {},
   "source": [
    "Let's group build revisions per OS Build.\n",
    "Typically each OS Build will have multiple revisions, we are interested in finding out which of these revisions inside a build is more prone to being affected."
   ]
  },
  {
   "cell_type": "code",
   "execution_count": 330,
   "metadata": {},
   "outputs": [
    {
     "data": {
      "text/html": [
       "<div>\n",
       "<style scoped>\n",
       "    .dataframe tbody tr th:only-of-type {\n",
       "        vertical-align: middle;\n",
       "    }\n",
       "\n",
       "    .dataframe tbody tr th {\n",
       "        vertical-align: top;\n",
       "    }\n",
       "\n",
       "    .dataframe thead tr th {\n",
       "        text-align: left;\n",
       "    }\n",
       "</style>\n",
       "<table border=\"1\" class=\"dataframe\">\n",
       "  <thead>\n",
       "    <tr>\n",
       "      <th></th>\n",
       "      <th>Census_OSBuildNumber</th>\n",
       "      <th>Census_OSBuildRevision</th>\n",
       "      <th colspan=\"2\" halign=\"left\">HasDetections</th>\n",
       "      <th>int_percent</th>\n",
       "    </tr>\n",
       "    <tr>\n",
       "      <th></th>\n",
       "      <th></th>\n",
       "      <th></th>\n",
       "      <th>count</th>\n",
       "      <th>sum</th>\n",
       "      <th></th>\n",
       "    </tr>\n",
       "  </thead>\n",
       "  <tbody>\n",
       "    <tr>\n",
       "      <th>0</th>\n",
       "      <td>10240</td>\n",
       "      <td>16384</td>\n",
       "      <td>25834</td>\n",
       "      <td>12114</td>\n",
       "      <td>46.891693</td>\n",
       "    </tr>\n",
       "    <tr>\n",
       "      <th>1</th>\n",
       "      <td>10240</td>\n",
       "      <td>16405</td>\n",
       "      <td>6626</td>\n",
       "      <td>3070</td>\n",
       "      <td>46.332629</td>\n",
       "    </tr>\n",
       "    <tr>\n",
       "      <th>2</th>\n",
       "      <td>10240</td>\n",
       "      <td>16445</td>\n",
       "      <td>1003</td>\n",
       "      <td>443</td>\n",
       "      <td>44.167498</td>\n",
       "    </tr>\n",
       "    <tr>\n",
       "      <th>3</th>\n",
       "      <td>10240</td>\n",
       "      <td>16487</td>\n",
       "      <td>3770</td>\n",
       "      <td>1822</td>\n",
       "      <td>48.328912</td>\n",
       "    </tr>\n",
       "    <tr>\n",
       "      <th>4</th>\n",
       "      <td>10240</td>\n",
       "      <td>16520</td>\n",
       "      <td>1105</td>\n",
       "      <td>492</td>\n",
       "      <td>44.524887</td>\n",
       "    </tr>\n",
       "    <tr>\n",
       "      <th>5</th>\n",
       "      <td>10240</td>\n",
       "      <td>17071</td>\n",
       "      <td>1417</td>\n",
       "      <td>569</td>\n",
       "      <td>40.155258</td>\n",
       "    </tr>\n",
       "    <tr>\n",
       "      <th>6</th>\n",
       "      <td>10240</td>\n",
       "      <td>17146</td>\n",
       "      <td>1050</td>\n",
       "      <td>467</td>\n",
       "      <td>44.476190</td>\n",
       "    </tr>\n",
       "    <tr>\n",
       "      <th>7</th>\n",
       "      <td>10240</td>\n",
       "      <td>17236</td>\n",
       "      <td>1590</td>\n",
       "      <td>705</td>\n",
       "      <td>44.339623</td>\n",
       "    </tr>\n",
       "    <tr>\n",
       "      <th>8</th>\n",
       "      <td>10240</td>\n",
       "      <td>17319</td>\n",
       "      <td>1007</td>\n",
       "      <td>477</td>\n",
       "      <td>47.368421</td>\n",
       "    </tr>\n",
       "    <tr>\n",
       "      <th>9</th>\n",
       "      <td>10240</td>\n",
       "      <td>17394</td>\n",
       "      <td>1378</td>\n",
       "      <td>687</td>\n",
       "      <td>49.854862</td>\n",
       "    </tr>\n",
       "  </tbody>\n",
       "</table>\n",
       "</div>"
      ],
      "text/plain": [
       "  Census_OSBuildNumber Census_OSBuildRevision HasDetections        int_percent\n",
       "                                                      count    sum            \n",
       "0                10240                  16384         25834  12114   46.891693\n",
       "1                10240                  16405          6626   3070   46.332629\n",
       "2                10240                  16445          1003    443   44.167498\n",
       "3                10240                  16487          3770   1822   48.328912\n",
       "4                10240                  16520          1105    492   44.524887\n",
       "5                10240                  17071          1417    569   40.155258\n",
       "6                10240                  17146          1050    467   44.476190\n",
       "7                10240                  17236          1590    705   44.339623\n",
       "8                10240                  17319          1007    477   47.368421\n",
       "9                10240                  17394          1378    687   49.854862"
      ]
     },
     "execution_count": 330,
     "metadata": {},
     "output_type": "execute_result"
    }
   ],
   "source": [
    "_cols = ['Census_OSBuildNumber', 'Census_OSBuildRevision', 'HasDetections']\n",
    "\n",
    "df = data[_cols]\n",
    "df = df.groupby([\"Census_OSBuildNumber\", 'Census_OSBuildRevision']).agg(['count' , \"sum\"])\n",
    "df = df[df[\"HasDetections\"][\"count\"]> 1000]\n",
    "df = df.sort_index()\n",
    "df = df.reset_index()\n",
    "df[\"int_percent\"] = df[\"HasDetections\"][\"sum\"] / df[\"HasDetections\"][\"count\"] * 100\n",
    "df.head(10)"
   ]
  },
  {
   "cell_type": "code",
   "execution_count": 331,
   "metadata": {},
   "outputs": [
    {
     "name": "stdout",
     "output_type": "stream",
     "text": [
      "OS build version: 10240 \tTotal Revisions: 14 \tMalware per revision: 49.7701849959368\n",
      "OS build version: 10586 \tTotal Revisions: 30 \tMalware per revision: 46.961336342943426\n",
      "OS build version: 14393 \tTotal Revisions: 39 \tMalware per revision: 43.66286300035224\n",
      "OS build version: 15063 \tTotal Revisions: 34 \tMalware per revision: 47.86627162376666\n",
      "OS build version: 16299 \tTotal Revisions: 24 \tMalware per revision: 47.38563590008153\n",
      "OS build version: 17134 \tTotal Revisions: 13 \tMalware per revision: 49.47516108087591\n",
      "OS build version: 17692 \tTotal Revisions: 1 \tMalware per revision: 47.44822485207101\n",
      "OS build version: 17738 \tTotal Revisions: 1 \tMalware per revision: 37.295885042455915\n",
      "OS build version: 17746 \tTotal Revisions: 1 \tMalware per revision: 46.22950819672131\n",
      "OS build version: 17751 \tTotal Revisions: 1 \tMalware per revision: 42.04771371769384\n",
      "OS build version: 17754 \tTotal Revisions: 1 \tMalware per revision: 45.564892623716155\n",
      "OS build version: 17758 \tTotal Revisions: 1 \tMalware per revision: 43.01439458086367\n",
      "OS build version: 17763 \tTotal Revisions: 1 \tMalware per revision: 44.308560677328316\n"
     ]
    },
    {
     "data": {
      "text/plain": [
       "Text(0, 0.5, 'Malware Detected (in %)')"
      ]
     },
     "execution_count": 331,
     "metadata": {},
     "output_type": "execute_result"
    },
    {
     "data": {
      "image/png": "[encoded data removed]",
      "text/plain": [
       "<Figure size 1152x288 with 1 Axes>"
      ]
     },
     "metadata": {
      "needs_background": "light"
     },
     "output_type": "display_data"
    }
   ],
   "source": [
    "\n",
    "x = list(str(x) for x in df[\"Census_OSBuildRevision\"])\n",
    "y1 = list(df[\"HasDetections\"][\"count\"])\n",
    "y2 = list(df[\"int_percent\"])\n",
    "\n",
    "\n",
    "plt.rcParams['figure.figsize'] = (16.0, 4.0)\n",
    "fig = plt.figure()\n",
    "ax = fig.add_axes([0,0,1,1])\n",
    "\n",
    "for OS in df[\"Census_OSBuildNumber\"].unique():\n",
    "  temp = df[df[\"Census_OSBuildNumber\"] == OS]\n",
    "  temp = temp.sort_values(by=['Census_OSBuildRevision'])\n",
    "  x = list(str(x) for x in temp[\"Census_OSBuildRevision\"])\n",
    "  y2 = list(temp[\"int_percent\"])\n",
    "  ax.bar(x, y2, alpha=0.6, linewidth=2, label=str(OS))\n",
    "  print(\"OS build version:\",OS,\"\\tTotal Revisions:\", len(y2), \"\\tMalware per revision:\", sum(y2)/ len(y2))\n",
    "\n",
    "plt.legend()\n",
    "ax.set_title('Malware Percent against Build Revisions for each Build Version')\n",
    "ax.set_xlabel('Census_OSBuildRevision')\n",
    "ax.set_ylabel('Malware Detected (in %)')"
   ]
  },
  {
   "cell_type": "markdown",
   "metadata": {},
   "source": [
    "From this analysis, we can conclusively say that OS build version 10240 has the highest number of malwares detected even between revisions. The graph also suggests that subsequent build revisions didnot see a decline in malware detection in build version 10240, where unlike other build versions the malware detection percent actually increases with subsequent revisions."
   ]
  },
  {
   "cell_type": "markdown",
   "metadata": {
    "id": "6VcDL3PrH-UH"
   },
   "source": [
    "## **Section 4: Effect of Number of AV Products Installed (Q4)**"
   ]
  },
  {
   "cell_type": "markdown",
   "metadata": {},
   "source": [
    "***Q4.* Investigate the question of whether antivirus software(s) reduces the amount of malware.  Does the number of antivirus products you use matter? What is your conclusion and what is your evidence supporting it?**"
   ]
  },
  {
   "cell_type": "code",
   "execution_count": 24,
   "metadata": {},
   "outputs": [],
   "source": [
    "# Read csv file into a dataframe with the selected columns\n",
    "filename = 'train.csv'\n",
    "\n",
    "# Sampling random records from the dataset\n",
    "n = 8921483 #number of records in file\n",
    "s = int(n/8) #desired sample size\n",
    "\n",
    "skip = sorted(random.sample(range(1,n+1),n-s)) \n",
    "\n",
    "# Uncomment below line to load entire dataset\n",
    "skip = 0\n",
    "\n",
    "data = pd.read_csv(filename, usecols = lambda x:x in use_cols, dtype = dtypes, skiprows=skip)\n",
    "\n",
    "# Set 'MachineIdentifier' as the Index for the dataframe\n",
    "data.set_index('MachineIdentifier', inplace=True)"
   ]
  },
  {
   "cell_type": "code",
   "execution_count": 25,
   "metadata": {},
   "outputs": [
    {
     "data": {
      "text/plain": [
       "(8921483, 3)"
      ]
     },
     "execution_count": 25,
     "metadata": {},
     "output_type": "execute_result"
    }
   ],
   "source": [
    "#Load the respective columns to the dataframe \n",
    "\n",
    "_cols = ['AVProductStatesIdentifier','AVProductsInstalled', 'HasDetections']\n",
    "\n",
    "df = data[_cols]\n",
    "df.shape"
   ]
  },
  {
   "cell_type": "code",
   "execution_count": 26,
   "metadata": {},
   "outputs": [
    {
     "data": {
      "text/plain": [
       "(8885262, 3)"
      ]
     },
     "execution_count": 26,
     "metadata": {},
     "output_type": "execute_result"
    }
   ],
   "source": [
    "df = df.dropna(how='any')\n",
    "df.shape"
   ]
  },
  {
   "cell_type": "code",
   "execution_count": 28,
   "metadata": {},
   "outputs": [
    {
     "data": {
      "text/plain": [
       "28970"
      ]
     },
     "execution_count": 28,
     "metadata": {},
     "output_type": "execute_result"
    }
   ],
   "source": [
    "df.AVProductStatesIdentifier.nunique()"
   ]
  },
  {
   "cell_type": "code",
   "execution_count": 29,
   "metadata": {},
   "outputs": [
    {
     "data": {
      "text/plain": [
       "8"
      ]
     },
     "execution_count": 29,
     "metadata": {},
     "output_type": "execute_result"
    }
   ],
   "source": [
    "df.AVProductsInstalled.nunique()"
   ]
  },
  {
   "cell_type": "code",
   "execution_count": 30,
   "metadata": {},
   "outputs": [
    {
     "data": {
      "text/plain": [
       "AVProductsInstalled  HasDetections\n",
       "0.000000             0                      1\n",
       "1.000000             1                3406078\n",
       "                     0                2802815\n",
       "2.000000             0                1483012\n",
       "                     1                 975996\n",
       "3.000000             0                 147421\n",
       "                     1                  60682\n",
       "4.000000             0                   6386\n",
       "                     1                   2371\n",
       "5.000000             0                    346\n",
       "                     1                    125\n",
       "6.000000             0                     22\n",
       "                     1                      6\n",
       "7.000000             1                      1\n",
       "Name: HasDetections, dtype: int64"
      ]
     },
     "execution_count": 30,
     "metadata": {},
     "output_type": "execute_result"
    }
   ],
   "source": [
    "df.groupby('AVProductsInstalled')['HasDetections'].value_counts()"
   ]
  },
  {
   "cell_type": "code",
   "execution_count": 31,
   "metadata": {},
   "outputs": [
    {
     "data": {
      "text/plain": [
       "Text(0.5, 1.0, 'Malware detection probabilty vs AVProductsInstalled')"
      ]
     },
     "execution_count": 31,
     "metadata": {},
     "output_type": "execute_result"
    },
    {
     "data": {
      "image/png": "[encoded data removed]",
      "text/plain": [
       "<Figure size 440.625x360 with 1 Axes>"
      ]
     },
     "metadata": {
      "needs_background": "light"
     },
     "output_type": "display_data"
    }
   ],
   "source": [
    "sns.displot(data=df, x='AVProductsInstalled', hue='HasDetections', \n",
    "            stat='probability', multiple='stack',\n",
    "            discrete=True, shrink=0.4)\n",
    "plt.title('Malware detection probabilty vs AVProductsInstalled')"
   ]
  },
  {
   "cell_type": "markdown",
   "metadata": {},
   "source": [
    "The plot above shows the number of systems that were installed with 1-4 different AntiVirus products and whether they were found to have the malware. From this graph, we can clearly notice that among the systems which had 2 or more AntiVirus softwares installed, the malware presence was much smaller. For systems with 2 AV softwares present, we notice that more number of systems were detected to not have the malware than ones detected to have malware.\n",
    "\n",
    "However, with systems that had only 1 AV product installed we notice more devices were found to have the malware than did not have the malware.\n",
    "\n",
    "So from just looking at the distribution, it does seem like having more than 1 antivirus product installed on your system reduces the chances of getting impacted by Malware."
   ]
  },
  {
   "cell_type": "markdown",
   "metadata": {
    "id": "g8VNweURVXip"
   },
   "source": [
    "## **Section 5: Interesting findings (Q5)**"
   ]
  },
  {
   "cell_type": "markdown",
   "metadata": {},
   "source": [
    "***Q5.* Create 3 plots of your own using the dataset that you think reveal something very interesting. Explain what it is, and anything else you learned from your exploration.**"
   ]
  },
  {
   "cell_type": "code",
   "execution_count": 33,
   "metadata": {},
   "outputs": [],
   "source": [
    "# Read csv file into a dataframe with the selected columns\n",
    "filename = 'train.csv'\n",
    "\n",
    "# Sampling random records from the dataset\n",
    "n = 8921483 #number of records in file\n",
    "s = int(n/8) #desired sample size\n",
    "\n",
    "skip = sorted(random.sample(range(1,n+1),n-s)) \n",
    "\n",
    "# Uncomment below line to load entire dataset\n",
    "skip = 0\n",
    "\n",
    "\n",
    "data = pd.read_csv(filename, usecols = lambda x:x in use_cols, dtype = dtypes, skiprows=skip)\n",
    "\n",
    "# Set 'MachineIdentifier' as the Index for the dataframe\n",
    "data.set_index('MachineIdentifier', inplace=True)"
   ]
  },
  {
   "cell_type": "code",
   "execution_count": 52,
   "metadata": {},
   "outputs": [
    {
     "data": {
      "text/plain": [
       "(8921483, 10)"
      ]
     },
     "execution_count": 52,
     "metadata": {},
     "output_type": "execute_result"
    }
   ],
   "source": [
    "#Load the respective columns to the dataframe \n",
    "\n",
    "_cols = ['AVProductsEnabled', 'AVProductsInstalled', 'Wdft_IsGamer',\n",
    "            'Census_DeviceFamily', 'Platform', \n",
    "            'CountryIdentifier', 'HasTpm', 'Firewall', 'Census_MDC2FormFactor',\n",
    "            'HasDetections']\n",
    "\n",
    "#use_cols.append(_cols)\n",
    "\n",
    "data = pd.read_csv(filename, usecols = lambda x:x in _cols, dtype = dtypes, skiprows=skip)\n",
    "\n",
    "df = data[_cols]\n",
    "df.shape"
   ]
  },
  {
   "cell_type": "markdown",
   "metadata": {},
   "source": [
    "### **AntiVirus Products Enabled vs Installed**"
   ]
  },
  {
   "cell_type": "markdown",
   "metadata": {},
   "source": [
    "Continuing from the previous analysis about Malware detection against AntiVirus products installed, an interesting question arises of how many of those AntiVirus products are actually enabled on the system at a time.\n",
    "\n",
    "AVProductsEnabled value tells us how many AVProducts are active and running on the system. Let's look the plot below."
   ]
  },
  {
   "cell_type": "code",
   "execution_count": 49,
   "metadata": {},
   "outputs": [
    {
     "data": {
      "text/plain": [
       "<seaborn.axisgrid.FacetGrid at 0x7f0fbbe50e80>"
      ]
     },
     "execution_count": 49,
     "metadata": {},
     "output_type": "execute_result"
    },
    {
     "data": {
      "image/png": "[encoded data removed]",
      "text/plain": [
       "<Figure size 464.625x360 with 1 Axes>"
      ]
     },
     "metadata": {
      "needs_background": "light"
     },
     "output_type": "display_data"
    }
   ],
   "source": [
    "sns.displot(data=df.loc[(df['AVProductsInstalled']>1) & (df['HasDetections']==1)], x='AVProductsInstalled', hue='AVProductsEnabled', stat='probability', \n",
    "            multiple='stack', discrete=True)"
   ]
  },
  {
   "cell_type": "markdown",
   "metadata": {},
   "source": [
    "A very interesting observation here is that for most of the systems present in the dataset which have 2 or more AV Products installed, there is only 1 product which is enabled at a time.\n",
    "\n",
    "From the graph above, we can see that there's a very small percentage (<10%) of sytems with 2 or more antivirus products enabled that were impacted with the malware.\n",
    "\n",
    "\n",
    "This goes back to further bolster our previous point that having more than 1 anti virus product installed on your system does help in keeping it safe but they need to be enabled and running."
   ]
  },
  {
   "cell_type": "markdown",
   "metadata": {},
   "source": [
    "### **Gamer, Firewall, TPM, and other features**"
   ]
  },
  {
   "cell_type": "markdown",
   "metadata": {},
   "source": [
    "There are some attributes about a computer system which may provide it additional security to various kinds of malwares.\n",
    "\n",
    "Some of these attributes are TPM (Trusted Platform Module), Firewall system, and whether the system is a Gaming system. Let's see how each of these features impact the system's chances at being affected by malware.\n"
   ]
  },
  {
   "cell_type": "code",
   "execution_count": 53,
   "metadata": {},
   "outputs": [
    {
     "data": {
      "text/plain": [
       "<AxesSubplot:>"
      ]
     },
     "execution_count": 53,
     "metadata": {},
     "output_type": "execute_result"
    },
    {
     "data": {
      "image/png": "[encoded data removed]",
      "text/plain": [
       "<Figure size 432x288 with 2 Axes>"
      ]
     },
     "metadata": {
      "needs_background": "light"
     },
     "output_type": "display_data"
    }
   ],
   "source": [
    "sns.heatmap(df.corr(), vmin=-1, vmax=1, cmap='seismic', linewidth=0.2, annot=True)"
   ]
  },
  {
   "cell_type": "markdown",
   "metadata": {},
   "source": [
    "Looking at the correlation matrix between variables, features such as Firewall/Wdft_IsGamer/HasTpm do not seem to have any correlation with the system being more/less vulnerable. This is an interesting observation as during the initial analysis (Q2), I had considered Wdft_IsGamer as an impactful feature for ComputePower which we then tried to correlate with Malware detection probability."
   ]
  },
  {
   "cell_type": "markdown",
   "metadata": {},
   "source": [
    "### **Device Type, OS, and malware**"
   ]
  },
  {
   "cell_type": "code",
   "execution_count": 74,
   "metadata": {},
   "outputs": [],
   "source": [
    "_cols = ['MachineIdentifier','HasDetections', 'SmartScreen', 'Census_OSInstallTypeName', 'Census_OSWUAutoUpdateOptionsName', 'Census_OSBranch', 'OsPlatformSubRelease', 'OsBuild',\n",
    "            'Census_PrimaryDiskTypeName', 'Platform', 'Processor', 'Census_OSArchitecture', 'Census_MDC2FormFactor']\n",
    "\n",
    "data = pd.read_csv(filename, usecols = lambda x:x in _cols, dtype = dtypes, skiprows=skip)\n",
    "\n",
    "df = data[_cols]"
   ]
  },
  {
   "cell_type": "code",
   "execution_count": 79,
   "metadata": {},
   "outputs": [
    {
     "data": {
      "text/plain": [
       "<AxesSubplot:xlabel='Platform'>"
      ]
     },
     "execution_count": 79,
     "metadata": {},
     "output_type": "execute_result"
    },
    {
     "data": {
      "image/png": "[encoded data removed]",
      "text/plain": [
       "<Figure size 1152x288 with 1 Axes>"
      ]
     },
     "metadata": {
      "needs_background": "light"
     },
     "output_type": "display_data"
    }
   ],
   "source": [
    "d1 = df.groupby('Platform')['HasDetections'].agg(['sum','count'])\n",
    "d1['detection_prob'] = d1['sum']/d1['count']*100\n",
    "\n",
    "\n",
    "d1.plot.bar(y='detection_prob') "
   ]
  },
  {
   "cell_type": "code",
   "execution_count": 73,
   "metadata": {},
   "outputs": [
    {
     "data": {
      "text/plain": [
       "<AxesSubplot:xlabel='Census_OSInstallTypeName'>"
      ]
     },
     "execution_count": 73,
     "metadata": {},
     "output_type": "execute_result"
    },
    {
     "data": {
      "image/png": "[encoded data removed]",
      "text/plain": [
       "<Figure size 1152x288 with 1 Axes>"
      ]
     },
     "metadata": {
      "needs_background": "light"
     },
     "output_type": "display_data"
    }
   ],
   "source": [
    "d1 = df.groupby('Census_OSInstallTypeName')['HasDetections'].agg(['sum','count'])\n",
    "d1['detection_prob'] = d1['sum']/d1['count']*100\n",
    "\n",
    "d1.plot.bar(y='detection_prob')"
   ]
  },
  {
   "cell_type": "code",
   "execution_count": 75,
   "metadata": {},
   "outputs": [
    {
     "data": {
      "text/plain": [
       "<AxesSubplot:xlabel='Census_MDC2FormFactor'>"
      ]
     },
     "execution_count": 75,
     "metadata": {},
     "output_type": "execute_result"
    },
    {
     "data": {
      "image/png": "[encoded data removed]",
      "text/plain": [
       "<Figure size 1152x288 with 1 Axes>"
      ]
     },
     "metadata": {
      "needs_background": "light"
     },
     "output_type": "display_data"
    }
   ],
   "source": [
    "d1 = df.groupby('Census_MDC2FormFactor')['HasDetections'].agg(['sum','count'])\n",
    "d1['detection_prob'] = d1['sum']/d1['count']*100\n",
    "\n",
    "d1.plot.bar(y='detection_prob')"
   ]
  },
  {
   "cell_type": "markdown",
   "metadata": {},
   "source": [
    "The above graphs show the probability of each type of device showing up as malware in the dataset. These kind of categorical evaluations are helpful in understanding how different types of devices could get impacted to this malware. As shown, Windows2016 shows least probability of getting affected by malware, cleanPCRefresh show minimum chances of malware detection between the various upgrade types."
   ]
  },
  {
   "cell_type": "markdown",
   "metadata": {
    "id": "ylT6xzFmVfT-"
   },
   "source": [
    "## **Section 6: Baseline modelling (Q6)**"
   ]
  },
  {
   "cell_type": "markdown",
   "metadata": {},
   "source": [
    "***Q6.* Now build a baseline model for this task. We will call this Model 0. You will train a logistic regression model on 80% of the training data and test it on the remaining 20% chosen at random. List the features used and print the error rate along with the AUC score of this model. What do you make of the error rate?**"
   ]
  },
  {
   "cell_type": "code",
   "execution_count": 6,
   "metadata": {},
   "outputs": [],
   "source": [
    "#Logistic Regression for Baseline modelling\n",
    "\n",
    "\n",
    "numerical_columns = ['Census_FirmwareManufacturerIdentifier','Census_PrimaryDiskTotalCapacity','Census_OEMNameIdentifier', 'Wdft_RegionIdentifier',\n",
    "                  'Census_OSBuildRevision','LocaleEnglishNameIdentifier', 'Census_ProcessorModelIdentifier', 'Census_SystemVolumeTotalCapacity', \n",
    "                  'AVProductStatesIdentifier', 'Census_InternalPrimaryDiagonalDisplaySizeInInches', 'CountryIdentifier']\n",
    "\n",
    "categorical_columns = ['Census_ActivationChannel','OsBuildLab',\n",
    "                    'EngineVersion','SmartScreen','AppVersion','Census_OSVersion','AvSigVersion','Census_OSInstallTypeName']\n",
    "\n",
    "feature_set = numerical_columns + categorical_columns\n",
    "\n",
    "X = data[feature_set]\n",
    "y = data['HasDetections']\n",
    "\n",
    "\n",
    "\n",
    "# split X and y into training and testing sets\n",
    "from sklearn.model_selection import train_test_split\n",
    "X_train,X_test,y_train,y_test=train_test_split(X,y,test_size=0.20,random_state=0)\n"
   ]
  },
  {
   "cell_type": "code",
   "execution_count": 7,
   "metadata": {},
   "outputs": [],
   "source": [
    "\n",
    "# Create copies for this model with only numerical columns\n",
    "baseline_X_train = X_train[numerical_columns].copy()\n",
    "baseline_X_test = X_test[numerical_columns].copy()"
   ]
  },
  {
   "cell_type": "code",
   "execution_count": 8,
   "metadata": {},
   "outputs": [],
   "source": [
    "# Remove data from memory, we will use X and y for all the following questions\n",
    "del data"
   ]
  },
  {
   "cell_type": "code",
   "execution_count": 9,
   "metadata": {},
   "outputs": [],
   "source": [
    "# Data Cleaning\n",
    "\n",
    "\n",
    "#baseline_X_train = baseline_X_train.apply(pd.to_numeric, errors='coerce')\n",
    "\n",
    "\n",
    "baseline_X_train.fillna(-1, inplace=True)\n",
    "baseline_X_test.fillna(-1, inplace=True)"
   ]
  },
  {
   "cell_type": "code",
   "execution_count": 10,
   "metadata": {},
   "outputs": [],
   "source": [
    "# import LogisticRegression\n",
    "from sklearn.linear_model import LogisticRegression\n",
    "\n",
    "# instantiate the model \n",
    "log_reg = LogisticRegression()\n",
    "\n",
    "# model fit with data\n",
    "log_reg.fit(baseline_X_train,y_train)\n",
    "\n",
    "# Predict y values based on model\n",
    "y_pred=log_reg.predict(baseline_X_test)"
   ]
  },
  {
   "cell_type": "code",
   "execution_count": 11,
   "metadata": {},
   "outputs": [
    {
     "data": {
      "text/plain": [
       "array([[    17, 892080],\n",
       "       [     9, 892191]])"
      ]
     },
     "execution_count": 11,
     "metadata": {},
     "output_type": "execute_result"
    }
   ],
   "source": [
    "# Test the prediction using Confusion matrix\n",
    "from sklearn import metrics\n",
    "cf_matrix = metrics.confusion_matrix(y_test, y_pred)\n",
    "cf_matrix\n"
   ]
  },
  {
   "cell_type": "code",
   "execution_count": 12,
   "metadata": {},
   "outputs": [
    {
     "data": {
      "text/plain": [
       "Text(0.5, 257.44, 'Predicted label')"
      ]
     },
     "execution_count": 12,
     "metadata": {},
     "output_type": "execute_result"
    },
    {
     "data": {
      "image/png": "[encoded data removed]",
      "text/plain": [
       "<Figure size 432x288 with 2 Axes>"
      ]
     },
     "metadata": {
      "needs_background": "light"
     },
     "output_type": "display_data"
    }
   ],
   "source": [
    "class_names=[0,1] # name  of classes\n",
    "fig, ax = plt.subplots()\n",
    "tick_marks = np.arange(len(class_names))\n",
    "plt.xticks(tick_marks, class_names)\n",
    "plt.yticks(tick_marks, class_names)\n",
    "# create heatmap\n",
    "sns.heatmap(pd.DataFrame(cf_matrix), annot=True, cmap=\"YlGnBu\" ,fmt='g')\n",
    "ax.xaxis.set_label_position(\"top\")\n",
    "plt.tight_layout()\n",
    "plt.title('Confusion matrix', y=1.1)\n",
    "plt.ylabel('Actual label')\n",
    "plt.xlabel('Predicted label')\n"
   ]
  },
  {
   "cell_type": "code",
   "execution_count": 13,
   "metadata": {},
   "outputs": [
    {
     "name": "stdout",
     "output_type": "stream",
     "text": [
      "Model Accuracy =  0.5000333464664235\n",
      "Model Precision =  0.5000311051404187\n",
      "Model Recall =  0.9999899125756557\n"
     ]
    }
   ],
   "source": [
    "print(\"Model Accuracy = \",metrics.accuracy_score(y_test, y_pred))\n",
    "print(\"Model Precision = \",metrics.precision_score(y_test, y_pred))\n",
    "print(\"Model Recall = \",metrics.recall_score(y_test, y_pred))"
   ]
  },
  {
   "cell_type": "code",
   "execution_count": 14,
   "metadata": {},
   "outputs": [
    {
     "data": {
      "image/png": "[encoded data removed]",
      "text/plain": [
       "<Figure size 432x288 with 1 Axes>"
      ]
     },
     "metadata": {
      "needs_background": "light"
     },
     "output_type": "display_data"
    }
   ],
   "source": [
    "y_pred_probability = log_reg.predict_proba(baseline_X_test)[::,1]\n",
    "fpr, tpr, _ = metrics.roc_curve(y_test,  y_pred_probability)\n",
    "auc = metrics.roc_auc_score(y_test, y_pred_probability)\n",
    "plt.plot(fpr,tpr,label=\"data 1, auc=\"+str(auc))\n",
    "plt.legend(loc=4)\n",
    "plt.show()"
   ]
  },
  {
   "cell_type": "code",
   "execution_count": 15,
   "metadata": {},
   "outputs": [
    {
     "name": "stdout",
     "output_type": "stream",
     "text": [
      "AUC Score: 52.82362915789902%\n",
      "\n",
      "Error rate (Mean Squared Error) 49.996665353357656%\n",
      "\n"
     ]
    }
   ],
   "source": [
    "print('AUC Score: {}%'.format(auc*100)) \n",
    "print('\\nError rate (Mean Squared Error) {}%\\n'.format(100* metrics.mean_squared_error(y_test, y_pred)))"
   ]
  },
  {
   "cell_type": "code",
   "execution_count": 16,
   "metadata": {},
   "outputs": [
    {
     "data": {
      "text/plain": [
       "['log_reg_baseline.sav']"
      ]
     },
     "execution_count": 16,
     "metadata": {},
     "output_type": "execute_result"
    }
   ],
   "source": [
    "import joblib\n",
    "joblib.dump(log_reg, 'log_reg_baseline.sav')"
   ]
  },
  {
   "cell_type": "markdown",
   "metadata": {},
   "source": [
    "Model accuracy is at 50% and AUC score is also ~53. This implies that the baseline model is performing the same as random guessing. It's definitely not a good model, but we can try to improve the accuracy with some data processing.\n"
   ]
  },
  {
   "cell_type": "markdown",
   "metadata": {
    "id": "WmJ8gezsVkz4"
   },
   "source": [
    "## **Section 7: Feature Cleaning and Additional models (Q7a & 7b)**"
   ]
  },
  {
   "cell_type": "markdown",
   "metadata": {},
   "source": [
    "***Q7.a*\n",
    "Cleaning Features: Features can be preprocessed to improve them before feeding into the model (e.g. normalize or scale the input vector, convert non-numerical value into float, or do a special treatment of missing values, etc). This can significantly improve the performance of your model. Do preprocessing for the features. Explain what you did.**"
   ]
  },
  {
   "cell_type": "code",
   "execution_count": 8,
   "metadata": {},
   "outputs": [],
   "source": [
    "X_train = X_train[feature_set]\n",
    "X_test = X_test[feature_set]"
   ]
  },
  {
   "cell_type": "code",
   "execution_count": 9,
   "metadata": {},
   "outputs": [
    {
     "data": {
      "text/plain": [
       "Census_FirmwareManufacturerIdentifier                     0\n",
       "Census_PrimaryDiskTotalCapacity                           0\n",
       "Census_OEMNameIdentifier                                  0\n",
       "Wdft_RegionIdentifier                                     0\n",
       "Census_OSBuildRevision                                    0\n",
       "LocaleEnglishNameIdentifier                               0\n",
       "Census_ProcessorModelIdentifier                           0\n",
       "Census_SystemVolumeTotalCapacity                          0\n",
       "AVProductStatesIdentifier                                 0\n",
       "Census_InternalPrimaryDiagonalDisplaySizeInInches         0\n",
       "CountryIdentifier                                         0\n",
       "Census_ActivationChannel                                  0\n",
       "OsBuildLab                                                6\n",
       "EngineVersion                                             0\n",
       "SmartScreen                                          635267\n",
       "AppVersion                                                0\n",
       "Census_OSVersion                                          0\n",
       "AvSigVersion                                              0\n",
       "Census_OSInstallTypeName                                  0\n",
       "dtype: int64"
      ]
     },
     "execution_count": 9,
     "metadata": {},
     "output_type": "execute_result"
    }
   ],
   "source": [
    "# For numerical data, fill NaN values with -1\n",
    "X_train[numerical_columns] = X_train[numerical_columns].fillna(value=-1)\n",
    "X_train.isnull().sum()\n",
    "\n",
    "\n",
    "X_test[numerical_columns] = X_test[numerical_columns].fillna(value=-1)\n",
    "X_test.isnull().sum()"
   ]
  },
  {
   "cell_type": "code",
   "execution_count": 10,
   "metadata": {},
   "outputs": [
    {
     "data": {
      "text/plain": [
       "Census_ActivationChannel       6\n",
       "OsBuildLab                   646\n",
       "EngineVersion                 69\n",
       "SmartScreen                   20\n",
       "AppVersion                   108\n",
       "Census_OSVersion             451\n",
       "AvSigVersion                8474\n",
       "Census_OSInstallTypeName       9\n",
       "dtype: int64"
      ]
     },
     "execution_count": 10,
     "metadata": {},
     "output_type": "execute_result"
    }
   ],
   "source": [
    "X_train[categorical_columns].nunique()"
   ]
  },
  {
   "cell_type": "markdown",
   "metadata": {},
   "source": [
    "For simplicity of model creation and feature set cleaning, we will only use 3 categorical columns ['Census_ActivationChannel', 'SmartScreen', 'Census_OSInstallTypeName'].\n",
    "\n",
    "We then encode each of these columns with a numerical label so that it becomes easier for our model to process them."
   ]
  },
  {
   "cell_type": "code",
   "execution_count": 11,
   "metadata": {},
   "outputs": [
    {
     "name": "stdout",
     "output_type": "stream",
     "text": [
      "Retail            3781248\n",
      "OEM:DM            2731351\n",
      "Volume:GVLK        361133\n",
      "OEM:NONSLP         254130\n",
      "Volume:MAK           6466\n",
      "Retail:TB:Eval       2858\n",
      "Name: Census_ActivationChannel, dtype: int64 RequireAdmin    3452485\n",
      "ExistsNotSet     837414\n",
      "Off              149316\n",
      "Warn             108179\n",
      "Prompt            27543\n",
      "Block             18101\n",
      "off                1087\n",
      "On                  594\n",
      "&#x02;              342\n",
      "&#x01;              253\n",
      "on                  109\n",
      "requireadmin          8\n",
      "OFF                   2\n",
      "Promt                 2\n",
      "0                     2\n",
      "Enabled               1\n",
      "prompt                1\n",
      "warn                  1\n",
      "00000000              1\n",
      "&#x03;                1\n",
      "requireAdmin          0\n",
      "Name: SmartScreen, dtype: int64 UUPUpgrade        2086177\n",
      "IBSClean          1321383\n",
      "Update            1274666\n",
      "Upgrade           1001520\n",
      "Other              671909\n",
      "Reset              519243\n",
      "Refresh            164367\n",
      "Clean               55282\n",
      "CleanPCRefresh      42639\n",
      "Name: Census_OSInstallTypeName, dtype: int64\n"
     ]
    }
   ],
   "source": [
    "select_categorical_columns = ['Census_ActivationChannel', 'SmartScreen', 'Census_OSInstallTypeName']\n",
    "\n",
    "print(X_train.Census_ActivationChannel.value_counts(), \n",
    "      X_train.SmartScreen.value_counts(),\n",
    "      X_train.Census_OSInstallTypeName.value_counts())"
   ]
  },
  {
   "cell_type": "code",
   "execution_count": 12,
   "metadata": {},
   "outputs": [],
   "source": [
    "from sklearn.preprocessing import LabelEncoder\n",
    "le = LabelEncoder()\n",
    "\n",
    "for col in select_categorical_columns:\n",
    "    X_train[col] = le.fit_transform(X_train[col])\n",
    "    X_test[col] = le.fit_transform(X_test[col])"
   ]
  },
  {
   "cell_type": "code",
   "execution_count": 13,
   "metadata": {},
   "outputs": [],
   "source": [
    "X_train = X_train[numerical_columns + select_categorical_columns]\n",
    "X_test = X_test[numerical_columns + select_categorical_columns]"
   ]
  },
  {
   "cell_type": "code",
   "execution_count": 14,
   "metadata": {},
   "outputs": [],
   "source": [
    "# Apply minmaxScalin to all column in train and test set\n",
    "# This is done so that all features are now scaled 0 - 1 and thus can be directly used in our model\n",
    "from sklearn.preprocessing import MinMaxScaler\n",
    "\n",
    "# create a scaler object\n",
    "scaler = MinMaxScaler()\n",
    "# fit and transform the data\n",
    "X_train = pd.DataFrame(scaler.fit_transform(X_train), columns=X_train.columns)\n",
    "X_test = pd.DataFrame(scaler.fit_transform(X_test), columns=X_test.columns)"
   ]
  },
  {
   "cell_type": "markdown",
   "metadata": {},
   "source": [
    "***Q7.b.i* Final Model Creation: Create two models.\n",
    "Model 1 should use the cleaned features (All of the features do not have to be preprocessed) and logistic regression for training.**\n"
   ]
  },
  {
   "cell_type": "markdown",
   "metadata": {},
   "source": [
    "#### Model 1: Logistic Regression with pre-processed data"
   ]
  },
  {
   "cell_type": "code",
   "execution_count": 151,
   "metadata": {},
   "outputs": [],
   "source": [
    "# import LogisticRegression\n",
    "from sklearn.linear_model import LogisticRegression\n",
    "\n",
    "# instantiate the model \n",
    "log_reg = LogisticRegression()\n",
    "\n",
    "# model fit with data\n",
    "log_reg.fit(X_train,y_train)\n",
    "\n",
    "# Predict y values based on model\n",
    "y_pred=log_reg.predict(X_test)"
   ]
  },
  {
   "cell_type": "code",
   "execution_count": 152,
   "metadata": {},
   "outputs": [
    {
     "data": {
      "text/plain": [
       "array([[299297, 592800],\n",
       "       [210498, 681702]])"
      ]
     },
     "execution_count": 152,
     "metadata": {},
     "output_type": "execute_result"
    }
   ],
   "source": [
    "# Test the prediction using Confusion matrix\n",
    "from sklearn import metrics\n",
    "cf_matrix = metrics.confusion_matrix(y_test, y_pred)\n",
    "cf_matrix\n"
   ]
  },
  {
   "cell_type": "code",
   "execution_count": 153,
   "metadata": {},
   "outputs": [
    {
     "data": {
      "text/plain": [
       "Text(0.5, 257.44, 'Predicted label')"
      ]
     },
     "execution_count": 153,
     "metadata": {},
     "output_type": "execute_result"
    },
    {
     "data": {
      "image/png": "[encoded data removed]",
      "text/plain": [
       "<Figure size 1152x288 with 2 Axes>"
      ]
     },
     "metadata": {
      "needs_background": "light"
     },
     "output_type": "display_data"
    }
   ],
   "source": [
    "class_names=[0,1] # name  of classes\n",
    "fig, ax = plt.subplots()\n",
    "tick_marks = np.arange(len(class_names))\n",
    "plt.xticks(tick_marks, class_names)\n",
    "plt.yticks(tick_marks, class_names)\n",
    "# create heatmap\n",
    "sns.heatmap(pd.DataFrame(cf_matrix), annot=True, cmap=\"YlGnBu\" ,fmt='g')\n",
    "ax.xaxis.set_label_position(\"top\")\n",
    "plt.tight_layout()\n",
    "plt.title('Confusion matrix', y=1.1)\n",
    "plt.ylabel('Actual label')\n",
    "plt.xlabel('Predicted label')\n"
   ]
  },
  {
   "cell_type": "code",
   "execution_count": 154,
   "metadata": {},
   "outputs": [
    {
     "name": "stdout",
     "output_type": "stream",
     "text": [
      "Model Accuracy =  0.5497958019320774\n",
      "Model Precision =  0.5348771520170231\n",
      "Model Recall =  0.7640685944855413\n"
     ]
    }
   ],
   "source": [
    "print(\"Model Accuracy = \",metrics.accuracy_score(y_test, y_pred))\n",
    "print(\"Model Precision = \",metrics.precision_score(y_test, y_pred))\n",
    "print(\"Model Recall = \",metrics.recall_score(y_test, y_pred))"
   ]
  },
  {
   "cell_type": "code",
   "execution_count": 155,
   "metadata": {},
   "outputs": [
    {
     "data": {
      "image/png": "[encoded data removed]",
      "text/plain": [
       "<Figure size 1152x288 with 1 Axes>"
      ]
     },
     "metadata": {
      "needs_background": "light"
     },
     "output_type": "display_data"
    }
   ],
   "source": [
    "y_pred_probability = log_reg.predict_proba(X_test)[::,1]\n",
    "fpr, tpr, _ = metrics.roc_curve(y_test,  y_pred_probability)\n",
    "auc = metrics.roc_auc_score(y_test, y_pred_probability)\n",
    "plt.plot(fpr,tpr,label=\"data 1, auc=\"+str(auc))\n",
    "plt.legend(loc=4)\n",
    "plt.show()"
   ]
  },
  {
   "cell_type": "code",
   "execution_count": 157,
   "metadata": {},
   "outputs": [
    {
     "name": "stdout",
     "output_type": "stream",
     "text": [
      "AUC Score: 59.95922079474665%\n",
      "\n",
      "Error rate (Mean Squared Error) 45.020419806792255%\n",
      "\n"
     ]
    }
   ],
   "source": [
    "print('AUC Score: {}%'.format(auc*100)) \n",
    "print('\\nError rate (Mean Squared Error) {}%\\n'.format(100* metrics.mean_squared_error(y_test, y_pred)))"
   ]
  },
  {
   "cell_type": "code",
   "execution_count": 161,
   "metadata": {},
   "outputs": [
    {
     "data": {
      "text/plain": [
       "['log_reg_clean_data.sav']"
      ]
     },
     "execution_count": 161,
     "metadata": {},
     "output_type": "execute_result"
    }
   ],
   "source": [
    "import joblib\n",
    "joblib.dump(log_reg, 'log_reg_clean_data.sav')"
   ]
  },
  {
   "cell_type": "markdown",
   "metadata": {},
   "source": [
    "Using the same train/test split and the same Logistic Regression model, we now see that model accuracy has increased to 54% with an AUC score of ~60.\n",
    "\n",
    "So after cleaning the feature set and doing some pre-processing, we do see an improvement in the prediction however it is still not very good.\n",
    "\n",
    "Let's try a different model for the prediction with the same feature set and test/train split."
   ]
  },
  {
   "cell_type": "markdown",
   "metadata": {},
   "source": [
    "***Q7.b.ii.* Model 2 should use the cleaned features (All of the features do not have to be preprocessed) and an algorithm other than logistic regression (e.g. Random Forest, Nearest Neighbor, etc) for training.**\n"
   ]
  },
  {
   "cell_type": "markdown",
   "metadata": {},
   "source": [
    "#### Random Forest Classifier with Pre-processed data"
   ]
  },
  {
   "cell_type": "code",
   "execution_count": 162,
   "metadata": {},
   "outputs": [],
   "source": [
    "del data, log_reg, X, y"
   ]
  },
  {
   "cell_type": "code",
   "execution_count": 15,
   "metadata": {},
   "outputs": [
    {
     "name": "stderr",
     "output_type": "stream",
     "text": [
      "[Parallel(n_jobs=1)]: Using backend SequentialBackend with 1 concurrent workers.\n"
     ]
    },
    {
     "name": "stdout",
     "output_type": "stream",
     "text": [
      "building tree 1 of 25\n"
     ]
    },
    {
     "name": "stderr",
     "output_type": "stream",
     "text": [
      "[Parallel(n_jobs=1)]: Done   1 out of   1 | elapsed:   32.0s remaining:    0.0s\n"
     ]
    },
    {
     "name": "stdout",
     "output_type": "stream",
     "text": [
      "building tree 2 of 25\n"
     ]
    },
    {
     "name": "stderr",
     "output_type": "stream",
     "text": [
      "[Parallel(n_jobs=1)]: Done   2 out of   2 | elapsed:  1.0min remaining:    0.0s\n"
     ]
    },
    {
     "name": "stdout",
     "output_type": "stream",
     "text": [
      "building tree 3 of 25\n",
      "building tree 4 of 25\n",
      "building tree 5 of 25\n",
      "building tree 6 of 25\n",
      "building tree 7 of 25\n",
      "building tree 8 of 25\n",
      "building tree 9 of 25\n",
      "building tree 10 of 25\n",
      "building tree 11 of 25\n",
      "building tree 12 of 25\n",
      "building tree 13 of 25\n",
      "building tree 14 of 25\n",
      "building tree 15 of 25\n",
      "building tree 16 of 25\n",
      "building tree 17 of 25\n",
      "building tree 18 of 25\n",
      "building tree 19 of 25\n",
      "building tree 20 of 25\n",
      "building tree 21 of 25\n",
      "building tree 22 of 25\n",
      "building tree 23 of 25\n",
      "building tree 24 of 25\n",
      "building tree 25 of 25\n"
     ]
    },
    {
     "name": "stderr",
     "output_type": "stream",
     "text": [
      "[Parallel(n_jobs=1)]: Done  25 out of  25 | elapsed: 12.8min finished\n",
      "/opt/conda/lib/python3.8/site-packages/sklearn/ensemble/_forest.py:541: UserWarning: Some inputs do not have OOB scores. This probably means too few trees were used to compute any reliable oob estimates.\n",
      "  warn(\"Some inputs do not have OOB scores. \"\n",
      "/opt/conda/lib/python3.8/site-packages/sklearn/ensemble/_forest.py:545: RuntimeWarning: invalid value encountered in true_divide\n",
      "  decision = (predictions[k] /\n"
     ]
    },
    {
     "data": {
      "text/plain": [
       "RandomForestClassifier(criterion='entropy', n_estimators=25, oob_score=True,\n",
       "                       random_state=123456, verbose=3)"
      ]
     },
     "execution_count": 15,
     "metadata": {},
     "output_type": "execute_result"
    }
   ],
   "source": [
    "# Random Forest\n",
    "\n",
    "from sklearn.ensemble import RandomForestClassifier\n",
    "rf = RandomForestClassifier(n_estimators=25, oob_score=True, random_state=123456, verbose=3, criterion='entropy')\n",
    "rf.fit(X_train, y_train)"
   ]
  },
  {
   "cell_type": "code",
   "execution_count": 16,
   "metadata": {},
   "outputs": [
    {
     "name": "stderr",
     "output_type": "stream",
     "text": [
      "[Parallel(n_jobs=1)]: Using backend SequentialBackend with 1 concurrent workers.\n",
      "[Parallel(n_jobs=1)]: Done   1 out of   1 | elapsed:    0.9s remaining:    0.0s\n",
      "[Parallel(n_jobs=1)]: Done   2 out of   2 | elapsed:    1.9s remaining:    0.0s\n"
     ]
    },
    {
     "name": "stdout",
     "output_type": "stream",
     "text": [
      "Out-of-bag score estimate: 0.607\n",
      "Mean accuracy score: 0.576\n"
     ]
    },
    {
     "name": "stderr",
     "output_type": "stream",
     "text": [
      "[Parallel(n_jobs=1)]: Done  25 out of  25 | elapsed:   21.4s finished\n"
     ]
    }
   ],
   "source": [
    "from sklearn.metrics import accuracy_score\n",
    "predicted = rf.predict(X_test)\n",
    "accuracy = accuracy_score(y_test, predicted)\n",
    "print(f'Out-of-bag score estimate: {rf.oob_score_:.3}')\n",
    "print(f'Mean accuracy score: {accuracy:.3}')"
   ]
  },
  {
   "cell_type": "code",
   "execution_count": 24,
   "metadata": {},
   "outputs": [
    {
     "name": "stdout",
     "output_type": "stream",
     "text": [
      "Model Accuracy =  0.5756872314418507\n",
      "Model Precision =  0.6009848829143445\n",
      "Model Recall =  0.4505783456624075\n"
     ]
    }
   ],
   "source": [
    "print(\"Model Accuracy = \",metrics.accuracy_score(y_test, predicted))\n",
    "print(\"Model Precision = \",metrics.precision_score(y_test, predicted))\n",
    "print(\"Model Recall = \",metrics.recall_score(y_test, predicted))"
   ]
  },
  {
   "cell_type": "code",
   "execution_count": 18,
   "metadata": {},
   "outputs": [
    {
     "data": {
      "text/plain": [
       "array([[625191, 266906],\n",
       "       [490194, 402006]])"
      ]
     },
     "execution_count": 18,
     "metadata": {},
     "output_type": "execute_result"
    }
   ],
   "source": [
    "# Test the prediction using Confusion matrix\n",
    "from sklearn import metrics\n",
    "cf_matrix = metrics.confusion_matrix(y_test, predicted)\n",
    "cf_matrix"
   ]
  },
  {
   "cell_type": "code",
   "execution_count": 19,
   "metadata": {
    "scrolled": true
   },
   "outputs": [
    {
     "data": {
      "text/plain": [
       "Text(0.5, 257.44, 'Predicted label')"
      ]
     },
     "execution_count": 19,
     "metadata": {},
     "output_type": "execute_result"
    },
    {
     "data": {
      "image/png": "[encoded data removed]",
      "text/plain": [
       "<Figure size 432x288 with 2 Axes>"
      ]
     },
     "metadata": {
      "needs_background": "light"
     },
     "output_type": "display_data"
    }
   ],
   "source": [
    "class_names=[0,1] # name  of classes\n",
    "fig, ax = plt.subplots()\n",
    "tick_marks = np.arange(len(class_names))\n",
    "plt.xticks(tick_marks, class_names)\n",
    "plt.yticks(tick_marks, class_names)\n",
    "# create heatmap\n",
    "sns.heatmap(pd.DataFrame(cf_matrix), annot=True, cmap=\"YlGnBu\" ,fmt='g')\n",
    "ax.xaxis.set_label_position(\"top\")\n",
    "plt.tight_layout()\n",
    "plt.title('Confusion matrix', y=1.1)\n",
    "plt.ylabel('Actual label')\n",
    "plt.xlabel('Predicted label')"
   ]
  },
  {
   "cell_type": "code",
   "execution_count": 20,
   "metadata": {},
   "outputs": [
    {
     "data": {
      "image/png": "[encoded data removed]",
      "text/plain": [
       "<Figure size 432x288 with 1 Axes>"
      ]
     },
     "metadata": {
      "needs_background": "light"
     },
     "output_type": "display_data"
    }
   ],
   "source": [
    "\n",
    "fpr, tpr, _ = metrics.roc_curve(y_test,  predicted)\n",
    "\n",
    "auc = metrics.roc_auc_score(y_test, predicted)\n",
    "plt.plot(fpr,tpr,label=\"data 1, auc=\"+str(auc))\n",
    "plt.legend(loc=4)\n",
    "plt.show()"
   ]
  },
  {
   "cell_type": "code",
   "execution_count": 22,
   "metadata": {},
   "outputs": [
    {
     "name": "stdout",
     "output_type": "stream",
     "text": [
      "AUC Score: 57.569445387127004%\n",
      "\n",
      "Error rate (Mean Squared Error) 42.43127685581493%\n",
      "\n"
     ]
    }
   ],
   "source": [
    "print('AUC Score: {}%'.format(auc*100)) \n",
    "print('\\nError rate (Mean Squared Error) {}%\\n'.format(100* metrics.mean_squared_error(y_test, predicted)))"
   ]
  },
  {
   "cell_type": "markdown",
   "metadata": {},
   "source": [
    "Here we see model accuracy as 57% which seems to be worse than the linear regression model we used earlier. There could be multiple factors for this. One of them could be due to the number of iterations Random Forest classifier ran for. \n",
    "\n",
    "\n",
    "For simiplicity, and due to memory limitations, I was not able to run the classifier for more than 25-30 iterations. But increasing the number of iterations (estimators) on the Random forest function could potentially give better results."
   ]
  },
  {
   "cell_type": "code",
   "execution_count": 26,
   "metadata": {},
   "outputs": [
    {
     "data": {
      "text/plain": [
       "['random_forest_clean_data.sav']"
      ]
     },
     "execution_count": 26,
     "metadata": {},
     "output_type": "execute_result"
    }
   ],
   "source": [
    "import joblib\n",
    "joblib.dump(rf, 'random_forest_clean_data.sav')"
   ]
  },
  {
   "cell_type": "markdown",
   "metadata": {},
   "source": [
    "### Error Rate Comparison between models\n",
    "\n",
    "\n",
    "|Model Name |Description| AUC Score (in %) | Error (MSE) (in %) |\n",
    "| :- | :-|:-: | :-: |\n",
    "| Model 0 |Baseline Logistic Regression without Data Cleaning| 52.82% | 49.99%\n",
    "| Model 1 |Logistic Regression with Data Cleaning| 59.95% | 45.02%\n",
    "| Model 2 |Random Forest with Data Cleaning| 57.56% | 42.43%"
   ]
  },
  {
   "cell_type": "markdown",
   "metadata": {},
   "source": [
    "The AUC score and error rate for the three models are tabulated above.\n",
    "\n",
    "Between all the models, we find Logistic Regression performed much better on the dataset after we cleaned the data (Model 1). Model 0 performed the worst considering that it's AUC score is only slightly better than random guessing, and that is justified since we are using only the numerical columns without any pre-processing.\n",
    "\n",
    "An interesting observation here is that of Model 2, which uses Random Forest classifiers with clean data which did not outperform Logistic Regression. Now it is difficult to say with certainty why Model 1 is performing better than Model 2, but one of the important things to consider is the data set and the features used. Random Forests is a very versatile algorithm and generally performs better than Logistic Regression when the dataset has a lot of spare features, including categorical and numerical features. So one would expect Model 2 to be better performing here. However, we also need to consider the following points about this dataset which could have affected the outcome here:\n",
    "\n",
    "1. Logistic Regression is much faster to train and run on large dimensional dataset compared to Random Forests. Due to the huge size of the train and test sets, I decided to not spend too much time on optimizing Random Forests.\n",
    "\n",
    "2. Random Forests tend to give better results for a specific number (usually large) of estimators. Since creating more trees for estimation would just keep using more and more memory, I restricted the number of trees to 25. With more trial and error, it would be possible to find an estimator count which outperforms Logistic Regression. But due to interest of time and resources, I decided to stick with 25.\n",
    "\n",
    "3. During pre-processing, I converted all categorical columns into numeric categories using Label Encoding and then normalized their distribution using MinMaxScaling. So, even though the actual column values were categorical, after pre-processing all of the columns were essentially acting as numerical features. Logistic Regression, typically, performs really well with numerical columns."
   ]
  },
  {
   "cell_type": "markdown",
   "metadata": {
    "id": "5RzjvrYtVs-V"
   },
   "source": [
    "## **Section 8: Screenshots (Q8)** "
   ]
  },
  {
   "cell_type": "markdown",
   "metadata": {},
   "source": [
    "***Q8.* Write the probability of detection for the test instances (test.csv) into a csv file as shown in ‘sample_submission.csv’ at Kaggle. Submit this for every model you develop to the competition website. Report the private and public score for your best submission along with the number of submissions. Include a snapshot of your best score on the website as confirmation. Be sure to provide a link to your Kaggle profile.**"
   ]
  },
  {
   "cell_type": "markdown",
   "metadata": {},
   "source": [
    "### Validating results against test.csv\n",
    "\n",
    "Pre-processing the test.csv data with the same steps as train.csv data"
   ]
  },
  {
   "cell_type": "code",
   "execution_count": 19,
   "metadata": {},
   "outputs": [],
   "source": [
    "filename = 'test.csv'\n",
    "\n",
    "use_cols = [\"MachineIdentifier\", \"SmartScreen\", \"AVProductsInstalled\", \"AppVersion\", \"CountryIdentifier\", \"Census_OSInstallTypeName\", \"Wdft_IsGamer\",\n",
    "           \"EngineVersion\", \"AVProductStatesIdentifier\", \"Census_OSVersion\", \"Census_TotalPhysicalRAM\", \"Census_ActivationChannel\",\n",
    "           \"RtpStateBitfield\", \"Census_ProcessorModelIdentifier\", \"Census_PrimaryDiskTotalCapacity\", \n",
    "            \"Census_InternalPrimaryDiagonalDisplaySizeInInches\", \"Wdft_RegionIdentifier\", \"LocaleEnglishNameIdentifier\",\n",
    "           \"AvSigVersion\", \"IeVerIdentifier\", \"IsProtected\", \"Census_InternalPrimaryDisplayResolutionVertical\", \"Census_PrimaryDiskTypeName\",\n",
    "            \"Census_OSWUAutoUpdateOptionsName\", \"Census_OSEdition\", \"Census_GenuineStateName\", \"Census_ProcessorCoreCount\", \n",
    "           \"Census_OEMNameIdentifier\", \"Census_MDC2FormFactor\", \"Census_FirmwareManufacturerIdentifier\", \"OsBuildLab\", \"Census_OSBuildRevision\", \n",
    "            \"Census_OSBuildNumber\", \"Census_IsPenCapable\", \"Census_IsTouchEnabled\", \"Census_IsAlwaysOnAlwaysConnectedCapable\", \"Census_IsSecureBootEnabled\", \n",
    "            \"Census_SystemVolumeTotalCapacity\", \"Census_PrimaryDiskTotalCapacity\"\n",
    "           ]\n",
    "\n",
    "skip = 0\n",
    "\n",
    "data = pd.read_csv(filename, usecols = use_cols, dtype = dtypes, skiprows=skip)\n",
    "\n",
    "data.set_index('MachineIdentifier', inplace=True)\n",
    "\n",
    "\n",
    "numerical_columns = ['Census_FirmwareManufacturerIdentifier','Census_PrimaryDiskTotalCapacity','Census_OEMNameIdentifier', 'Wdft_RegionIdentifier',\n",
    "                  'Census_OSBuildRevision','LocaleEnglishNameIdentifier', 'Census_ProcessorModelIdentifier', 'Census_SystemVolumeTotalCapacity', \n",
    "                  'AVProductStatesIdentifier', 'Census_InternalPrimaryDiagonalDisplaySizeInInches', 'CountryIdentifier']\n",
    "\n",
    "select_categorical_columns = ['Census_ActivationChannel', 'SmartScreen', 'Census_OSInstallTypeName']\n",
    "\n",
    "feature_set = numerical_columns + select_categorical_columns\n"
   ]
  },
  {
   "cell_type": "code",
   "execution_count": 20,
   "metadata": {},
   "outputs": [
    {
     "data": {
      "text/html": [
       "<div>\n",
       "<style scoped>\n",
       "    .dataframe tbody tr th:only-of-type {\n",
       "        vertical-align: middle;\n",
       "    }\n",
       "\n",
       "    .dataframe tbody tr th {\n",
       "        vertical-align: top;\n",
       "    }\n",
       "\n",
       "    .dataframe thead th {\n",
       "        text-align: right;\n",
       "    }\n",
       "</style>\n",
       "<table border=\"1\" class=\"dataframe\">\n",
       "  <thead>\n",
       "    <tr style=\"text-align: right;\">\n",
       "      <th></th>\n",
       "      <th>Census_FirmwareManufacturerIdentifier</th>\n",
       "      <th>Census_PrimaryDiskTotalCapacity</th>\n",
       "      <th>Census_OEMNameIdentifier</th>\n",
       "      <th>Wdft_RegionIdentifier</th>\n",
       "      <th>Census_OSBuildRevision</th>\n",
       "      <th>LocaleEnglishNameIdentifier</th>\n",
       "      <th>Census_ProcessorModelIdentifier</th>\n",
       "      <th>Census_SystemVolumeTotalCapacity</th>\n",
       "      <th>AVProductStatesIdentifier</th>\n",
       "      <th>Census_InternalPrimaryDiagonalDisplaySizeInInches</th>\n",
       "      <th>CountryIdentifier</th>\n",
       "      <th>Census_ActivationChannel</th>\n",
       "      <th>SmartScreen</th>\n",
       "      <th>Census_OSInstallTypeName</th>\n",
       "    </tr>\n",
       "    <tr>\n",
       "      <th>MachineIdentifier</th>\n",
       "      <th></th>\n",
       "      <th></th>\n",
       "      <th></th>\n",
       "      <th></th>\n",
       "      <th></th>\n",
       "      <th></th>\n",
       "      <th></th>\n",
       "      <th></th>\n",
       "      <th></th>\n",
       "      <th></th>\n",
       "      <th></th>\n",
       "      <th></th>\n",
       "      <th></th>\n",
       "      <th></th>\n",
       "    </tr>\n",
       "  </thead>\n",
       "  <tbody>\n",
       "    <tr>\n",
       "      <th>0000010489e3af074adeac69c53e555e</th>\n",
       "      <td>807.000000</td>\n",
       "      <td>488386.000000</td>\n",
       "      <td>2688.000000</td>\n",
       "      <td>7.000000</td>\n",
       "      <td>1387</td>\n",
       "      <td>42</td>\n",
       "      <td>3064.000000</td>\n",
       "      <td>123179.000000</td>\n",
       "      <td>53447.000000</td>\n",
       "      <td>15.500000</td>\n",
       "      <td>43</td>\n",
       "      <td>OEM:DM</td>\n",
       "      <td>NaN</td>\n",
       "      <td>Reset</td>\n",
       "    </tr>\n",
       "    <tr>\n",
       "      <th>00000176ac758d54827acd545b6315a5</th>\n",
       "      <td>554.000000</td>\n",
       "      <td>1907729.000000</td>\n",
       "      <td>2206.000000</td>\n",
       "      <td>12.000000</td>\n",
       "      <td>611</td>\n",
       "      <td>74</td>\n",
       "      <td>3410.000000</td>\n",
       "      <td>1882352.000000</td>\n",
       "      <td>53447.000000</td>\n",
       "      <td>15.500000</td>\n",
       "      <td>68</td>\n",
       "      <td>Retail</td>\n",
       "      <td>RequireAdmin</td>\n",
       "      <td>UUPUpgrade</td>\n",
       "    </tr>\n",
       "    <tr>\n",
       "      <th>0000019dcefc128c2d4387c1273dae1d</th>\n",
       "      <td>556.000000</td>\n",
       "      <td>29820.000000</td>\n",
       "      <td>585.000000</td>\n",
       "      <td>11.000000</td>\n",
       "      <td>2189</td>\n",
       "      <td>-5</td>\n",
       "      <td>2096.000000</td>\n",
       "      <td>28678.000000</td>\n",
       "      <td>49480.000000</td>\n",
       "      <td>13.898438</td>\n",
       "      <td>201</td>\n",
       "      <td>OEM:DM</td>\n",
       "      <td>RequireAdmin</td>\n",
       "      <td>Other</td>\n",
       "    </tr>\n",
       "    <tr>\n",
       "      <th>0000055553dc51b1295785415f1a224d</th>\n",
       "      <td>628.000000</td>\n",
       "      <td>476940.000000</td>\n",
       "      <td>2668.000000</td>\n",
       "      <td>10.000000</td>\n",
       "      <td>371</td>\n",
       "      <td>-85</td>\n",
       "      <td>1985.000000</td>\n",
       "      <td>439345.000000</td>\n",
       "      <td>42160.000000</td>\n",
       "      <td>14.000000</td>\n",
       "      <td>29</td>\n",
       "      <td>OEM:DM</td>\n",
       "      <td>RequireAdmin</td>\n",
       "      <td>Upgrade</td>\n",
       "    </tr>\n",
       "    <tr>\n",
       "      <th>00000574cefffeca83ec8adf9285b2bf</th>\n",
       "      <td>556.000000</td>\n",
       "      <td>476940.000000</td>\n",
       "      <td>585.000000</td>\n",
       "      <td>3.000000</td>\n",
       "      <td>371</td>\n",
       "      <td>-74</td>\n",
       "      <td>3394.000000</td>\n",
       "      <td>461506.000000</td>\n",
       "      <td>53447.000000</td>\n",
       "      <td>15.500000</td>\n",
       "      <td>171</td>\n",
       "      <td>Retail</td>\n",
       "      <td>RequireAdmin</td>\n",
       "      <td>Update</td>\n",
       "    </tr>\n",
       "    <tr>\n",
       "      <th>000007ffedd31948f08e6c16da31f6d1</th>\n",
       "      <td>168.000000</td>\n",
       "      <td>305244.000000</td>\n",
       "      <td>1980.000000</td>\n",
       "      <td>10.000000</td>\n",
       "      <td>286</td>\n",
       "      <td>-85</td>\n",
       "      <td>3512.000000</td>\n",
       "      <td>304261.000000</td>\n",
       "      <td>53447.000000</td>\n",
       "      <td>17.000000</td>\n",
       "      <td>29</td>\n",
       "      <td>Retail</td>\n",
       "      <td>NaN</td>\n",
       "      <td>Upgrade</td>\n",
       "    </tr>\n",
       "    <tr>\n",
       "      <th>000008f31610018d898e5f315cdf1bd1</th>\n",
       "      <td>142.000000</td>\n",
       "      <td>953869.000000</td>\n",
       "      <td>4144.000000</td>\n",
       "      <td>10.000000</td>\n",
       "      <td>345</td>\n",
       "      <td>-85</td>\n",
       "      <td>2382.000000</td>\n",
       "      <td>936631.000000</td>\n",
       "      <td>7945.000000</td>\n",
       "      <td>15.500000</td>\n",
       "      <td>29</td>\n",
       "      <td>OEM:DM</td>\n",
       "      <td>NaN</td>\n",
       "      <td>Refresh</td>\n",
       "    </tr>\n",
       "    <tr>\n",
       "      <th>00000a3c447250626dbcc628c9cbc460</th>\n",
       "      <td>657.000000</td>\n",
       "      <td>305245.000000</td>\n",
       "      <td>2972.000000</td>\n",
       "      <td>9.000000</td>\n",
       "      <td>125</td>\n",
       "      <td>126</td>\n",
       "      <td>3224.000000</td>\n",
       "      <td>304352.000000</td>\n",
       "      <td>15521.000000</td>\n",
       "      <td>17.000000</td>\n",
       "      <td>101</td>\n",
       "      <td>Retail</td>\n",
       "      <td>NaN</td>\n",
       "      <td>Upgrade</td>\n",
       "    </tr>\n",
       "    <tr>\n",
       "      <th>00000b6bf217ec9aef0f68d5c6705897</th>\n",
       "      <td>NaN</td>\n",
       "      <td>NaN</td>\n",
       "      <td>2668.000000</td>\n",
       "      <td>NaN</td>\n",
       "      <td>134</td>\n",
       "      <td>75</td>\n",
       "      <td>NaN</td>\n",
       "      <td>NaN</td>\n",
       "      <td>53447.000000</td>\n",
       "      <td>15.500000</td>\n",
       "      <td>21</td>\n",
       "      <td>Retail</td>\n",
       "      <td>NaN</td>\n",
       "      <td>IBSClean</td>\n",
       "    </tr>\n",
       "    <tr>\n",
       "      <th>00000b8d3776b13e93ad83676a28e4aa</th>\n",
       "      <td>NaN</td>\n",
       "      <td>476940.000000</td>\n",
       "      <td>NaN</td>\n",
       "      <td>15.000000</td>\n",
       "      <td>192</td>\n",
       "      <td>-17</td>\n",
       "      <td>3514.000000</td>\n",
       "      <td>476479.000000</td>\n",
       "      <td>53447.000000</td>\n",
       "      <td>23.203125</td>\n",
       "      <td>177</td>\n",
       "      <td>Retail</td>\n",
       "      <td>RequireAdmin</td>\n",
       "      <td>Upgrade</td>\n",
       "    </tr>\n",
       "  </tbody>\n",
       "</table>\n",
       "</div>"
      ],
      "text/plain": [
       "                                  Census_FirmwareManufacturerIdentifier  \\\n",
       "MachineIdentifier                                                         \n",
       "0000010489e3af074adeac69c53e555e                             807.000000   \n",
       "00000176ac758d54827acd545b6315a5                             554.000000   \n",
       "0000019dcefc128c2d4387c1273dae1d                             556.000000   \n",
       "0000055553dc51b1295785415f1a224d                             628.000000   \n",
       "00000574cefffeca83ec8adf9285b2bf                             556.000000   \n",
       "000007ffedd31948f08e6c16da31f6d1                             168.000000   \n",
       "000008f31610018d898e5f315cdf1bd1                             142.000000   \n",
       "00000a3c447250626dbcc628c9cbc460                             657.000000   \n",
       "00000b6bf217ec9aef0f68d5c6705897                                    NaN   \n",
       "00000b8d3776b13e93ad83676a28e4aa                                    NaN   \n",
       "\n",
       "                                  Census_PrimaryDiskTotalCapacity  \\\n",
       "MachineIdentifier                                                   \n",
       "0000010489e3af074adeac69c53e555e                    488386.000000   \n",
       "00000176ac758d54827acd545b6315a5                   1907729.000000   \n",
       "0000019dcefc128c2d4387c1273dae1d                     29820.000000   \n",
       "0000055553dc51b1295785415f1a224d                    476940.000000   \n",
       "00000574cefffeca83ec8adf9285b2bf                    476940.000000   \n",
       "000007ffedd31948f08e6c16da31f6d1                    305244.000000   \n",
       "000008f31610018d898e5f315cdf1bd1                    953869.000000   \n",
       "00000a3c447250626dbcc628c9cbc460                    305245.000000   \n",
       "00000b6bf217ec9aef0f68d5c6705897                              NaN   \n",
       "00000b8d3776b13e93ad83676a28e4aa                    476940.000000   \n",
       "\n",
       "                                  Census_OEMNameIdentifier  \\\n",
       "MachineIdentifier                                            \n",
       "0000010489e3af074adeac69c53e555e               2688.000000   \n",
       "00000176ac758d54827acd545b6315a5               2206.000000   \n",
       "0000019dcefc128c2d4387c1273dae1d                585.000000   \n",
       "0000055553dc51b1295785415f1a224d               2668.000000   \n",
       "00000574cefffeca83ec8adf9285b2bf                585.000000   \n",
       "000007ffedd31948f08e6c16da31f6d1               1980.000000   \n",
       "000008f31610018d898e5f315cdf1bd1               4144.000000   \n",
       "00000a3c447250626dbcc628c9cbc460               2972.000000   \n",
       "00000b6bf217ec9aef0f68d5c6705897               2668.000000   \n",
       "00000b8d3776b13e93ad83676a28e4aa                       NaN   \n",
       "\n",
       "                                  Wdft_RegionIdentifier  \\\n",
       "MachineIdentifier                                         \n",
       "0000010489e3af074adeac69c53e555e               7.000000   \n",
       "00000176ac758d54827acd545b6315a5              12.000000   \n",
       "0000019dcefc128c2d4387c1273dae1d              11.000000   \n",
       "0000055553dc51b1295785415f1a224d              10.000000   \n",
       "00000574cefffeca83ec8adf9285b2bf               3.000000   \n",
       "000007ffedd31948f08e6c16da31f6d1              10.000000   \n",
       "000008f31610018d898e5f315cdf1bd1              10.000000   \n",
       "00000a3c447250626dbcc628c9cbc460               9.000000   \n",
       "00000b6bf217ec9aef0f68d5c6705897                    NaN   \n",
       "00000b8d3776b13e93ad83676a28e4aa              15.000000   \n",
       "\n",
       "                                  Census_OSBuildRevision  \\\n",
       "MachineIdentifier                                          \n",
       "0000010489e3af074adeac69c53e555e                    1387   \n",
       "00000176ac758d54827acd545b6315a5                     611   \n",
       "0000019dcefc128c2d4387c1273dae1d                    2189   \n",
       "0000055553dc51b1295785415f1a224d                     371   \n",
       "00000574cefffeca83ec8adf9285b2bf                     371   \n",
       "000007ffedd31948f08e6c16da31f6d1                     286   \n",
       "000008f31610018d898e5f315cdf1bd1                     345   \n",
       "00000a3c447250626dbcc628c9cbc460                     125   \n",
       "00000b6bf217ec9aef0f68d5c6705897                     134   \n",
       "00000b8d3776b13e93ad83676a28e4aa                     192   \n",
       "\n",
       "                                  LocaleEnglishNameIdentifier  \\\n",
       "MachineIdentifier                                               \n",
       "0000010489e3af074adeac69c53e555e                           42   \n",
       "00000176ac758d54827acd545b6315a5                           74   \n",
       "0000019dcefc128c2d4387c1273dae1d                           -5   \n",
       "0000055553dc51b1295785415f1a224d                          -85   \n",
       "00000574cefffeca83ec8adf9285b2bf                          -74   \n",
       "000007ffedd31948f08e6c16da31f6d1                          -85   \n",
       "000008f31610018d898e5f315cdf1bd1                          -85   \n",
       "00000a3c447250626dbcc628c9cbc460                          126   \n",
       "00000b6bf217ec9aef0f68d5c6705897                           75   \n",
       "00000b8d3776b13e93ad83676a28e4aa                          -17   \n",
       "\n",
       "                                  Census_ProcessorModelIdentifier  \\\n",
       "MachineIdentifier                                                   \n",
       "0000010489e3af074adeac69c53e555e                      3064.000000   \n",
       "00000176ac758d54827acd545b6315a5                      3410.000000   \n",
       "0000019dcefc128c2d4387c1273dae1d                      2096.000000   \n",
       "0000055553dc51b1295785415f1a224d                      1985.000000   \n",
       "00000574cefffeca83ec8adf9285b2bf                      3394.000000   \n",
       "000007ffedd31948f08e6c16da31f6d1                      3512.000000   \n",
       "000008f31610018d898e5f315cdf1bd1                      2382.000000   \n",
       "00000a3c447250626dbcc628c9cbc460                      3224.000000   \n",
       "00000b6bf217ec9aef0f68d5c6705897                              NaN   \n",
       "00000b8d3776b13e93ad83676a28e4aa                      3514.000000   \n",
       "\n",
       "                                  Census_SystemVolumeTotalCapacity  \\\n",
       "MachineIdentifier                                                    \n",
       "0000010489e3af074adeac69c53e555e                     123179.000000   \n",
       "00000176ac758d54827acd545b6315a5                    1882352.000000   \n",
       "0000019dcefc128c2d4387c1273dae1d                      28678.000000   \n",
       "0000055553dc51b1295785415f1a224d                     439345.000000   \n",
       "00000574cefffeca83ec8adf9285b2bf                     461506.000000   \n",
       "000007ffedd31948f08e6c16da31f6d1                     304261.000000   \n",
       "000008f31610018d898e5f315cdf1bd1                     936631.000000   \n",
       "00000a3c447250626dbcc628c9cbc460                     304352.000000   \n",
       "00000b6bf217ec9aef0f68d5c6705897                               NaN   \n",
       "00000b8d3776b13e93ad83676a28e4aa                     476479.000000   \n",
       "\n",
       "                                  AVProductStatesIdentifier  \\\n",
       "MachineIdentifier                                             \n",
       "0000010489e3af074adeac69c53e555e               53447.000000   \n",
       "00000176ac758d54827acd545b6315a5               53447.000000   \n",
       "0000019dcefc128c2d4387c1273dae1d               49480.000000   \n",
       "0000055553dc51b1295785415f1a224d               42160.000000   \n",
       "00000574cefffeca83ec8adf9285b2bf               53447.000000   \n",
       "000007ffedd31948f08e6c16da31f6d1               53447.000000   \n",
       "000008f31610018d898e5f315cdf1bd1                7945.000000   \n",
       "00000a3c447250626dbcc628c9cbc460               15521.000000   \n",
       "00000b6bf217ec9aef0f68d5c6705897               53447.000000   \n",
       "00000b8d3776b13e93ad83676a28e4aa               53447.000000   \n",
       "\n",
       "                                  Census_InternalPrimaryDiagonalDisplaySizeInInches  \\\n",
       "MachineIdentifier                                                                     \n",
       "0000010489e3af074adeac69c53e555e                                          15.500000   \n",
       "00000176ac758d54827acd545b6315a5                                          15.500000   \n",
       "0000019dcefc128c2d4387c1273dae1d                                          13.898438   \n",
       "0000055553dc51b1295785415f1a224d                                          14.000000   \n",
       "00000574cefffeca83ec8adf9285b2bf                                          15.500000   \n",
       "000007ffedd31948f08e6c16da31f6d1                                          17.000000   \n",
       "000008f31610018d898e5f315cdf1bd1                                          15.500000   \n",
       "00000a3c447250626dbcc628c9cbc460                                          17.000000   \n",
       "00000b6bf217ec9aef0f68d5c6705897                                          15.500000   \n",
       "00000b8d3776b13e93ad83676a28e4aa                                          23.203125   \n",
       "\n",
       "                                  CountryIdentifier Census_ActivationChannel  \\\n",
       "MachineIdentifier                                                              \n",
       "0000010489e3af074adeac69c53e555e                 43                   OEM:DM   \n",
       "00000176ac758d54827acd545b6315a5                 68                   Retail   \n",
       "0000019dcefc128c2d4387c1273dae1d                201                   OEM:DM   \n",
       "0000055553dc51b1295785415f1a224d                 29                   OEM:DM   \n",
       "00000574cefffeca83ec8adf9285b2bf                171                   Retail   \n",
       "000007ffedd31948f08e6c16da31f6d1                 29                   Retail   \n",
       "000008f31610018d898e5f315cdf1bd1                 29                   OEM:DM   \n",
       "00000a3c447250626dbcc628c9cbc460                101                   Retail   \n",
       "00000b6bf217ec9aef0f68d5c6705897                 21                   Retail   \n",
       "00000b8d3776b13e93ad83676a28e4aa                177                   Retail   \n",
       "\n",
       "                                   SmartScreen Census_OSInstallTypeName  \n",
       "MachineIdentifier                                                        \n",
       "0000010489e3af074adeac69c53e555e           NaN                    Reset  \n",
       "00000176ac758d54827acd545b6315a5  RequireAdmin               UUPUpgrade  \n",
       "0000019dcefc128c2d4387c1273dae1d  RequireAdmin                    Other  \n",
       "0000055553dc51b1295785415f1a224d  RequireAdmin                  Upgrade  \n",
       "00000574cefffeca83ec8adf9285b2bf  RequireAdmin                   Update  \n",
       "000007ffedd31948f08e6c16da31f6d1           NaN                  Upgrade  \n",
       "000008f31610018d898e5f315cdf1bd1           NaN                  Refresh  \n",
       "00000a3c447250626dbcc628c9cbc460           NaN                  Upgrade  \n",
       "00000b6bf217ec9aef0f68d5c6705897           NaN                 IBSClean  \n",
       "00000b8d3776b13e93ad83676a28e4aa  RequireAdmin                  Upgrade  "
      ]
     },
     "execution_count": 20,
     "metadata": {},
     "output_type": "execute_result"
    }
   ],
   "source": [
    "X = data[feature_set].copy()\n",
    "X.head(10)"
   ]
  },
  {
   "cell_type": "code",
   "execution_count": 21,
   "metadata": {},
   "outputs": [
    {
     "data": {
      "text/html": [
       "<div>\n",
       "<style scoped>\n",
       "    .dataframe tbody tr th:only-of-type {\n",
       "        vertical-align: middle;\n",
       "    }\n",
       "\n",
       "    .dataframe tbody tr th {\n",
       "        vertical-align: top;\n",
       "    }\n",
       "\n",
       "    .dataframe thead th {\n",
       "        text-align: right;\n",
       "    }\n",
       "</style>\n",
       "<table border=\"1\" class=\"dataframe\">\n",
       "  <thead>\n",
       "    <tr style=\"text-align: right;\">\n",
       "      <th></th>\n",
       "      <th>Census_FirmwareManufacturerIdentifier</th>\n",
       "      <th>Census_PrimaryDiskTotalCapacity</th>\n",
       "      <th>Census_OEMNameIdentifier</th>\n",
       "      <th>Wdft_RegionIdentifier</th>\n",
       "      <th>Census_OSBuildRevision</th>\n",
       "      <th>LocaleEnglishNameIdentifier</th>\n",
       "      <th>Census_ProcessorModelIdentifier</th>\n",
       "      <th>Census_SystemVolumeTotalCapacity</th>\n",
       "      <th>AVProductStatesIdentifier</th>\n",
       "      <th>Census_InternalPrimaryDiagonalDisplaySizeInInches</th>\n",
       "      <th>CountryIdentifier</th>\n",
       "      <th>Census_ActivationChannel</th>\n",
       "      <th>SmartScreen</th>\n",
       "      <th>Census_OSInstallTypeName</th>\n",
       "    </tr>\n",
       "    <tr>\n",
       "      <th>MachineIdentifier</th>\n",
       "      <th></th>\n",
       "      <th></th>\n",
       "      <th></th>\n",
       "      <th></th>\n",
       "      <th></th>\n",
       "      <th></th>\n",
       "      <th></th>\n",
       "      <th></th>\n",
       "      <th></th>\n",
       "      <th></th>\n",
       "      <th></th>\n",
       "      <th></th>\n",
       "      <th></th>\n",
       "      <th></th>\n",
       "    </tr>\n",
       "  </thead>\n",
       "  <tbody>\n",
       "    <tr>\n",
       "      <th>0000010489e3af074adeac69c53e555e</th>\n",
       "      <td>0.741965</td>\n",
       "      <td>0.000000</td>\n",
       "      <td>0.437592</td>\n",
       "      <td>0.500000</td>\n",
       "      <td>0.033233</td>\n",
       "      <td>0.666667</td>\n",
       "      <td>0.684610</td>\n",
       "      <td>0.001292</td>\n",
       "      <td>0.758095</td>\n",
       "      <td>0.076834</td>\n",
       "      <td>0.190045</td>\n",
       "      <td>0.000000</td>\n",
       "      <td>1.000000</td>\n",
       "      <td>0.625000</td>\n",
       "    </tr>\n",
       "    <tr>\n",
       "      <th>00000176ac758d54827acd545b6315a5</th>\n",
       "      <td>0.509642</td>\n",
       "      <td>0.000000</td>\n",
       "      <td>0.359154</td>\n",
       "      <td>0.812500</td>\n",
       "      <td>0.014640</td>\n",
       "      <td>0.792157</td>\n",
       "      <td>0.761894</td>\n",
       "      <td>0.019736</td>\n",
       "      <td>0.758095</td>\n",
       "      <td>0.076834</td>\n",
       "      <td>0.303167</td>\n",
       "      <td>0.400000</td>\n",
       "      <td>0.619048</td>\n",
       "      <td>0.750000</td>\n",
       "    </tr>\n",
       "    <tr>\n",
       "      <th>0000019dcefc128c2d4387c1273dae1d</th>\n",
       "      <td>0.511478</td>\n",
       "      <td>0.000000</td>\n",
       "      <td>0.095362</td>\n",
       "      <td>0.750000</td>\n",
       "      <td>0.052449</td>\n",
       "      <td>0.482353</td>\n",
       "      <td>0.468394</td>\n",
       "      <td>0.000301</td>\n",
       "      <td>0.701828</td>\n",
       "      <td>0.069376</td>\n",
       "      <td>0.904977</td>\n",
       "      <td>0.000000</td>\n",
       "      <td>0.619048</td>\n",
       "      <td>0.375000</td>\n",
       "    </tr>\n",
       "    <tr>\n",
       "      <th>0000055553dc51b1295785415f1a224d</th>\n",
       "      <td>0.577594</td>\n",
       "      <td>0.000000</td>\n",
       "      <td>0.434337</td>\n",
       "      <td>0.687500</td>\n",
       "      <td>0.008889</td>\n",
       "      <td>0.168627</td>\n",
       "      <td>0.443601</td>\n",
       "      <td>0.004607</td>\n",
       "      <td>0.598003</td>\n",
       "      <td>0.069849</td>\n",
       "      <td>0.126697</td>\n",
       "      <td>0.000000</td>\n",
       "      <td>0.619048</td>\n",
       "      <td>1.000000</td>\n",
       "    </tr>\n",
       "    <tr>\n",
       "      <th>00000574cefffeca83ec8adf9285b2bf</th>\n",
       "      <td>0.511478</td>\n",
       "      <td>0.000000</td>\n",
       "      <td>0.095362</td>\n",
       "      <td>0.250000</td>\n",
       "      <td>0.008889</td>\n",
       "      <td>0.211765</td>\n",
       "      <td>0.758320</td>\n",
       "      <td>0.004839</td>\n",
       "      <td>0.758095</td>\n",
       "      <td>0.076834</td>\n",
       "      <td>0.769231</td>\n",
       "      <td>0.400000</td>\n",
       "      <td>0.619048</td>\n",
       "      <td>0.875000</td>\n",
       "    </tr>\n",
       "    <tr>\n",
       "      <th>000007ffedd31948f08e6c16da31f6d1</th>\n",
       "      <td>0.155188</td>\n",
       "      <td>0.000000</td>\n",
       "      <td>0.322376</td>\n",
       "      <td>0.687500</td>\n",
       "      <td>0.006853</td>\n",
       "      <td>0.168627</td>\n",
       "      <td>0.784677</td>\n",
       "      <td>0.003190</td>\n",
       "      <td>0.758095</td>\n",
       "      <td>0.083818</td>\n",
       "      <td>0.126697</td>\n",
       "      <td>0.400000</td>\n",
       "      <td>1.000000</td>\n",
       "      <td>1.000000</td>\n",
       "    </tr>\n",
       "    <tr>\n",
       "      <th>000008f31610018d898e5f315cdf1bd1</th>\n",
       "      <td>0.131313</td>\n",
       "      <td>0.000000</td>\n",
       "      <td>0.674532</td>\n",
       "      <td>0.687500</td>\n",
       "      <td>0.008266</td>\n",
       "      <td>0.168627</td>\n",
       "      <td>0.532276</td>\n",
       "      <td>0.009821</td>\n",
       "      <td>0.112704</td>\n",
       "      <td>0.076834</td>\n",
       "      <td>0.126697</td>\n",
       "      <td>0.000000</td>\n",
       "      <td>1.000000</td>\n",
       "      <td>0.500000</td>\n",
       "    </tr>\n",
       "    <tr>\n",
       "      <th>00000a3c447250626dbcc628c9cbc460</th>\n",
       "      <td>0.604224</td>\n",
       "      <td>0.000000</td>\n",
       "      <td>0.483808</td>\n",
       "      <td>0.625000</td>\n",
       "      <td>0.002995</td>\n",
       "      <td>0.996078</td>\n",
       "      <td>0.720348</td>\n",
       "      <td>0.003191</td>\n",
       "      <td>0.220161</td>\n",
       "      <td>0.083818</td>\n",
       "      <td>0.452489</td>\n",
       "      <td>0.400000</td>\n",
       "      <td>1.000000</td>\n",
       "      <td>1.000000</td>\n",
       "    </tr>\n",
       "    <tr>\n",
       "      <th>00000b6bf217ec9aef0f68d5c6705897</th>\n",
       "      <td>0.000000</td>\n",
       "      <td>0.000000</td>\n",
       "      <td>0.434337</td>\n",
       "      <td>0.000000</td>\n",
       "      <td>0.003211</td>\n",
       "      <td>0.796078</td>\n",
       "      <td>0.000000</td>\n",
       "      <td>0.000000</td>\n",
       "      <td>0.758095</td>\n",
       "      <td>0.076834</td>\n",
       "      <td>0.090498</td>\n",
       "      <td>0.400000</td>\n",
       "      <td>1.000000</td>\n",
       "      <td>0.250000</td>\n",
       "    </tr>\n",
       "    <tr>\n",
       "      <th>00000b8d3776b13e93ad83676a28e4aa</th>\n",
       "      <td>0.000000</td>\n",
       "      <td>0.000000</td>\n",
       "      <td>0.000000</td>\n",
       "      <td>1.000000</td>\n",
       "      <td>0.004600</td>\n",
       "      <td>0.435294</td>\n",
       "      <td>0.785124</td>\n",
       "      <td>0.004996</td>\n",
       "      <td>0.758095</td>\n",
       "      <td>0.112704</td>\n",
       "      <td>0.796380</td>\n",
       "      <td>0.400000</td>\n",
       "      <td>0.619048</td>\n",
       "      <td>1.000000</td>\n",
       "    </tr>\n",
       "  </tbody>\n",
       "</table>\n",
       "</div>"
      ],
      "text/plain": [
       "                                  Census_FirmwareManufacturerIdentifier  \\\n",
       "MachineIdentifier                                                         \n",
       "0000010489e3af074adeac69c53e555e                               0.741965   \n",
       "00000176ac758d54827acd545b6315a5                               0.509642   \n",
       "0000019dcefc128c2d4387c1273dae1d                               0.511478   \n",
       "0000055553dc51b1295785415f1a224d                               0.577594   \n",
       "00000574cefffeca83ec8adf9285b2bf                               0.511478   \n",
       "000007ffedd31948f08e6c16da31f6d1                               0.155188   \n",
       "000008f31610018d898e5f315cdf1bd1                               0.131313   \n",
       "00000a3c447250626dbcc628c9cbc460                               0.604224   \n",
       "00000b6bf217ec9aef0f68d5c6705897                               0.000000   \n",
       "00000b8d3776b13e93ad83676a28e4aa                               0.000000   \n",
       "\n",
       "                                  Census_PrimaryDiskTotalCapacity  \\\n",
       "MachineIdentifier                                                   \n",
       "0000010489e3af074adeac69c53e555e                         0.000000   \n",
       "00000176ac758d54827acd545b6315a5                         0.000000   \n",
       "0000019dcefc128c2d4387c1273dae1d                         0.000000   \n",
       "0000055553dc51b1295785415f1a224d                         0.000000   \n",
       "00000574cefffeca83ec8adf9285b2bf                         0.000000   \n",
       "000007ffedd31948f08e6c16da31f6d1                         0.000000   \n",
       "000008f31610018d898e5f315cdf1bd1                         0.000000   \n",
       "00000a3c447250626dbcc628c9cbc460                         0.000000   \n",
       "00000b6bf217ec9aef0f68d5c6705897                         0.000000   \n",
       "00000b8d3776b13e93ad83676a28e4aa                         0.000000   \n",
       "\n",
       "                                  Census_OEMNameIdentifier  \\\n",
       "MachineIdentifier                                            \n",
       "0000010489e3af074adeac69c53e555e                  0.437592   \n",
       "00000176ac758d54827acd545b6315a5                  0.359154   \n",
       "0000019dcefc128c2d4387c1273dae1d                  0.095362   \n",
       "0000055553dc51b1295785415f1a224d                  0.434337   \n",
       "00000574cefffeca83ec8adf9285b2bf                  0.095362   \n",
       "000007ffedd31948f08e6c16da31f6d1                  0.322376   \n",
       "000008f31610018d898e5f315cdf1bd1                  0.674532   \n",
       "00000a3c447250626dbcc628c9cbc460                  0.483808   \n",
       "00000b6bf217ec9aef0f68d5c6705897                  0.434337   \n",
       "00000b8d3776b13e93ad83676a28e4aa                  0.000000   \n",
       "\n",
       "                                  Wdft_RegionIdentifier  \\\n",
       "MachineIdentifier                                         \n",
       "0000010489e3af074adeac69c53e555e               0.500000   \n",
       "00000176ac758d54827acd545b6315a5               0.812500   \n",
       "0000019dcefc128c2d4387c1273dae1d               0.750000   \n",
       "0000055553dc51b1295785415f1a224d               0.687500   \n",
       "00000574cefffeca83ec8adf9285b2bf               0.250000   \n",
       "000007ffedd31948f08e6c16da31f6d1               0.687500   \n",
       "000008f31610018d898e5f315cdf1bd1               0.687500   \n",
       "00000a3c447250626dbcc628c9cbc460               0.625000   \n",
       "00000b6bf217ec9aef0f68d5c6705897               0.000000   \n",
       "00000b8d3776b13e93ad83676a28e4aa               1.000000   \n",
       "\n",
       "                                  Census_OSBuildRevision  \\\n",
       "MachineIdentifier                                          \n",
       "0000010489e3af074adeac69c53e555e                0.033233   \n",
       "00000176ac758d54827acd545b6315a5                0.014640   \n",
       "0000019dcefc128c2d4387c1273dae1d                0.052449   \n",
       "0000055553dc51b1295785415f1a224d                0.008889   \n",
       "00000574cefffeca83ec8adf9285b2bf                0.008889   \n",
       "000007ffedd31948f08e6c16da31f6d1                0.006853   \n",
       "000008f31610018d898e5f315cdf1bd1                0.008266   \n",
       "00000a3c447250626dbcc628c9cbc460                0.002995   \n",
       "00000b6bf217ec9aef0f68d5c6705897                0.003211   \n",
       "00000b8d3776b13e93ad83676a28e4aa                0.004600   \n",
       "\n",
       "                                  LocaleEnglishNameIdentifier  \\\n",
       "MachineIdentifier                                               \n",
       "0000010489e3af074adeac69c53e555e                     0.666667   \n",
       "00000176ac758d54827acd545b6315a5                     0.792157   \n",
       "0000019dcefc128c2d4387c1273dae1d                     0.482353   \n",
       "0000055553dc51b1295785415f1a224d                     0.168627   \n",
       "00000574cefffeca83ec8adf9285b2bf                     0.211765   \n",
       "000007ffedd31948f08e6c16da31f6d1                     0.168627   \n",
       "000008f31610018d898e5f315cdf1bd1                     0.168627   \n",
       "00000a3c447250626dbcc628c9cbc460                     0.996078   \n",
       "00000b6bf217ec9aef0f68d5c6705897                     0.796078   \n",
       "00000b8d3776b13e93ad83676a28e4aa                     0.435294   \n",
       "\n",
       "                                  Census_ProcessorModelIdentifier  \\\n",
       "MachineIdentifier                                                   \n",
       "0000010489e3af074adeac69c53e555e                         0.684610   \n",
       "00000176ac758d54827acd545b6315a5                         0.761894   \n",
       "0000019dcefc128c2d4387c1273dae1d                         0.468394   \n",
       "0000055553dc51b1295785415f1a224d                         0.443601   \n",
       "00000574cefffeca83ec8adf9285b2bf                         0.758320   \n",
       "000007ffedd31948f08e6c16da31f6d1                         0.784677   \n",
       "000008f31610018d898e5f315cdf1bd1                         0.532276   \n",
       "00000a3c447250626dbcc628c9cbc460                         0.720348   \n",
       "00000b6bf217ec9aef0f68d5c6705897                         0.000000   \n",
       "00000b8d3776b13e93ad83676a28e4aa                         0.785124   \n",
       "\n",
       "                                  Census_SystemVolumeTotalCapacity  \\\n",
       "MachineIdentifier                                                    \n",
       "0000010489e3af074adeac69c53e555e                          0.001292   \n",
       "00000176ac758d54827acd545b6315a5                          0.019736   \n",
       "0000019dcefc128c2d4387c1273dae1d                          0.000301   \n",
       "0000055553dc51b1295785415f1a224d                          0.004607   \n",
       "00000574cefffeca83ec8adf9285b2bf                          0.004839   \n",
       "000007ffedd31948f08e6c16da31f6d1                          0.003190   \n",
       "000008f31610018d898e5f315cdf1bd1                          0.009821   \n",
       "00000a3c447250626dbcc628c9cbc460                          0.003191   \n",
       "00000b6bf217ec9aef0f68d5c6705897                          0.000000   \n",
       "00000b8d3776b13e93ad83676a28e4aa                          0.004996   \n",
       "\n",
       "                                  AVProductStatesIdentifier  \\\n",
       "MachineIdentifier                                             \n",
       "0000010489e3af074adeac69c53e555e                   0.758095   \n",
       "00000176ac758d54827acd545b6315a5                   0.758095   \n",
       "0000019dcefc128c2d4387c1273dae1d                   0.701828   \n",
       "0000055553dc51b1295785415f1a224d                   0.598003   \n",
       "00000574cefffeca83ec8adf9285b2bf                   0.758095   \n",
       "000007ffedd31948f08e6c16da31f6d1                   0.758095   \n",
       "000008f31610018d898e5f315cdf1bd1                   0.112704   \n",
       "00000a3c447250626dbcc628c9cbc460                   0.220161   \n",
       "00000b6bf217ec9aef0f68d5c6705897                   0.758095   \n",
       "00000b8d3776b13e93ad83676a28e4aa                   0.758095   \n",
       "\n",
       "                                  Census_InternalPrimaryDiagonalDisplaySizeInInches  \\\n",
       "MachineIdentifier                                                                     \n",
       "0000010489e3af074adeac69c53e555e                                           0.076834   \n",
       "00000176ac758d54827acd545b6315a5                                           0.076834   \n",
       "0000019dcefc128c2d4387c1273dae1d                                           0.069376   \n",
       "0000055553dc51b1295785415f1a224d                                           0.069849   \n",
       "00000574cefffeca83ec8adf9285b2bf                                           0.076834   \n",
       "000007ffedd31948f08e6c16da31f6d1                                           0.083818   \n",
       "000008f31610018d898e5f315cdf1bd1                                           0.076834   \n",
       "00000a3c447250626dbcc628c9cbc460                                           0.083818   \n",
       "00000b6bf217ec9aef0f68d5c6705897                                           0.076834   \n",
       "00000b8d3776b13e93ad83676a28e4aa                                           0.112704   \n",
       "\n",
       "                                  CountryIdentifier  Census_ActivationChannel  \\\n",
       "MachineIdentifier                                                               \n",
       "0000010489e3af074adeac69c53e555e           0.190045                  0.000000   \n",
       "00000176ac758d54827acd545b6315a5           0.303167                  0.400000   \n",
       "0000019dcefc128c2d4387c1273dae1d           0.904977                  0.000000   \n",
       "0000055553dc51b1295785415f1a224d           0.126697                  0.000000   \n",
       "00000574cefffeca83ec8adf9285b2bf           0.769231                  0.400000   \n",
       "000007ffedd31948f08e6c16da31f6d1           0.126697                  0.400000   \n",
       "000008f31610018d898e5f315cdf1bd1           0.126697                  0.000000   \n",
       "00000a3c447250626dbcc628c9cbc460           0.452489                  0.400000   \n",
       "00000b6bf217ec9aef0f68d5c6705897           0.090498                  0.400000   \n",
       "00000b8d3776b13e93ad83676a28e4aa           0.796380                  0.400000   \n",
       "\n",
       "                                  SmartScreen  Census_OSInstallTypeName  \n",
       "MachineIdentifier                                                        \n",
       "0000010489e3af074adeac69c53e555e     1.000000                  0.625000  \n",
       "00000176ac758d54827acd545b6315a5     0.619048                  0.750000  \n",
       "0000019dcefc128c2d4387c1273dae1d     0.619048                  0.375000  \n",
       "0000055553dc51b1295785415f1a224d     0.619048                  1.000000  \n",
       "00000574cefffeca83ec8adf9285b2bf     0.619048                  0.875000  \n",
       "000007ffedd31948f08e6c16da31f6d1     1.000000                  1.000000  \n",
       "000008f31610018d898e5f315cdf1bd1     1.000000                  0.500000  \n",
       "00000a3c447250626dbcc628c9cbc460     1.000000                  1.000000  \n",
       "00000b6bf217ec9aef0f68d5c6705897     1.000000                  0.250000  \n",
       "00000b8d3776b13e93ad83676a28e4aa     0.619048                  1.000000  "
      ]
     },
     "execution_count": 21,
     "metadata": {},
     "output_type": "execute_result"
    }
   ],
   "source": [
    "\n",
    "# For numerical data, fill NaN values with -1\n",
    "X[numerical_columns] = X[numerical_columns].fillna(value=-1)\n",
    "\n",
    "\n",
    "from sklearn.preprocessing import LabelEncoder\n",
    "le = LabelEncoder()\n",
    "\n",
    "for col in select_categorical_columns:\n",
    "    X[col] = le.fit_transform(X[col])\n",
    "\n",
    "   \n",
    "from sklearn.preprocessing import MinMaxScaler\n",
    "\n",
    "# create a scaler object\n",
    "scaler = MinMaxScaler()\n",
    "# fit and transform the data\n",
    "X[feature_set] = scaler.fit_transform(X[feature_set])\n",
    "\n",
    "X.head(10)"
   ]
  },
  {
   "cell_type": "markdown",
   "metadata": {},
   "source": [
    "##### Prediction using Model 0 (Baseline Model)"
   ]
  },
  {
   "cell_type": "code",
   "execution_count": 22,
   "metadata": {},
   "outputs": [],
   "source": [
    "import joblib\n",
    "log_reg = joblib.load('log_reg_baseline.sav')1"
   ]
  },
  {
   "cell_type": "code",
   "execution_count": 28,
   "metadata": {},
   "outputs": [
    {
     "name": "stderr",
     "output_type": "stream",
     "text": [
      "/opt/conda/lib/python3.8/site-packages/pandas/core/frame.py:4462: SettingWithCopyWarning: \n",
      "A value is trying to be set on a copy of a slice from a DataFrame\n",
      "\n",
      "See the caveats in the documentation: https://pandas.pydata.org/pandas-docs/stable/user_guide/indexing.html#returning-a-view-versus-a-copy\n",
      "  return super().fillna(\n"
     ]
    }
   ],
   "source": [
    "\n",
    "numerical_columns = ['Census_FirmwareManufacturerIdentifier','Census_PrimaryDiskTotalCapacity','Census_OEMNameIdentifier', 'Wdft_RegionIdentifier',\n",
    "                  'Census_OSBuildRevision','LocaleEnglishNameIdentifier', 'Census_ProcessorModelIdentifier', 'Census_SystemVolumeTotalCapacity', \n",
    "                  'AVProductStatesIdentifier', 'Census_InternalPrimaryDiagonalDisplaySizeInInches', 'CountryIdentifier']\n",
    "\n",
    "\n",
    "feature_set = numerical_columns \n",
    "\n",
    "X = data[feature_set]\n",
    "\n",
    "\n",
    "X.fillna(-1, inplace=True)"
   ]
  },
  {
   "cell_type": "code",
   "execution_count": 30,
   "metadata": {},
   "outputs": [
    {
     "data": {
      "text/html": [
       "<div>\n",
       "<style scoped>\n",
       "    .dataframe tbody tr th:only-of-type {\n",
       "        vertical-align: middle;\n",
       "    }\n",
       "\n",
       "    .dataframe tbody tr th {\n",
       "        vertical-align: top;\n",
       "    }\n",
       "\n",
       "    .dataframe thead th {\n",
       "        text-align: right;\n",
       "    }\n",
       "</style>\n",
       "<table border=\"1\" class=\"dataframe\">\n",
       "  <thead>\n",
       "    <tr style=\"text-align: right;\">\n",
       "      <th></th>\n",
       "      <th>Census_FirmwareManufacturerIdentifier</th>\n",
       "      <th>Census_PrimaryDiskTotalCapacity</th>\n",
       "      <th>Census_OEMNameIdentifier</th>\n",
       "      <th>Wdft_RegionIdentifier</th>\n",
       "      <th>Census_OSBuildRevision</th>\n",
       "      <th>LocaleEnglishNameIdentifier</th>\n",
       "      <th>Census_ProcessorModelIdentifier</th>\n",
       "      <th>Census_SystemVolumeTotalCapacity</th>\n",
       "      <th>AVProductStatesIdentifier</th>\n",
       "      <th>Census_InternalPrimaryDiagonalDisplaySizeInInches</th>\n",
       "      <th>CountryIdentifier</th>\n",
       "    </tr>\n",
       "    <tr>\n",
       "      <th>MachineIdentifier</th>\n",
       "      <th></th>\n",
       "      <th></th>\n",
       "      <th></th>\n",
       "      <th></th>\n",
       "      <th></th>\n",
       "      <th></th>\n",
       "      <th></th>\n",
       "      <th></th>\n",
       "      <th></th>\n",
       "      <th></th>\n",
       "      <th></th>\n",
       "    </tr>\n",
       "  </thead>\n",
       "  <tbody>\n",
       "    <tr>\n",
       "      <th>0000010489e3af074adeac69c53e555e</th>\n",
       "      <td>807.000000</td>\n",
       "      <td>488386.000000</td>\n",
       "      <td>2688.000000</td>\n",
       "      <td>7.000000</td>\n",
       "      <td>1387</td>\n",
       "      <td>42</td>\n",
       "      <td>3064.000000</td>\n",
       "      <td>123179.000000</td>\n",
       "      <td>53447.000000</td>\n",
       "      <td>15.500000</td>\n",
       "      <td>43</td>\n",
       "    </tr>\n",
       "    <tr>\n",
       "      <th>00000176ac758d54827acd545b6315a5</th>\n",
       "      <td>554.000000</td>\n",
       "      <td>1907729.000000</td>\n",
       "      <td>2206.000000</td>\n",
       "      <td>12.000000</td>\n",
       "      <td>611</td>\n",
       "      <td>74</td>\n",
       "      <td>3410.000000</td>\n",
       "      <td>1882352.000000</td>\n",
       "      <td>53447.000000</td>\n",
       "      <td>15.500000</td>\n",
       "      <td>68</td>\n",
       "    </tr>\n",
       "    <tr>\n",
       "      <th>0000019dcefc128c2d4387c1273dae1d</th>\n",
       "      <td>556.000000</td>\n",
       "      <td>29820.000000</td>\n",
       "      <td>585.000000</td>\n",
       "      <td>11.000000</td>\n",
       "      <td>2189</td>\n",
       "      <td>-5</td>\n",
       "      <td>2096.000000</td>\n",
       "      <td>28678.000000</td>\n",
       "      <td>49480.000000</td>\n",
       "      <td>13.898438</td>\n",
       "      <td>201</td>\n",
       "    </tr>\n",
       "    <tr>\n",
       "      <th>0000055553dc51b1295785415f1a224d</th>\n",
       "      <td>628.000000</td>\n",
       "      <td>476940.000000</td>\n",
       "      <td>2668.000000</td>\n",
       "      <td>10.000000</td>\n",
       "      <td>371</td>\n",
       "      <td>-85</td>\n",
       "      <td>1985.000000</td>\n",
       "      <td>439345.000000</td>\n",
       "      <td>42160.000000</td>\n",
       "      <td>14.000000</td>\n",
       "      <td>29</td>\n",
       "    </tr>\n",
       "    <tr>\n",
       "      <th>00000574cefffeca83ec8adf9285b2bf</th>\n",
       "      <td>556.000000</td>\n",
       "      <td>476940.000000</td>\n",
       "      <td>585.000000</td>\n",
       "      <td>3.000000</td>\n",
       "      <td>371</td>\n",
       "      <td>-74</td>\n",
       "      <td>3394.000000</td>\n",
       "      <td>461506.000000</td>\n",
       "      <td>53447.000000</td>\n",
       "      <td>15.500000</td>\n",
       "      <td>171</td>\n",
       "    </tr>\n",
       "    <tr>\n",
       "      <th>000007ffedd31948f08e6c16da31f6d1</th>\n",
       "      <td>168.000000</td>\n",
       "      <td>305244.000000</td>\n",
       "      <td>1980.000000</td>\n",
       "      <td>10.000000</td>\n",
       "      <td>286</td>\n",
       "      <td>-85</td>\n",
       "      <td>3512.000000</td>\n",
       "      <td>304261.000000</td>\n",
       "      <td>53447.000000</td>\n",
       "      <td>17.000000</td>\n",
       "      <td>29</td>\n",
       "    </tr>\n",
       "    <tr>\n",
       "      <th>000008f31610018d898e5f315cdf1bd1</th>\n",
       "      <td>142.000000</td>\n",
       "      <td>953869.000000</td>\n",
       "      <td>4144.000000</td>\n",
       "      <td>10.000000</td>\n",
       "      <td>345</td>\n",
       "      <td>-85</td>\n",
       "      <td>2382.000000</td>\n",
       "      <td>936631.000000</td>\n",
       "      <td>7945.000000</td>\n",
       "      <td>15.500000</td>\n",
       "      <td>29</td>\n",
       "    </tr>\n",
       "    <tr>\n",
       "      <th>00000a3c447250626dbcc628c9cbc460</th>\n",
       "      <td>657.000000</td>\n",
       "      <td>305245.000000</td>\n",
       "      <td>2972.000000</td>\n",
       "      <td>9.000000</td>\n",
       "      <td>125</td>\n",
       "      <td>126</td>\n",
       "      <td>3224.000000</td>\n",
       "      <td>304352.000000</td>\n",
       "      <td>15521.000000</td>\n",
       "      <td>17.000000</td>\n",
       "      <td>101</td>\n",
       "    </tr>\n",
       "    <tr>\n",
       "      <th>00000b6bf217ec9aef0f68d5c6705897</th>\n",
       "      <td>-1.000000</td>\n",
       "      <td>-1.000000</td>\n",
       "      <td>2668.000000</td>\n",
       "      <td>-1.000000</td>\n",
       "      <td>134</td>\n",
       "      <td>75</td>\n",
       "      <td>-1.000000</td>\n",
       "      <td>-1.000000</td>\n",
       "      <td>53447.000000</td>\n",
       "      <td>15.500000</td>\n",
       "      <td>21</td>\n",
       "    </tr>\n",
       "    <tr>\n",
       "      <th>00000b8d3776b13e93ad83676a28e4aa</th>\n",
       "      <td>-1.000000</td>\n",
       "      <td>476940.000000</td>\n",
       "      <td>-1.000000</td>\n",
       "      <td>15.000000</td>\n",
       "      <td>192</td>\n",
       "      <td>-17</td>\n",
       "      <td>3514.000000</td>\n",
       "      <td>476479.000000</td>\n",
       "      <td>53447.000000</td>\n",
       "      <td>23.203125</td>\n",
       "      <td>177</td>\n",
       "    </tr>\n",
       "  </tbody>\n",
       "</table>\n",
       "</div>"
      ],
      "text/plain": [
       "                                  Census_FirmwareManufacturerIdentifier  \\\n",
       "MachineIdentifier                                                         \n",
       "0000010489e3af074adeac69c53e555e                             807.000000   \n",
       "00000176ac758d54827acd545b6315a5                             554.000000   \n",
       "0000019dcefc128c2d4387c1273dae1d                             556.000000   \n",
       "0000055553dc51b1295785415f1a224d                             628.000000   \n",
       "00000574cefffeca83ec8adf9285b2bf                             556.000000   \n",
       "000007ffedd31948f08e6c16da31f6d1                             168.000000   \n",
       "000008f31610018d898e5f315cdf1bd1                             142.000000   \n",
       "00000a3c447250626dbcc628c9cbc460                             657.000000   \n",
       "00000b6bf217ec9aef0f68d5c6705897                              -1.000000   \n",
       "00000b8d3776b13e93ad83676a28e4aa                              -1.000000   \n",
       "\n",
       "                                  Census_PrimaryDiskTotalCapacity  \\\n",
       "MachineIdentifier                                                   \n",
       "0000010489e3af074adeac69c53e555e                    488386.000000   \n",
       "00000176ac758d54827acd545b6315a5                   1907729.000000   \n",
       "0000019dcefc128c2d4387c1273dae1d                     29820.000000   \n",
       "0000055553dc51b1295785415f1a224d                    476940.000000   \n",
       "00000574cefffeca83ec8adf9285b2bf                    476940.000000   \n",
       "000007ffedd31948f08e6c16da31f6d1                    305244.000000   \n",
       "000008f31610018d898e5f315cdf1bd1                    953869.000000   \n",
       "00000a3c447250626dbcc628c9cbc460                    305245.000000   \n",
       "00000b6bf217ec9aef0f68d5c6705897                        -1.000000   \n",
       "00000b8d3776b13e93ad83676a28e4aa                    476940.000000   \n",
       "\n",
       "                                  Census_OEMNameIdentifier  \\\n",
       "MachineIdentifier                                            \n",
       "0000010489e3af074adeac69c53e555e               2688.000000   \n",
       "00000176ac758d54827acd545b6315a5               2206.000000   \n",
       "0000019dcefc128c2d4387c1273dae1d                585.000000   \n",
       "0000055553dc51b1295785415f1a224d               2668.000000   \n",
       "00000574cefffeca83ec8adf9285b2bf                585.000000   \n",
       "000007ffedd31948f08e6c16da31f6d1               1980.000000   \n",
       "000008f31610018d898e5f315cdf1bd1               4144.000000   \n",
       "00000a3c447250626dbcc628c9cbc460               2972.000000   \n",
       "00000b6bf217ec9aef0f68d5c6705897               2668.000000   \n",
       "00000b8d3776b13e93ad83676a28e4aa                 -1.000000   \n",
       "\n",
       "                                  Wdft_RegionIdentifier  \\\n",
       "MachineIdentifier                                         \n",
       "0000010489e3af074adeac69c53e555e               7.000000   \n",
       "00000176ac758d54827acd545b6315a5              12.000000   \n",
       "0000019dcefc128c2d4387c1273dae1d              11.000000   \n",
       "0000055553dc51b1295785415f1a224d              10.000000   \n",
       "00000574cefffeca83ec8adf9285b2bf               3.000000   \n",
       "000007ffedd31948f08e6c16da31f6d1              10.000000   \n",
       "000008f31610018d898e5f315cdf1bd1              10.000000   \n",
       "00000a3c447250626dbcc628c9cbc460               9.000000   \n",
       "00000b6bf217ec9aef0f68d5c6705897              -1.000000   \n",
       "00000b8d3776b13e93ad83676a28e4aa              15.000000   \n",
       "\n",
       "                                  Census_OSBuildRevision  \\\n",
       "MachineIdentifier                                          \n",
       "0000010489e3af074adeac69c53e555e                    1387   \n",
       "00000176ac758d54827acd545b6315a5                     611   \n",
       "0000019dcefc128c2d4387c1273dae1d                    2189   \n",
       "0000055553dc51b1295785415f1a224d                     371   \n",
       "00000574cefffeca83ec8adf9285b2bf                     371   \n",
       "000007ffedd31948f08e6c16da31f6d1                     286   \n",
       "000008f31610018d898e5f315cdf1bd1                     345   \n",
       "00000a3c447250626dbcc628c9cbc460                     125   \n",
       "00000b6bf217ec9aef0f68d5c6705897                     134   \n",
       "00000b8d3776b13e93ad83676a28e4aa                     192   \n",
       "\n",
       "                                  LocaleEnglishNameIdentifier  \\\n",
       "MachineIdentifier                                               \n",
       "0000010489e3af074adeac69c53e555e                           42   \n",
       "00000176ac758d54827acd545b6315a5                           74   \n",
       "0000019dcefc128c2d4387c1273dae1d                           -5   \n",
       "0000055553dc51b1295785415f1a224d                          -85   \n",
       "00000574cefffeca83ec8adf9285b2bf                          -74   \n",
       "000007ffedd31948f08e6c16da31f6d1                          -85   \n",
       "000008f31610018d898e5f315cdf1bd1                          -85   \n",
       "00000a3c447250626dbcc628c9cbc460                          126   \n",
       "00000b6bf217ec9aef0f68d5c6705897                           75   \n",
       "00000b8d3776b13e93ad83676a28e4aa                          -17   \n",
       "\n",
       "                                  Census_ProcessorModelIdentifier  \\\n",
       "MachineIdentifier                                                   \n",
       "0000010489e3af074adeac69c53e555e                      3064.000000   \n",
       "00000176ac758d54827acd545b6315a5                      3410.000000   \n",
       "0000019dcefc128c2d4387c1273dae1d                      2096.000000   \n",
       "0000055553dc51b1295785415f1a224d                      1985.000000   \n",
       "00000574cefffeca83ec8adf9285b2bf                      3394.000000   \n",
       "000007ffedd31948f08e6c16da31f6d1                      3512.000000   \n",
       "000008f31610018d898e5f315cdf1bd1                      2382.000000   \n",
       "00000a3c447250626dbcc628c9cbc460                      3224.000000   \n",
       "00000b6bf217ec9aef0f68d5c6705897                        -1.000000   \n",
       "00000b8d3776b13e93ad83676a28e4aa                      3514.000000   \n",
       "\n",
       "                                  Census_SystemVolumeTotalCapacity  \\\n",
       "MachineIdentifier                                                    \n",
       "0000010489e3af074adeac69c53e555e                     123179.000000   \n",
       "00000176ac758d54827acd545b6315a5                    1882352.000000   \n",
       "0000019dcefc128c2d4387c1273dae1d                      28678.000000   \n",
       "0000055553dc51b1295785415f1a224d                     439345.000000   \n",
       "00000574cefffeca83ec8adf9285b2bf                     461506.000000   \n",
       "000007ffedd31948f08e6c16da31f6d1                     304261.000000   \n",
       "000008f31610018d898e5f315cdf1bd1                     936631.000000   \n",
       "00000a3c447250626dbcc628c9cbc460                     304352.000000   \n",
       "00000b6bf217ec9aef0f68d5c6705897                         -1.000000   \n",
       "00000b8d3776b13e93ad83676a28e4aa                     476479.000000   \n",
       "\n",
       "                                  AVProductStatesIdentifier  \\\n",
       "MachineIdentifier                                             \n",
       "0000010489e3af074adeac69c53e555e               53447.000000   \n",
       "00000176ac758d54827acd545b6315a5               53447.000000   \n",
       "0000019dcefc128c2d4387c1273dae1d               49480.000000   \n",
       "0000055553dc51b1295785415f1a224d               42160.000000   \n",
       "00000574cefffeca83ec8adf9285b2bf               53447.000000   \n",
       "000007ffedd31948f08e6c16da31f6d1               53447.000000   \n",
       "000008f31610018d898e5f315cdf1bd1                7945.000000   \n",
       "00000a3c447250626dbcc628c9cbc460               15521.000000   \n",
       "00000b6bf217ec9aef0f68d5c6705897               53447.000000   \n",
       "00000b8d3776b13e93ad83676a28e4aa               53447.000000   \n",
       "\n",
       "                                  Census_InternalPrimaryDiagonalDisplaySizeInInches  \\\n",
       "MachineIdentifier                                                                     \n",
       "0000010489e3af074adeac69c53e555e                                          15.500000   \n",
       "00000176ac758d54827acd545b6315a5                                          15.500000   \n",
       "0000019dcefc128c2d4387c1273dae1d                                          13.898438   \n",
       "0000055553dc51b1295785415f1a224d                                          14.000000   \n",
       "00000574cefffeca83ec8adf9285b2bf                                          15.500000   \n",
       "000007ffedd31948f08e6c16da31f6d1                                          17.000000   \n",
       "000008f31610018d898e5f315cdf1bd1                                          15.500000   \n",
       "00000a3c447250626dbcc628c9cbc460                                          17.000000   \n",
       "00000b6bf217ec9aef0f68d5c6705897                                          15.500000   \n",
       "00000b8d3776b13e93ad83676a28e4aa                                          23.203125   \n",
       "\n",
       "                                  CountryIdentifier  \n",
       "MachineIdentifier                                    \n",
       "0000010489e3af074adeac69c53e555e                 43  \n",
       "00000176ac758d54827acd545b6315a5                 68  \n",
       "0000019dcefc128c2d4387c1273dae1d                201  \n",
       "0000055553dc51b1295785415f1a224d                 29  \n",
       "00000574cefffeca83ec8adf9285b2bf                171  \n",
       "000007ffedd31948f08e6c16da31f6d1                 29  \n",
       "000008f31610018d898e5f315cdf1bd1                 29  \n",
       "00000a3c447250626dbcc628c9cbc460                101  \n",
       "00000b6bf217ec9aef0f68d5c6705897                 21  \n",
       "00000b8d3776b13e93ad83676a28e4aa                177  "
      ]
     },
     "execution_count": 30,
     "metadata": {},
     "output_type": "execute_result"
    }
   ],
   "source": [
    "X.head(10)"
   ]
  },
  {
   "cell_type": "code",
   "execution_count": 29,
   "metadata": {},
   "outputs": [],
   "source": [
    "# Predict using Model 0\n",
    "y_pred = log_reg.predict_proba(X)[:,1]\n",
    "res = pd.DataFrame(y_pred)\n",
    "res.index = X.index # for comparison\n",
    "res.columns = [\"HasDetections\"]\n",
    "res.to_csv(\"model0_op.csv\", chunksize=1000000)"
   ]
  },
  {
   "cell_type": "markdown",
   "metadata": {},
   "source": [
    "##### Prediction using Model 1 (Logistic Regression)"
   ]
  },
  {
   "cell_type": "code",
   "execution_count": 16,
   "metadata": {},
   "outputs": [],
   "source": [
    "import joblib\n",
    "log_reg = joblib.load('log_reg_clean_data.sav')"
   ]
  },
  {
   "cell_type": "code",
   "execution_count": 17,
   "metadata": {},
   "outputs": [],
   "source": [
    "# Predict using Model 1\n",
    "y_pred = log_reg.predict_proba(X)[:,1]\n",
    "res = pd.DataFrame(y_pred)\n",
    "res.index = X.index # for comparison\n",
    "res.columns = [\"HasDetections\"]\n",
    "res.to_csv(\"model1_op.csv\", chunksize=1000000)"
   ]
  },
  {
   "cell_type": "code",
   "execution_count": 18,
   "metadata": {},
   "outputs": [],
   "source": [
    "del log_reg"
   ]
  },
  {
   "cell_type": "markdown",
   "metadata": {},
   "source": [
    "##### Prediction using Model 2 (Random Forests)\n"
   ]
  },
  {
   "cell_type": "code",
   "execution_count": 21,
   "metadata": {},
   "outputs": [],
   "source": [
    "import joblib\n",
    "rf = joblib.load('random_forest_clean_data.sav')"
   ]
  },
  {
   "cell_type": "code",
   "execution_count": 22,
   "metadata": {},
   "outputs": [
    {
     "name": "stderr",
     "output_type": "stream",
     "text": [
      "[Parallel(n_jobs=1)]: Using backend SequentialBackend with 1 concurrent workers.\n",
      "[Parallel(n_jobs=1)]: Done   1 out of   1 | elapsed:    4.6s remaining:    0.0s\n",
      "[Parallel(n_jobs=1)]: Done   2 out of   2 | elapsed:    9.0s remaining:    0.0s\n",
      "[Parallel(n_jobs=1)]: Done  25 out of  25 | elapsed:  1.7min finished\n"
     ]
    }
   ],
   "source": [
    "# Predict using Model 2\n",
    "y_pred = rf.predict_proba(X)[:,1]\n",
    "res = pd.DataFrame(y_pred)\n",
    "res.index = X.index # for comparison\n",
    "res.columns = [\"HasDetections\"]\n",
    "res.to_csv(\"model2_op.csv\", chunksize=1000000)"
   ]
  },
  {
   "cell_type": "markdown",
   "metadata": {
    "id": "wVkK-WfdV73b"
   },
   "source": [
    "Public Score: 0.60060 ( Random Forests )\n",
    "\n",
    "Private Score: 0.55837 ( Random Forests )\n",
    "\n",
    "Kaggle profile link: https://www.kaggle.com/sanketgoutam\n",
    "\n",
    "Screenshot(s):\n"
   ]
  },
  {
   "cell_type": "code",
   "execution_count": 31,
   "metadata": {},
   "outputs": [
    {
     "data": {
      "image/png": "[encoded data removed]",
      "text/plain": [
       "<IPython.core.display.Image object>"
      ]
     },
     "execution_count": 31,
     "metadata": {},
     "output_type": "execute_result"
    }
   ],
   "source": [
    "from IPython.display import Image\n",
    "Image(filename='screenshot.png')"
   ]
  }
 ],
 "metadata": {
  "colab": {
   "collapsed_sections": [],
   "name": "cse519_hw2_bond_james_123456789.ipynb",
   "provenance": []
  },
  "kernelspec": {
   "display_name": "Python 3",
   "language": "python",
   "name": "python3"
  },
  "language_info": {
   "codemirror_mode": {
    "name": "ipython",
    "version": 3
   },
   "file_extension": ".py",
   "mimetype": "text/x-python",
   "name": "python",
   "nbconvert_exporter": "python",
   "pygments_lexer": "ipython3",
   "version": "3.8.8"
  }
 },
 "nbformat": 4,
 "nbformat_minor": 1
}
